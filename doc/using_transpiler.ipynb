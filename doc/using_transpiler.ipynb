{
 "cells": [
  {
   "cell_type": "markdown",
   "metadata": {},
   "source": [
    "## MonarQ's transpiler\n",
    "\n",
    "MonarQ's transpiler is typically used behind the scene when you use the \"monarq.default\" device"
   ]
  },
  {
   "cell_type": "code",
   "execution_count": 1,
   "metadata": {},
   "outputs": [
    {
     "name": "stdout",
     "output_type": "stream",
     "text": [
      "Detected IPython. Loading juliacall extension. See https://juliapy.github.io/PythonCall.jl/stable/compat/#IPython\n"
     ]
    }
   ],
   "source": [
    "from pennylane_snowflurry.API.client import MonarqClient\n",
    "from pennylane_snowflurry.transpiler.config import MonarqDefaultConfig\n",
    "from pennylane_snowflurry.transpiler.steps import ISMAGS\n",
    "import pennylane as qml"
   ]
  },
  {
   "cell_type": "code",
   "execution_count": 2,
   "metadata": {},
   "outputs": [
    {
     "name": "stdout",
     "output_type": "stream",
     "text": [
      "{'000': 357, '001': 37, '010': 71, '011': 57, '100': 77, '101': 36, '110': 99, '111': 266}\n"
     ]
    }
   ],
   "source": [
    "client = MonarqClient(\"your host\", \"your user\", \"your access token\", \"your project\")\n",
    "\n",
    "# no configuration argument => config is set to MonarqDefaultConfig\n",
    "dev = qml.device(\"monarq.default\", shots=1000, client=client) \n",
    "\n",
    "@qml.qnode(dev)\n",
    "def circuit():\n",
    "    qml.Hadamard(0)\n",
    "    qml.CNOT([0, 1])\n",
    "    qml.CNOT([1, 2])\n",
    "    return qml.counts(wires=[0, 1, 2])\n",
    "\n",
    "results = circuit()\n",
    "print(results)"
   ]
  },
  {
   "cell_type": "markdown",
   "metadata": {},
   "source": [
    "The usual behaviour of the transpiler is the following : \n",
    "1. decompose the circuit to the clifford + T gate set\n",
    "2. map the circuit to the machine's topology using a pathfinding heuristic\n",
    "3. route the unconnected 2 qubit gates using swaps\n",
    "4. optimize by decomposing iteratively to RX, RZ and CZ, commuting, merging and cancelling inverses and trivial gates\n",
    "5. decomposing to MonarQ's native gate set"
   ]
  },
  {
   "cell_type": "markdown",
   "metadata": {},
   "source": [
    "It is possible to change the behaviour of the transpiler by changing steps, or adding new ones"
   ]
  },
  {
   "cell_type": "code",
   "execution_count": null,
   "metadata": {},
   "outputs": [],
   "source": [
    "from pennylane_snowflurry.transpiler.steps import ReadoutErrorMitigation\n",
    "\n",
    "my_config = MonarqDefaultConfig() # this is the usual behaviour\n",
    "\n",
    "ismags_placement = ISMAGS() # this is an alternative placement method that uses subgraph isomorphism\n",
    "\n",
    "my_config.steps[1] = ismags_placement # the placement step is 2nd. change it for the new one\n",
    "my_config.steps.append(ReadoutErrorMitigation())\n",
    "dev = qml.device(\"monarq.default\", shots=1000, client=client, behaviour_config=my_config) # set the config explicitely"
   ]
  },
  {
   "cell_type": "markdown",
   "metadata": {},
   "source": [
    "You can also use the transpiler in a standalone manner if need be. "
   ]
  },
  {
   "cell_type": "code",
   "execution_count": 8,
   "metadata": {},
   "outputs": [],
   "source": [
    "from pennylane_snowflurry.transpiler import PreProcessor\n",
    "from pennylane.tape import QuantumTape"
   ]
  },
  {
   "cell_type": "code",
   "execution_count": 9,
   "metadata": {},
   "outputs": [
    {
     "data": {
      "text/plain": [
       "[H(0), CNOT(wires=[0, 1])]"
      ]
     },
     "execution_count": 9,
     "metadata": {},
     "output_type": "execute_result"
    }
   ],
   "source": [
    "# create a QuantumTape (this is one way to do it, but you can also retrieve it from a QNode)\n",
    "\n",
    "ops = [qml.Hadamard(0), qml.CNOT([0, 1])]\n",
    "measurements = [qml.counts(wires=[0, 1])]\n",
    "shots = 1000\n",
    "\n",
    "tape = QuantumTape(ops=ops, measurements=measurements, shots=shots)\n",
    "\n",
    "tape.operations\n"
   ]
  },
  {
   "cell_type": "code",
   "execution_count": 10,
   "metadata": {},
   "outputs": [
    {
     "data": {
      "text/plain": [
       "[X90(wires=[0]), X90(wires=[4]), Z(4), CZ(wires=[0, 4]), X90(wires=[4])]"
      ]
     },
     "execution_count": 10,
     "metadata": {},
     "output_type": "execute_result"
    }
   ],
   "source": [
    "# configure and run the transpiler\n",
    "\n",
    "config = MonarqDefaultConfig(use_benchmark=False)\n",
    "transpiler = PreProcessor.get_processor(config, [0, 1])\n",
    "\n",
    "# since the transpiler function is a transform, you have to index [0][0] in order to get the resulting tape\n",
    "tape = transpiler(tape)[0][0]\n",
    "\n",
    "tape.operations"
   ]
  }
 ],
 "metadata": {
  "kernelspec": {
   "display_name": "Python 3",
   "language": "python",
   "name": "python3"
  },
  "language_info": {
   "codemirror_mode": {
    "name": "ipython",
    "version": 3
   },
   "file_extension": ".py",
   "mimetype": "text/x-python",
   "name": "python",
   "nbconvert_exporter": "python",
   "pygments_lexer": "ipython3",
   "version": "3.12.5"
  }
 },
 "nbformat": 4,
 "nbformat_minor": 2
}
