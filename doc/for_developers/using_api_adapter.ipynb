{
 "cells": [
  {
   "cell_type": "markdown",
   "metadata": {},
   "source": [
    "## ApiAdapter\n",
    "\n",
    "ApiAdapter has a couple of helpful utility functions for getting information out of Thunderhead programmatically. \n",
    "\n",
    "Here's how one would use ApiAdapter directly"
   ]
  },
  {
   "cell_type": "markdown",
   "metadata": {},
   "source": [
    "Imports"
   ]
  },
  {
   "cell_type": "code",
   "execution_count": 2,
   "metadata": {},
   "outputs": [
    {
     "name": "stdout",
     "output_type": "stream",
     "text": [
      "Detected IPython. Loading juliacall extension. See https://juliapy.github.io/PythonCall.jl/stable/compat/#IPython\n"
     ]
    },
    {
     "name": "stderr",
     "output_type": "stream",
     "text": [
      "c:\\Users\\bouch\\AppData\\Local\\Programs\\Python\\Python312\\Lib\\site-packages\\pennylane\\__init__.py:200: PennyLaneDeprecationWarning: Device will no longer be accessible top level. Please access the class as pennylane.devices.LegacyDevice\n",
      "  warn(\n"
     ]
    }
   ],
   "source": [
    "from pennylane_calculquebec.API.adapter import ApiAdapter\n",
    "from pennylane_calculquebec.API.client import MonarqClient"
   ]
  },
  {
   "cell_type": "markdown",
   "metadata": {},
   "source": [
    "Initialize ApiAdapter with a client object, containing your informations\n",
    "\n",
    "host, user and access_token must be configured with your own informations"
   ]
  },
  {
   "cell_type": "code",
   "execution_count": null,
   "metadata": {},
   "outputs": [],
   "source": [
    "# change values in the parentheses for your credentials\n",
    "my_client = MonarqClient(\"your host\", \"your user\", \"your access token\", \"your project\")\n",
    "\n",
    "# this is typically done behind the scene in the monarq.default device. \n",
    "# Since we're not using the device here, we need to do it explicitely\n",
    "ApiAdapter.initialize(my_client)"
   ]
  },
  {
   "cell_type": "markdown",
   "metadata": {},
   "source": [
    "An example of useful method is ```get_qubits_and_couplers```, which returns latest benchmarks for qubits and couplers"
   ]
  },
  {
   "cell_type": "code",
   "execution_count": 4,
   "metadata": {},
   "outputs": [
    {
     "name": "stdout",
     "output_type": "stream",
     "text": [
      "{'0': {'readoutState0Fidelity': 0.97, 'readoutState1Fidelity': 0.821, 'singleQubitGateFidelity': 0.9982814081021721, 't1': 6.01428105501347e-06, 't2Echo': 3.770898474202085e-06, 't2Ramsey': 6.7844378802770695e-06}, '1': {'readoutState0Fidelity': 0.929, 'readoutState1Fidelity': 0.909, 'singleQubitGateFidelity': 0.9978611018190813, 't1': 6.128078273823985e-06, 't2Echo': 3.0421805738496045e-06, 't2Ramsey': 1.5620660324981514e-06}, '10': {'readoutState0Fidelity': 0, 'readoutState1Fidelity': 0, 'singleQubitGateFidelity': 0, 't1': 0, 't2Echo': 0, 't2Ramsey': 0}, '11': {'readoutState0Fidelity': 0, 'readoutState1Fidelity': 0, 'singleQubitGateFidelity': 0, 't1': 0, 't2Echo': 0, 't2Ramsey': 0}, '12': {'readoutState0Fidelity': 0.972, 'readoutState1Fidelity': 0.775, 'singleQubitGateFidelity': 0.9976718216752923, 't1': 1.1948400000000007e-05, 't2Echo': 3.252317641088996e-06, 't2Ramsey': 1.4879581575345734e-06}, '13': {'readoutState0Fidelity': 0.934, 'readoutState1Fidelity': 0.818, 'singleQubitGateFidelity': 0.9970520261183451, 't1': 1.038220341215098e-05, 't2Echo': 2.4986421447312525e-06, 't2Ramsey': 8.707318292372206e-07}, '14': {'readoutState0Fidelity': 0, 'readoutState1Fidelity': 0, 'singleQubitGateFidelity': 0, 't1': 0, 't2Echo': 0, 't2Ramsey': 0}, '15': {'readoutState0Fidelity': 0, 'readoutState1Fidelity': 0, 'singleQubitGateFidelity': 0, 't1': 0, 't2Echo': 0, 't2Ramsey': 0}, '16': {'readoutState0Fidelity': 0, 'readoutState1Fidelity': 0, 'singleQubitGateFidelity': 0, 't1': 0, 't2Echo': 0, 't2Ramsey': 0}, '17': {'readoutState0Fidelity': 0, 'readoutState1Fidelity': 0, 'singleQubitGateFidelity': 0, 't1': 0, 't2Echo': 0, 't2Ramsey': 0}, '18': {'readoutState0Fidelity': 0, 'readoutState1Fidelity': 0, 'singleQubitGateFidelity': 0, 't1': 0, 't2Echo': 0, 't2Ramsey': 0}, '19': {'readoutState0Fidelity': 0, 'readoutState1Fidelity': 0, 'singleQubitGateFidelity': 0, 't1': 0, 't2Echo': 0, 't2Ramsey': 0}, '2': {'readoutState0Fidelity': 0.978, 'readoutState1Fidelity': 0.862, 'singleQubitGateFidelity': 0.9964833377478641, 't1': 1.0077600000000005e-05, 't2Echo': 3.266427718295267e-06, 't2Ramsey': 1.0027838273322417e-06}, '20': {'readoutState0Fidelity': 0, 'readoutState1Fidelity': 0, 'singleQubitGateFidelity': 0, 't1': 0, 't2Echo': 0, 't2Ramsey': 0}, '21': {'readoutState0Fidelity': 0, 'readoutState1Fidelity': 0, 'singleQubitGateFidelity': 0, 't1': 0, 't2Echo': 0, 't2Ramsey': 0}, '22': {'readoutState0Fidelity': 0, 'readoutState1Fidelity': 0, 'singleQubitGateFidelity': 0, 't1': 0, 't2Echo': 0, 't2Ramsey': 0}, '23': {'readoutState0Fidelity': 0, 'readoutState1Fidelity': 0, 'singleQubitGateFidelity': 0, 't1': 0, 't2Echo': 0, 't2Ramsey': 0}, '3': {'readoutState0Fidelity': 0, 'readoutState1Fidelity': 0, 'singleQubitGateFidelity': 0, 't1': 0, 't2Echo': 0, 't2Ramsey': 0}, '4': {'readoutState0Fidelity': 0.954, 'readoutState1Fidelity': 0.807, 'singleQubitGateFidelity': 0.9979704985784132, 't1': 9.454000000000005e-06, 't2Echo': 3.2619329337979787e-06, 't2Ramsey': 5.194654051845565e-06}, '5': {'readoutState0Fidelity': 0.96, 'readoutState1Fidelity': 0.796, 'singleQubitGateFidelity': 0.9977556210401504, 't1': 9.92703421241762e-06, 't2Echo': 3.0389732006107927e-06, 't2Ramsey': 1.6259483038131084e-06}, '6': {'readoutState0Fidelity': 0, 'readoutState1Fidelity': 0, 'singleQubitGateFidelity': 0, 't1': 0, 't2Echo': 0, 't2Ramsey': 0}, '7': {'readoutState0Fidelity': 0, 'readoutState1Fidelity': 0, 'singleQubitGateFidelity': 0, 't1': 0, 't2Echo': 0, 't2Ramsey': 0}, '8': {'readoutState0Fidelity': 0.982, 'readoutState1Fidelity': 0.875, 'singleQubitGateFidelity': 0.995641079766664, 't1': 7.092324416115725e-06, 't2Echo': 3.403353323818065e-06, 't2Ramsey': 1.3514804996020841e-06}, '9': {'readoutState0Fidelity': 0.963, 'readoutState1Fidelity': 0.901, 'singleQubitGateFidelity': 0.9955825055025334, 't1': 9.507980001406552e-06, 't2Echo': 2.255053129115287e-06, 't2Ramsey': 1.7136623348122696e-06}}\n",
      "{'0': {'czGateFidelity': 0.9456574025625567}, '1': {'czGateFidelity': 0.964086847311285}, '10': {'czGateFidelity': 0}, '11': {'czGateFidelity': 0}, '12': {'czGateFidelity': 0}, '13': {'czGateFidelity': 0}, '14': {'czGateFidelity': 0.9723060760518619}, '15': {'czGateFidelity': 0.9514801673796651}, '16': {'czGateFidelity': 0.9627747826140924}, '17': {'czGateFidelity': 0}, '18': {'czGateFidelity': 0}, '19': {'czGateFidelity': 0}, '2': {'czGateFidelity': 0.9584818210082663}, '20': {'czGateFidelity': 0}, '21': {'czGateFidelity': 0}, '22': {'czGateFidelity': 0}, '23': {'czGateFidelity': 0}, '24': {'czGateFidelity': 0}, '25': {'czGateFidelity': 0}, '26': {'czGateFidelity': 0}, '27': {'czGateFidelity': 0}, '28': {'czGateFidelity': 0}, '29': {'czGateFidelity': 0}, '3': {'czGateFidelity': 0.9409482287032152}, '30': {'czGateFidelity': 0}, '31': {'czGateFidelity': 0}, '32': {'czGateFidelity': 0}, '33': {'czGateFidelity': 0}, '34': {'czGateFidelity': 0}, '4': {'czGateFidelity': 0}, '5': {'czGateFidelity': 0}, '6': {'czGateFidelity': 0}, '7': {'czGateFidelity': 0.9264990819748266}, '8': {'czGateFidelity': 0.9718329245497327}, '9': {'czGateFidelity': 0.9671227754844716}}\n"
     ]
    },
    {
     "data": {
      "text/plain": [
       "'2024-12-03T13:05:58.424Z'"
      ]
     },
     "execution_count": 4,
     "metadata": {},
     "output_type": "execute_result"
    }
   ],
   "source": [
    "# get benchmark information for qubits and couplers\n",
    "benchmark = ApiAdapter.get_qubits_and_couplers()\n",
    "print(benchmark[\"qubits\"])\n",
    "print(benchmark[\"couplers\"])\n",
    "\n",
    "# get the date of the last benchmark\n",
    "complete_benchmark = ApiAdapter.get_benchmark()\n",
    "complete_benchmark[\"timeStamp\"]"
   ]
  },
  {
   "cell_type": "markdown",
   "metadata": {},
   "source": [
    "Please note that ApiAdapter is a development class, and should typically not be needed unless you have very specific applications"
   ]
  }
 ],
 "metadata": {
  "kernelspec": {
   "display_name": "Python 3",
   "language": "python",
   "name": "python3"
  },
  "language_info": {
   "codemirror_mode": {
    "name": "ipython",
    "version": 3
   },
   "file_extension": ".py",
   "mimetype": "text/x-python",
   "name": "python",
   "nbconvert_exporter": "python",
   "pygments_lexer": "ipython3",
   "version": "3.12.5"
  }
 },
 "nbformat": 4,
 "nbformat_minor": 2
}
