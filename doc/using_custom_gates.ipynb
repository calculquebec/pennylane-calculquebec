{
 "cells": [
  {
   "cell_type": "markdown",
   "metadata": {},
   "source": [
    "## Custom gates\n",
    "\n",
    "This plugin provides a set of custom gates that you can use in order to express your quantum circuits in MonarQ's native gate set. \n",
    "\n",
    "Here are the operations from MonarQ's native gate set : "
   ]
  },
  {
   "cell_type": "code",
   "execution_count": null,
   "metadata": {},
   "outputs": [],
   "source": [
    "# this section is for initializing the document's code\n",
    "\n",
    "\n",
    "# import custom gates\n",
    "import pennylane_snowflurry.processing.custom_gates as custom\n",
    "\n",
    "# import pennylane-specific functions\n",
    "import pennylane as qml\n",
    "import numpy as np\n",
    "from pennylane.operation import Operation\n",
    "\n",
    "dev = qml.device(\"default.qubit\")\n",
    "\n",
    "def print_matrix(op : Operation):\n",
    "    print(op.name + \" : \")\n",
    "    print(f\"{op.matrix()}\\n\")"
   ]
  },
  {
   "cell_type": "markdown",
   "metadata": {},
   "source": [
    "### one qubit gates"
   ]
  },
  {
   "cell_type": "code",
   "execution_count": 13,
   "metadata": {},
   "outputs": [
    {
     "name": "stdout",
     "output_type": "stream",
     "text": [
      "PauliX : \n",
      "[[0 1]\n",
      " [1 0]]\n",
      "\n",
      "PauliZ : \n",
      "[[ 1  0]\n",
      " [ 0 -1]]\n",
      "\n",
      "PauliY : \n",
      "[[ 0.+0.j -0.-1.j]\n",
      " [ 0.+1.j  0.+0.j]]\n",
      "\n",
      "Z90 : \n",
      "[[0.70710678-0.70710678j 0.        +0.j        ]\n",
      " [0.        +0.j         0.70710678+0.70710678j]]\n",
      "\n",
      "ZM90 : \n",
      "[[0.70710678+0.70710678j 0.        +0.j        ]\n",
      " [0.        +0.j         0.70710678-0.70710678j]]\n",
      "\n",
      "Z90 : \n",
      "[[0.70710678-0.70710678j 0.        +0.j        ]\n",
      " [0.        +0.j         0.70710678+0.70710678j]]\n",
      "\n",
      "ZM90 : \n",
      "[[0.70710678+0.70710678j 0.        +0.j        ]\n",
      " [0.        +0.j         0.70710678-0.70710678j]]\n",
      "\n",
      "Y90 : \n",
      "[[ 0.70710678+0.j -0.70710678-0.j]\n",
      " [ 0.70710678+0.j  0.70710678+0.j]]\n",
      "\n",
      "YM90 : \n",
      "[[ 0.70710678+0.j  0.70710678-0.j]\n",
      " [-0.70710678+0.j  0.70710678+0.j]]\n",
      "\n",
      "T : \n",
      "[[1.        +0.j         0.        +0.j        ]\n",
      " [0.        +0.j         0.70710678+0.70710678j]]\n",
      "\n",
      "TDagger : \n",
      "[[1.        +0.j         0.        +0.j        ]\n",
      " [0.        +0.j         0.70710678-0.70710678j]]\n",
      "\n",
      "PhaseShift : \n",
      "[[ 1. +0.j         0. +0.j       ]\n",
      " [ 0. +0.j        -0.5+0.8660254j]]\n",
      "\n"
     ]
    }
   ],
   "source": [
    "# a pi rad rotation around the X axis (has the effect of an amplitude flip)\n",
    "x = qml.PauliX(0) \n",
    "print_matrix(x)\n",
    "\n",
    "# a pi rad rotation around the Z axis (has the effect of a phase flip)\n",
    "z = qml.PauliZ(0)\n",
    "print_matrix(z)\n",
    "\n",
    "# a pi rad rotation around the Y axis (has the effect of combining a X and a Z)\n",
    "y = qml.PauliY(0) \n",
    "print_matrix(y)\n",
    "\n",
    "# a pi/2 rad rotation around the Z axis\n",
    "z90 = custom.Z90(0)\n",
    "print_matrix(z90)\n",
    "\n",
    "# a -pi/2 rad rotation around the Z axis\n",
    "zm90 = custom.ZM90(0)\n",
    "print_matrix(zm90)\n",
    "\n",
    "# a pi/2 rad rotation around the X axis\n",
    "x90 = custom.X90(0)\n",
    "print_matrix(z90)\n",
    "\n",
    "# a -pi/2 rad rotation around the X axis\n",
    "xm90 = custom.XM90(0)\n",
    "print_matrix(zm90)\n",
    "\n",
    "# a pi/2 rad rotation around the Y axis\n",
    "y90 = custom.Y90(0)\n",
    "print_matrix(y90)\n",
    "\n",
    "# a -pi/2 rad rotation around the Y axis\n",
    "ym90 = custom.YM90(0)\n",
    "print_matrix(ym90)\n",
    "\n",
    "# a pi/4 rad rotation around the Z axis\n",
    "t = qml.T(0)\n",
    "print_matrix(t)\n",
    "\n",
    "# a -pi/4 rad rotation around the Z axis\n",
    "tdag = custom.TDagger(0)\n",
    "print_matrix(tdag)\n",
    "\n",
    "# an arbitrary rotation around the Z axis\n",
    "p = qml.PhaseShift(2*np.pi/3, 0)\n",
    "print_matrix(p)"
   ]
  },
  {
   "cell_type": "markdown",
   "metadata": {},
   "source": [
    "### 2 qubits gates"
   ]
  },
  {
   "cell_type": "code",
   "execution_count": 14,
   "metadata": {},
   "outputs": [
    {
     "name": "stdout",
     "output_type": "stream",
     "text": [
      "CZ : \n",
      "[[ 1  0  0  0]\n",
      " [ 0  1  0  0]\n",
      " [ 0  0  1  0]\n",
      " [ 0  0  0 -1]]\n",
      "\n"
     ]
    }
   ],
   "source": [
    "# if control (leftmost) qubit is set to 1, then target (rightmost) qubit will be applied a Z operation.\n",
    "cz = qml.CZ([0, 1])\n",
    "print_matrix(cz)"
   ]
  },
  {
   "cell_type": "markdown",
   "metadata": {},
   "source": [
    "Here is an example of how you could use those operations in a circuit"
   ]
  },
  {
   "cell_type": "code",
   "execution_count": null,
   "metadata": {},
   "outputs": [],
   "source": [
    "from pennylane_snowflurry.processing.config import EmptyConfig\n",
    "from pennylane_snowflurry.API.client import MonarqClient\n",
    "\n",
    "client = MonarqClient(\"your host\", \"your user\", \"your access token\", \"your project name\")\n",
    "\n",
    "# say you want to transpile your circuit by yourself\n",
    "config = EmptyConfig() \n",
    "\n",
    "dev = qml.device(\"monarq.default\", shots=1000, client = client, processing_config = config)\n",
    "\n",
    "# This would be equivalent to a bell state (Hadamard(0), CNOT([0, 1]))\n",
    "# If we observe MonarQ's connectivity, we find that qubits 0 and 4 are adjacent\n",
    "# If we search online a bit, we find that Hadamard(i) is equivalent to RZ(pi/2, i) - RX(pi/2, i) - RZ(pi/2, i)\n",
    "# We also find that CNOT([i, j]) is equivalent to H(j) - CZ([i, j]) - H(j)\n",
    "@qml.qnode(dev)\n",
    "def circuit():\n",
    "    # native decomposition of a hadamard gate\n",
    "    custom.Z90(0)\n",
    "    custom.X90(0)\n",
    "    custom.Z90(0)\n",
    "    \n",
    "    # native decomposition of a CNOT gate\n",
    "    custom.Z90(4)\n",
    "    custom.X90(4)\n",
    "    custom.Z90(4)\n",
    "    \n",
    "    qml.CZ([0, 4])\n",
    "    \n",
    "    custom.Z90(4)\n",
    "    custom.X90(4)\n",
    "    custom.Z90(4)\n",
    "    \n",
    "    return qml.coutns(wires=[0, 4])\n",
    "\n",
    "results = circuit()\n",
    "print(circuit)"
   ]
  },
  {
   "cell_type": "markdown",
   "metadata": {},
   "source": [
    "Even though there may be scenarios where it is beneficial to bypass the transpiling capabilites of the plugin, it is strongly recommended to stick to the default configuration. You don't have to pass any configuration to the device to use the default preset."
   ]
  },
  {
   "cell_type": "code",
   "execution_count": null,
   "metadata": {},
   "outputs": [],
   "source": [
    "client = MonarqClient(\"your host\", \"your user\", \"your access token\", \"your project name\")\n",
    "\n",
    "dev = qml.device(\"monarq.default\", shots=1000, client = client)"
   ]
  }
 ],
 "metadata": {
  "kernelspec": {
   "display_name": "Python 3",
   "language": "python",
   "name": "python3"
  },
  "language_info": {
   "codemirror_mode": {
    "name": "ipython",
    "version": 3
   },
   "file_extension": ".py",
   "mimetype": "text/x-python",
   "name": "python",
   "nbconvert_exporter": "python",
   "pygments_lexer": "ipython3",
   "version": "3.12.5"
  }
 },
 "nbformat": 4,
 "nbformat_minor": 2
}
