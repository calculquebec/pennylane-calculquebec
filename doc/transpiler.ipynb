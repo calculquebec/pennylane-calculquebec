{
 "cells": [
  {
   "cell_type": "markdown",
   "metadata": {},
   "source": [
    "## MonarQ's transpiler\n",
    "\n",
    "MonarQ's transpiler is typically used behind the scene when you use the \"monarq.default\" device"
   ]
  },
  {
   "cell_type": "code",
   "execution_count": null,
   "metadata": {},
   "outputs": [],
   "source": [
    "from pennylane_snowflurry.API.api_client import MonarqClient\n",
    "from pennylane_snowflurry.transpiler.transpiler_config import MonarqDefaultConfig\n",
    "from pennylane_snowflurry.transpiler.steps.placement import ISMAGS\n",
    "import pennylane as qml\n",
    "from dotenv import dotenv_values"
   ]
  },
  {
   "cell_type": "code",
   "execution_count": null,
   "metadata": {},
   "outputs": [],
   "source": [
    "conf = dotenv_values(\".env\")\n",
    "client = MonarqClient(conf[\"HOST\"], conf[\"USER\"], conf[\"ACCESS_TOKEN\"])\n",
    "\n",
    "dev = qml.device(\"monarq.default\", shots=1000, client=client)\n",
    "\n",
    "@qml.qnode(dev)\n",
    "def circuit():\n",
    "    qml.Hadamard(0)\n",
    "    qml.CNOT([0, 1])\n",
    "    qml.CNOT([1, 2])\n",
    "    return qml.counts(wires=[0, 1, 2])\n",
    "\n",
    "results = circuit()\n",
    "print(results)"
   ]
  },
  {
   "cell_type": "markdown",
   "metadata": {},
   "source": [
    "The usual behaviour of the transpiler is the following : \n",
    "1. decompose the circuit to the clifford + T gate set\n",
    "2. map the circuit to the machine's topology using a pathfinding heuristic\n",
    "3. route the unconnected 2 qubit gates using swaps\n",
    "4. optimize by decomposing iteratively to RX, RZ and CZ, commuting, merging and cancelling inverses and trivial gates\n",
    "5. decomposing to MonarQ's native gate set"
   ]
  },
  {
   "cell_type": "markdown",
   "metadata": {},
   "source": [
    "It is possible to change the behaviour of the transpiler by changing steps, or adding new ones"
   ]
  },
  {
   "cell_type": "code",
   "execution_count": null,
   "metadata": {},
   "outputs": [],
   "source": [
    "my_config = MonarqDefaultConfig() # this is the usual behaviour\n",
    "\n",
    "ismags_placement = ISMAGS() # this is an alternative placement method that uses subgraph isomorphism\n",
    "\n",
    "my_config.steps[1] = ismags_placement # the placement step is 2nd. change it for the new one\n",
    "\n",
    "dev = qml.device(\"monarq.default\", shots=1000, client=client, behaviour_config=my_config) # set the config explicitely"
   ]
  },
  {
   "cell_type": "markdown",
   "metadata": {},
   "source": [
    "All steps that are played by default are **preprocessing** steps, but you can also add **postprocessing** steps, that act on the results instead of the circuit.\n",
    "\n",
    "The steps will be filtered according to their type automatically."
   ]
  },
  {
   "cell_type": "code",
   "execution_count": null,
   "metadata": {},
   "outputs": [],
   "source": [
    "from pennylane_snowflurry.transpiler.steps.readout_error_mitigation import ReadoutErrorMitigation\n",
    "\n",
    "readout_error_mitigation = ReadoutErrorMitigation()\n",
    "\n",
    "my_config.steps.append(readout_error_mitigation)"
   ]
  },
  {
   "cell_type": "markdown",
   "metadata": {},
   "source": [
    "You can create new preprocessing / postprocessing steps by overriding the PreProcessing / PostProcessing classes."
   ]
  },
  {
   "cell_type": "code",
   "execution_count": null,
   "metadata": {},
   "outputs": [],
   "source": [
    "# abstract steps + empty config\n",
    "from pennylane_snowflurry.transpiler.steps.interfaces.pre_processing import PreProcStep\n",
    "from pennylane_snowflurry.transpiler.steps.interfaces.post_processing import PostProcStep\n",
    "from pennylane_snowflurry.transpiler.transpiler_config import TranspilerConfig\n",
    "\n",
    "# default steps\n",
    "from pennylane_snowflurry.transpiler.steps.base_decomposition import CliffordTDecomposition\n",
    "from pennylane_snowflurry.transpiler.steps.placement import ASTAR\n",
    "from pennylane_snowflurry.transpiler.steps.routing import Swaps\n",
    "from pennylane_snowflurry.transpiler.steps.optimization import IterativeCommuteAndMerge\n",
    "from pennylane_snowflurry.transpiler.steps.native_decomposition import MonarqDecomposition"
   ]
  },
  {
   "cell_type": "code",
   "execution_count": null,
   "metadata": {},
   "outputs": [],
   "source": [
    "# toy preprocessing step for printing the circuit\n",
    "class PrintCircuit(PreProcStep):\n",
    "    def execute(self, tape):\n",
    "        print([op.name for op in tape.operations])\n",
    "        \n",
    "# toy postprocessing step for printing the results\n",
    "class PrintResults(PostProcStep):\n",
    "    def execute(self, tape, results):\n",
    "        print(results)"
   ]
  },
  {
   "cell_type": "code",
   "execution_count": null,
   "metadata": {},
   "outputs": [],
   "source": [
    "# this custom config will print the circuit, transpile, print the transpiled circuit \n",
    "# and then print the unmitigated results, followed by the mitigated results.\n",
    "my_config = TranspilerConfig(PrintCircuit(),\n",
    "                             CliffordTDecomposition(), \n",
    "                             ASTAR(),\n",
    "                             Swaps(),\n",
    "                             IterativeCommuteAndMerge(),\n",
    "                             MonarqDecomposition(), \n",
    "                             PrintCircuit(),\n",
    "                             PrintResults(),\n",
    "                             ReadoutErrorMitigation(), \n",
    "                             PrintResults())\n"
   ]
  },
  {
   "cell_type": "markdown",
   "metadata": {},
   "source": [
    "You can also use the transpiler in a standalone manner if need be. "
   ]
  },
  {
   "cell_type": "code",
   "execution_count": null,
   "metadata": {},
   "outputs": [],
   "source": [
    "from pennylane_snowflurry.transpiler.monarq_transpile import Transpiler\n",
    "from pennylane.tape import QuantumTape"
   ]
  },
  {
   "cell_type": "code",
   "execution_count": 5,
   "metadata": {},
   "outputs": [
    {
     "data": {
      "text/plain": [
       "[H(0), CNOT(wires=[0, 1])]"
      ]
     },
     "execution_count": 5,
     "metadata": {},
     "output_type": "execute_result"
    }
   ],
   "source": [
    "# create a QuantumTape (this is one way to do it, but you can also retrieve it from a QNode)\n",
    "\n",
    "ops = [qml.Hadamard(0), qml.CNOT([0, 1])]\n",
    "measurements = [qml.counts(wires=[0, 1])]\n",
    "shots = 1000\n",
    "\n",
    "tape = QuantumTape(ops=ops, measurements=measurements, shots=shots)\n",
    "\n",
    "tape.operations\n"
   ]
  },
  {
   "cell_type": "code",
   "execution_count": 6,
   "metadata": {},
   "outputs": [
    {
     "data": {
      "text/plain": [
       "[X90(wires=[0]), X90(wires=[4]), Z(4), CZ(wires=[0, 4]), X90(wires=[4])]"
      ]
     },
     "execution_count": 6,
     "metadata": {},
     "output_type": "execute_result"
    }
   ],
   "source": [
    "# configure and run the transpiler\n",
    "\n",
    "config = MonarqDefaultConfig(use_benchmark=False)\n",
    "transpiler = Transpiler.get_transpiler(config)\n",
    "\n",
    "# since the transpiler function is a transform, you have to index [0][0] in order to get the resulting tape\n",
    "tape = transpiler(tape)[0][0]\n",
    "\n",
    "tape.operations"
   ]
  },
  {
   "cell_type": "markdown",
   "metadata": {},
   "source": [
    "## Steps"
   ]
  },
  {
   "cell_type": "markdown",
   "metadata": {},
   "source": [
    "The default transpiling process contained in ```MonarqDefaultConfig``` contains the following steps :\n",
    "1. **decompose** the circuit operations in a subset of operations (for simplifying subsequent operations)\n",
    "2. **map** the circuit to physical qubits in MonarQ's topology\n",
    "3. **route** 2 qubits gates which are not connected with respect to the mapping\n",
    "4. **simplify** the circuit by commuting gates, merging rotations and cancelling inverses and trivial gates\n",
    "5. **decompose** the circuit a subset of operations which are native to MonarQ"
   ]
  },
  {
   "cell_type": "markdown",
   "metadata": {},
   "source": [
    "All transpiling steps reside in ```pennylane_snowflurry.transpiler.steps.*```\n",
    "\n",
    "Steps are defined using a base class called ```BaseStep```. \n",
    "\n",
    "This class has two children, which subdivide the steps in two categories : \n",
    "- ```PreProcessing``` : steps that are applied before execution on the machine. Typically affects the circuit (through the ```QuantumTape``` class)\n",
    "- ```PostProcessing``` : steps that are applied after execution on the machine. Typically affects the results."
   ]
  },
  {
   "cell_type": "markdown",
   "metadata": {},
   "source": [
    "It is possible to define new transpiling or postprocessing steps by overriding the ```PreProcessing```or ```PostProcessing``` classes as so : "
   ]
  },
  {
   "cell_type": "code",
   "execution_count": null,
   "metadata": {},
   "outputs": [],
   "source": [
    "from pennylane_snowflurry.transpiler.steps.interfaces.pre_processing import PreProcStep\n",
    "from pennylane_snowflurry.transpiler.steps.interfaces.post_processing import PostProcStep\n",
    "\n",
    "# this step will be executed in the transpiler\n",
    "class MyPreProcessingStep(PreProcStep):\n",
    "    def execute(self, tape):\n",
    "        # define your own behaviour here\n",
    "        return super().execute(tape) # return your modified tape here\n",
    "\n",
    "# this step will be executed in the post-processor\n",
    "class MyPostProcessingStep(PostProcStep):\n",
    "\n",
    "    def execute(self, tape : QuantumTape, results : dict[str, int]):\n",
    "        return super().execute(tape, results)"
   ]
  }
 ],
 "metadata": {
  "kernelspec": {
   "display_name": "Python 3",
   "language": "python",
   "name": "python3"
  },
  "language_info": {
   "codemirror_mode": {
    "name": "ipython",
    "version": 3
   },
   "file_extension": ".py",
   "mimetype": "text/x-python",
   "name": "python",
   "nbconvert_exporter": "python",
   "pygments_lexer": "ipython3",
   "version": "3.12.5"
  }
 },
 "nbformat": 4,
 "nbformat_minor": 2
}
