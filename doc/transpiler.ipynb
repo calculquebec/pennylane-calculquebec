{
 "cells": [
  {
   "cell_type": "markdown",
   "metadata": {},
   "source": [
    "## MonarQ's transpiler\n",
    "\n",
    "MonarQ's transpiler is typically used behind the scene when you use the \"monarq.default\" device, but you can also use it in a standalone manner if need be. "
   ]
  },
  {
   "cell_type": "code",
   "execution_count": 2,
   "metadata": {},
   "outputs": [],
   "source": [
    "from pennylane_snowflurry.transpiler.monarq_transpile import Transpiler\n",
    "from pennylane_snowflurry.transpiler.transpiler_config import MonarqDefaultConfig\n",
    "from pennylane.tape import QuantumTape\n",
    "import pennylane as qml"
   ]
  },
  {
   "cell_type": "code",
   "execution_count": 5,
   "metadata": {},
   "outputs": [
    {
     "data": {
      "text/plain": [
       "[H(0), CNOT(wires=[0, 1])]"
      ]
     },
     "execution_count": 5,
     "metadata": {},
     "output_type": "execute_result"
    }
   ],
   "source": [
    "# create a QuantumTape (this is one way to do it, but you can also retrieve it from a QNode)\n",
    "\n",
    "ops = [qml.Hadamard(0), qml.CNOT([0, 1])]\n",
    "measurements = [qml.counts(wires=[0, 1])]\n",
    "shots = 1000\n",
    "\n",
    "tape = QuantumTape(ops=ops, measurements=measurements, shots=shots)\n",
    "\n",
    "tape.operations\n"
   ]
  },
  {
   "cell_type": "code",
   "execution_count": 6,
   "metadata": {},
   "outputs": [
    {
     "data": {
      "text/plain": [
       "[X90(wires=[0]), X90(wires=[4]), Z(4), CZ(wires=[0, 4]), X90(wires=[4])]"
      ]
     },
     "execution_count": 6,
     "metadata": {},
     "output_type": "execute_result"
    }
   ],
   "source": [
    "# configure and run the transpiler\n",
    "\n",
    "config = MonarqDefaultConfig(use_benchmark=False)\n",
    "transpiler = Transpiler.get_transpiler(config)\n",
    "\n",
    "# since the transpiler function is a transform, you have to index [0][0] in order to get the resulting tape\n",
    "tape = transpiler(tape)[0][0]\n",
    "\n",
    "tape.operations"
   ]
  },
  {
   "cell_type": "markdown",
   "metadata": {},
   "source": [
    "## Steps"
   ]
  },
  {
   "cell_type": "markdown",
   "metadata": {},
   "source": [
    "The default transpiling process contained in ```MonarqDefaultConfig``` contains the following steps :\n",
    "1. **decompose** the circuit operations in a subset of operations (for simplifying subsequent operations)\n",
    "2. **map** the circuit to physical qubits in MonarQ's topology\n",
    "3. **route** 2 qubits gates which are not connected with respect to the mapping\n",
    "4. **simplify** the circuit by commuting gates, merging rotations and cancelling inverses and trivial gates\n",
    "5. **decompose** the circuit a subset of operations which are native to MonarQ"
   ]
  },
  {
   "cell_type": "markdown",
   "metadata": {},
   "source": [
    "All transpiling steps reside in ```pennylane_snowflurry.transpiler.steps.*```\n",
    "\n",
    "Steps are defined using a base class called ```BaseStep```. \n",
    "\n",
    "This class has two children, which subdivide the steps in two categories : \n",
    "- ```PreProcessing``` : steps that are applied before execution on the machine. Typically affects the circuit (through the ```QuantumTape``` class)\n",
    "- ```PostProcessing``` : steps that are applied after execution on the machine. Typically affects the results."
   ]
  },
  {
   "cell_type": "markdown",
   "metadata": {},
   "source": [
    "It is possible to define new transpiling or postprocessing steps by overriding the ```PreProcessing```or ```PostProcessing``` classes as so : "
   ]
  },
  {
   "cell_type": "code",
   "execution_count": null,
   "metadata": {},
   "outputs": [],
   "source": [
    "from pennylane_snowflurry.transpiler.steps.interfaces.pre_processing import PreProcStep\n",
    "from pennylane_snowflurry.transpiler.steps.interfaces.post_processing import PostProcStep\n",
    "\n",
    "# this step will be executed in the transpiler\n",
    "class MyPreProcessingStep(PreProcStep):\n",
    "    def execute(self, tape):\n",
    "        # define your own behaviour here\n",
    "        return super().execute(tape) # return your modified tape here\n",
    "\n",
    "# this step will be executed in the post-processor\n",
    "class MyPostProcessingStep(PostProcStep):\n",
    "\n",
    "    def execute(self, tape : QuantumTape, results : dict[str, int]):\n",
    "        return super().execute(tape, results)"
   ]
  }
 ],
 "metadata": {
  "kernelspec": {
   "display_name": "Python 3",
   "language": "python",
   "name": "python3"
  },
  "language_info": {
   "codemirror_mode": {
    "name": "ipython",
    "version": 3
   },
   "file_extension": ".py",
   "mimetype": "text/x-python",
   "name": "python",
   "nbconvert_exporter": "python",
   "pygments_lexer": "ipython3",
   "version": "3.12.5"
  }
 },
 "nbformat": 4,
 "nbformat_minor": 2
}
