{
 "cells": [
  {
   "cell_type": "markdown",
   "metadata": {},
   "source": [
    "## ApiAdapter\n",
    "\n",
    "ApiAdapter has a couple of helpful utility functions for getting information out of Thunderhead programmatically. \n",
    "\n",
    "Here's how one would use ApiAdapter directly"
   ]
  },
  {
   "cell_type": "markdown",
   "metadata": {},
   "source": [
    "Imports"
   ]
  },
  {
   "cell_type": "code",
   "execution_count": 2,
   "metadata": {},
   "outputs": [],
   "source": [
    "from pennylane_snowflurry.API.api_adapter import ApiAdapter\n",
    "from pennylane_snowflurry.API.api_client import MonarqClient\n",
    "from dotenv import dotenv_values\n",
    "import json"
   ]
  },
  {
   "cell_type": "markdown",
   "metadata": {},
   "source": [
    "Initialize ApiAdapter with a client object, containing your informations\n",
    "\n",
    "host, user and access_token must be configured with your own informations"
   ]
  },
  {
   "cell_type": "code",
   "execution_count": 4,
   "metadata": {},
   "outputs": [],
   "source": [
    "# this line is optional if you don't use .env files to stock your credentials\n",
    "conf = dotenv_values(\".env\")\n",
    "\n",
    "# change values in the parentheses for your credentials\n",
    "client = MonarqClient(conf[\"HOST\"], conf[\"USER\"], conf[\"ACCESS_TOKEN\"], conf[\"PROJECT_NAME\"])\n",
    "\n",
    "# this is typically done behind the scene in the monarq.default device. \n",
    "ApiAdapter.initialize(client)"
   ]
  },
  {
   "cell_type": "markdown",
   "metadata": {},
   "source": [
    "An example of useful method is ```get_qubits_and_couplers```, which returns latest benchmarks for qubits and couplers"
   ]
  },
  {
   "cell_type": "code",
   "execution_count": null,
   "metadata": {},
   "outputs": [
    {
     "name": "stdout",
     "output_type": "stream",
     "text": [
      "{'0': {'readoutState0Fidelity': 0.989, 'readoutState1Fidelity': 0.862, 'singleQubitGateFidelity': 0.9977938982195108, 't1': 4.334584191176295e-06, 't2Echo': 4.189761540274499e-06, 't2Ramsey': 2.977414595325585e-06}, '1': {'readoutState0Fidelity': 0.857, 'readoutState1Fidelity': 0.874, 'singleQubitGateFidelity': 0.996308379149061, 't1': 7.938800775280567e-06, 't2Echo': 3.1542323601075883e-06, 't2Ramsey': 1.0954257081020552e-06}, '10': {'readoutState0Fidelity': 0, 'readoutState1Fidelity': 0, 'singleQubitGateFidelity': 0, 't1': 0, 't2Echo': 0, 't2Ramsey': 0}, '11': {'readoutState0Fidelity': 0, 'readoutState1Fidelity': 0, 'singleQubitGateFidelity': 0, 't1': 0, 't2Echo': 0, 't2Ramsey': 0}, '12': {'readoutState0Fidelity': 0.963, 'readoutState1Fidelity': 0.757, 'singleQubitGateFidelity': 0.9978009414271833, 't1': 9.587309934854907e-06, 't2Echo': 3.379694227667678e-06, 't2Ramsey': 2.3313880714289958e-06}, '13': {'readoutState0Fidelity': 0, 'readoutState1Fidelity': 0, 'singleQubitGateFidelity': 0, 't1': 0, 't2Echo': 0, 't2Ramsey': 0}, '14': {'readoutState0Fidelity': 0, 'readoutState1Fidelity': 0, 'singleQubitGateFidelity': 0, 't1': 0, 't2Echo': 0, 't2Ramsey': 0}, '15': {'readoutState0Fidelity': 0, 'readoutState1Fidelity': 0, 'singleQubitGateFidelity': 0, 't1': 0, 't2Echo': 0, 't2Ramsey': 0}, '16': {'readoutState0Fidelity': 0, 'readoutState1Fidelity': 0, 'singleQubitGateFidelity': 0, 't1': 0, 't2Echo': 0, 't2Ramsey': 0}, '17': {'readoutState0Fidelity': 0, 'readoutState1Fidelity': 0, 'singleQubitGateFidelity': 0, 't1': 0, 't2Echo': 0, 't2Ramsey': 0}, '18': {'readoutState0Fidelity': 0, 'readoutState1Fidelity': 0, 'singleQubitGateFidelity': 0, 't1': 0, 't2Echo': 0, 't2Ramsey': 0}, '19': {'readoutState0Fidelity': 0, 'readoutState1Fidelity': 0, 'singleQubitGateFidelity': 0, 't1': 0, 't2Echo': 0, 't2Ramsey': 0}, '2': {'readoutState0Fidelity': 0.972, 'readoutState1Fidelity': 0.858, 'singleQubitGateFidelity': 0.9969870713830495, 't1': 1.3882223021535191e-05, 't2Echo': 3.5861838098472465e-06, 't2Ramsey': 1.0174818934049464e-06}, '20': {'readoutState0Fidelity': 0, 'readoutState1Fidelity': 0, 'singleQubitGateFidelity': 0, 't1': 0, 't2Echo': 0, 't2Ramsey': 0}, '21': {'readoutState0Fidelity': 0, 'readoutState1Fidelity': 0, 'singleQubitGateFidelity': 0, 't1': 0, 't2Echo': 0, 't2Ramsey': 0}, '22': {'readoutState0Fidelity': 0, 'readoutState1Fidelity': 0, 'singleQubitGateFidelity': 0, 't1': 0, 't2Echo': 0, 't2Ramsey': 0}, '23': {'readoutState0Fidelity': 0, 'readoutState1Fidelity': 0, 'singleQubitGateFidelity': 0, 't1': 0, 't2Echo': 0, 't2Ramsey': 0}, '3': {'readoutState0Fidelity': 0, 'readoutState1Fidelity': 0, 'singleQubitGateFidelity': 0, 't1': 0, 't2Echo': 0, 't2Ramsey': 0}, '4': {'readoutState0Fidelity': 0.973, 'readoutState1Fidelity': 0.823, 'singleQubitGateFidelity': 0.9971332867409832, 't1': 1.0077600000000005e-05, 't2Echo': 2.7105976498181345e-06, 't2Ramsey': 1.470431786474448e-05}, '5': {'readoutState0Fidelity': 0.932, 'readoutState1Fidelity': 0.84, 'singleQubitGateFidelity': 0.9974913750913843, 't1': 9.145916523010587e-06, 't2Echo': 2.703514223831511e-06, 't2Ramsey': 1.447772880884838e-06}, '6': {'readoutState0Fidelity': 0, 'readoutState1Fidelity': 0, 'singleQubitGateFidelity': 0, 't1': 0, 't2Echo': 0, 't2Ramsey': 0}, '7': {'readoutState0Fidelity': 0, 'readoutState1Fidelity': 0, 'singleQubitGateFidelity': 0, 't1': 0, 't2Echo': 0, 't2Ramsey': 0}, '8': {'readoutState0Fidelity': 0.982, 'readoutState1Fidelity': 0.907, 'singleQubitGateFidelity': 0.9981362743332493, 't1': 7.9366050199747e-06, 't2Echo': 3.3196594059107783e-06, 't2Ramsey': 2.2210850728232765e-06}, '9': {'readoutState0Fidelity': 0.965, 'readoutState1Fidelity': 0.881, 'singleQubitGateFidelity': 0.9940192827718292, 't1': 8.373781649045525e-06, 't2Echo': 1.9577999898948564e-06, 't2Ramsey': 7.02353368460369e-07}}\n",
      "{'0': {'czGateFidelity': 0.9711842140382932}, '1': {'czGateFidelity': 0.9737410039701146}, '10': {'czGateFidelity': 0}, '11': {'czGateFidelity': 0}, '12': {'czGateFidelity': 0}, '13': {'czGateFidelity': 0}, '14': {'czGateFidelity': 0.9620215473423283}, '15': {'czGateFidelity': 0.9315437625854748}, '16': {'czGateFidelity': 0}, '17': {'czGateFidelity': 0}, '18': {'czGateFidelity': 0}, '19': {'czGateFidelity': 0}, '2': {'czGateFidelity': 0.9789509279816578}, '20': {'czGateFidelity': 0}, '21': {'czGateFidelity': 0}, '22': {'czGateFidelity': 0}, '23': {'czGateFidelity': 0}, '24': {'czGateFidelity': 0}, '25': {'czGateFidelity': 0}, '26': {'czGateFidelity': 0}, '27': {'czGateFidelity': 0}, '28': {'czGateFidelity': 0}, '29': {'czGateFidelity': 0}, '3': {'czGateFidelity': 0.9266644705324993}, '30': {'czGateFidelity': 0}, '31': {'czGateFidelity': 0}, '32': {'czGateFidelity': 0}, '33': {'czGateFidelity': 0}, '34': {'czGateFidelity': 0}, '4': {'czGateFidelity': 0}, '5': {'czGateFidelity': 0}, '6': {'czGateFidelity': 0}, '7': {'czGateFidelity': 0.9605298328711005}, '8': {'czGateFidelity': 0.96197379691804}, '9': {'czGateFidelity': 0.9666989348630299}}\n"
     ]
    },
    {
     "data": {
      "text/plain": [
       "'2024-11-25T11:08:47.89Z'"
      ]
     },
     "execution_count": 5,
     "metadata": {},
     "output_type": "execute_result"
    }
   ],
   "source": [
    "# get benchmark information for qubits and couplers\n",
    "benchmark = ApiAdapter.get_qubits_and_couplers()\n",
    "print(benchmark[\"qubits\"])\n",
    "print(benchmark[\"couplers\"])\n",
    "\n",
    "# get the date of the last benchmark\n",
    "complete_benchmark = json.loads(ApiAdapter.get_benchmark().text)\n",
    "complete_benchmark[\"timeStamp\"]"
   ]
  },
  {
   "cell_type": "markdown",
   "metadata": {},
   "source": [
    "Please note that ApiAdapter is a development class, and should typically not be needed unless you have very specific applications"
   ]
  }
 ],
 "metadata": {
  "kernelspec": {
   "display_name": "Python 3",
   "language": "python",
   "name": "python3"
  },
  "language_info": {
   "codemirror_mode": {
    "name": "ipython",
    "version": 3
   },
   "file_extension": ".py",
   "mimetype": "text/x-python",
   "name": "python",
   "nbconvert_exporter": "python",
   "pygments_lexer": "ipython3",
   "version": "3.12.5"
  }
 },
 "nbformat": 4,
 "nbformat_minor": 2
}
