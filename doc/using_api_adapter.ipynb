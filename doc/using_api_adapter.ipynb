{
 "cells": [
  {
   "cell_type": "markdown",
   "metadata": {},
   "source": [
    "## ApiAdapter\n",
    "\n",
    "ApiAdapter has a couple of helpful utility functions for getting information out of Thunderhead programmatically. \n",
    "\n",
    "Here's how one would use ApiAdapter directly"
   ]
  },
  {
   "cell_type": "markdown",
   "metadata": {},
   "source": [
    "Imports"
   ]
  },
  {
   "cell_type": "code",
   "execution_count": null,
   "metadata": {},
   "outputs": [
    {
     "name": "stdout",
     "output_type": "stream",
     "text": [
      "Detected IPython. Loading juliacall extension. See https://juliapy.github.io/PythonCall.jl/stable/compat/#IPython\n"
     ]
    }
   ],
   "source": [
    "from pennylane_snowflurry.API.adapter import ApiAdapter\n",
    "from pennylane_snowflurry.API.client import MonarqClient\n",
    "import json"
   ]
  },
  {
   "cell_type": "markdown",
   "metadata": {},
   "source": [
    "Initialize ApiAdapter with a client object, containing your informations\n",
    "\n",
    "host, user and access_token must be configured with your own informations"
   ]
  },
  {
   "cell_type": "code",
   "execution_count": null,
   "metadata": {},
   "outputs": [],
   "source": [
    "# change values in the parentheses for your credentials\n",
    "client = MonarqClient(\"your host\", \"your user\", \"your access token\", \"your project\")\n",
    "\n",
    "# this is typically done behind the scene in the monarq.default device. \n",
    "ApiAdapter.initialize(client)"
   ]
  },
  {
   "cell_type": "markdown",
   "metadata": {},
   "source": [
    "An example of useful method is ```get_qubits_and_couplers```, which returns latest benchmarks for qubits and couplers"
   ]
  },
  {
   "cell_type": "code",
   "execution_count": 3,
   "metadata": {},
   "outputs": [
    {
     "name": "stdout",
     "output_type": "stream",
     "text": [
      "{'0': {'readoutState0Fidelity': 0.986, 'readoutState1Fidelity': 0.892, 'singleQubitGateFidelity': 0.9973822427008187, 't1': 4.912770690722798e-06, 't2Echo': 4.276761834835381e-06, 't2Ramsey': 1.511444551014835e-06}, '1': {'readoutState0Fidelity': 0.953, 'readoutState1Fidelity': 0.9, 'singleQubitGateFidelity': 0.9976790862721715, 't1': 9.909952927992657e-06, 't2Echo': 3.3987759469601565e-06, 't2Ramsey': 1.46443419989372e-06}, '10': {'readoutState0Fidelity': 0, 'readoutState1Fidelity': 0, 'singleQubitGateFidelity': 0, 't1': 0, 't2Echo': 0, 't2Ramsey': 0}, '11': {'readoutState0Fidelity': 0, 'readoutState1Fidelity': 0, 'singleQubitGateFidelity': 0, 't1': 0, 't2Echo': 0, 't2Ramsey': 0}, '12': {'readoutState0Fidelity': 0.956, 'readoutState1Fidelity': 0.81, 'singleQubitGateFidelity': 0.9982169368209939, 't1': 1.0075551969992954e-05, 't2Echo': 3.2769926119688762e-06, 't2Ramsey': 1.183147344495224e-06}, '13': {'readoutState0Fidelity': 0, 'readoutState1Fidelity': 0, 'singleQubitGateFidelity': 0, 't1': 0, 't2Echo': 0, 't2Ramsey': 0}, '14': {'readoutState0Fidelity': 0, 'readoutState1Fidelity': 0, 'singleQubitGateFidelity': 0, 't1': 0, 't2Echo': 0, 't2Ramsey': 0}, '15': {'readoutState0Fidelity': 0, 'readoutState1Fidelity': 0, 'singleQubitGateFidelity': 0, 't1': 0, 't2Echo': 0, 't2Ramsey': 0}, '16': {'readoutState0Fidelity': 0, 'readoutState1Fidelity': 0, 'singleQubitGateFidelity': 0, 't1': 0, 't2Echo': 0, 't2Ramsey': 0}, '17': {'readoutState0Fidelity': 0, 'readoutState1Fidelity': 0, 'singleQubitGateFidelity': 0, 't1': 0, 't2Echo': 0, 't2Ramsey': 0}, '18': {'readoutState0Fidelity': 0, 'readoutState1Fidelity': 0, 'singleQubitGateFidelity': 0, 't1': 0, 't2Echo': 0, 't2Ramsey': 0}, '19': {'readoutState0Fidelity': 0, 'readoutState1Fidelity': 0, 'singleQubitGateFidelity': 0, 't1': 0, 't2Echo': 0, 't2Ramsey': 0}, '2': {'readoutState0Fidelity': 0.965, 'readoutState1Fidelity': 0.889, 'singleQubitGateFidelity': 0.996270918175212, 't1': 1.0604164807267557e-05, 't2Echo': 3.568903894725348e-06, 't2Ramsey': 8.749123272787335e-07}, '20': {'readoutState0Fidelity': 0, 'readoutState1Fidelity': 0, 'singleQubitGateFidelity': 0, 't1': 0, 't2Echo': 0, 't2Ramsey': 0}, '21': {'readoutState0Fidelity': 0, 'readoutState1Fidelity': 0, 'singleQubitGateFidelity': 0, 't1': 0, 't2Echo': 0, 't2Ramsey': 0}, '22': {'readoutState0Fidelity': 0, 'readoutState1Fidelity': 0, 'singleQubitGateFidelity': 0, 't1': 0, 't2Echo': 0, 't2Ramsey': 0}, '23': {'readoutState0Fidelity': 0, 'readoutState1Fidelity': 0, 'singleQubitGateFidelity': 0, 't1': 0, 't2Echo': 0, 't2Ramsey': 0}, '3': {'readoutState0Fidelity': 0, 'readoutState1Fidelity': 0, 'singleQubitGateFidelity': 0, 't1': 0, 't2Echo': 0, 't2Ramsey': 0}, '4': {'readoutState0Fidelity': 0.943, 'readoutState1Fidelity': 0.807, 'singleQubitGateFidelity': 0.9982254877172942, 't1': 1.1948400000000007e-05, 't2Echo': 4.037049151922545e-06, 't2Ramsey': 2.70169024956404e-06}, '5': {'readoutState0Fidelity': 0.958, 'readoutState1Fidelity': 0.827, 'singleQubitGateFidelity': 0.9978350104773237, 't1': 9.528127745429336e-06, 't2Echo': 1.624280726059297e-06, 't2Ramsey': 8.042783829461766e-07}, '6': {'readoutState0Fidelity': 0, 'readoutState1Fidelity': 0, 'singleQubitGateFidelity': 0, 't1': 0, 't2Echo': 0, 't2Ramsey': 0}, '7': {'readoutState0Fidelity': 0, 'readoutState1Fidelity': 0, 'singleQubitGateFidelity': 0, 't1': 0, 't2Echo': 0, 't2Ramsey': 0}, '8': {'readoutState0Fidelity': 0.979, 'readoutState1Fidelity': 0.91, 'singleQubitGateFidelity': 0.9965953999262038, 't1': 6.854757092664861e-06, 't2Echo': 3.294308320252885e-06, 't2Ramsey': 1.5377899359179778e-06}, '9': {'readoutState0Fidelity': 0.958, 'readoutState1Fidelity': 0.898, 'singleQubitGateFidelity': 0.9953752854664035, 't1': 8.56386579725611e-06, 't2Echo': 1.909418363801793e-06, 't2Ramsey': 8.639123426483472e-07}}\n",
      "{'0': {'czGateFidelity': 0.9669683816077288}, '1': {'czGateFidelity': 0.9757859650671245}, '10': {'czGateFidelity': 0}, '11': {'czGateFidelity': 0}, '12': {'czGateFidelity': 0}, '13': {'czGateFidelity': 0}, '14': {'czGateFidelity': 0.9703397671518963}, '15': {'czGateFidelity': 0.9533646339546618}, '16': {'czGateFidelity': 0}, '17': {'czGateFidelity': 0}, '18': {'czGateFidelity': 0}, '19': {'czGateFidelity': 0}, '2': {'czGateFidelity': 0.9737022678066399}, '20': {'czGateFidelity': 0}, '21': {'czGateFidelity': 0}, '22': {'czGateFidelity': 0}, '23': {'czGateFidelity': 0}, '24': {'czGateFidelity': 0}, '25': {'czGateFidelity': 0}, '26': {'czGateFidelity': 0}, '27': {'czGateFidelity': 0}, '28': {'czGateFidelity': 0}, '29': {'czGateFidelity': 0}, '3': {'czGateFidelity': 0.9330332137699175}, '30': {'czGateFidelity': 0}, '31': {'czGateFidelity': 0}, '32': {'czGateFidelity': 0}, '33': {'czGateFidelity': 0}, '34': {'czGateFidelity': 0}, '4': {'czGateFidelity': 0}, '5': {'czGateFidelity': 0}, '6': {'czGateFidelity': 0}, '7': {'czGateFidelity': 0.9667319690894352}, '8': {'czGateFidelity': 0.95734968759031}, '9': {'czGateFidelity': 0.9644848793285898}}\n"
     ]
    },
    {
     "data": {
      "text/plain": [
       "'2024-11-27T10:56:29.049Z'"
      ]
     },
     "execution_count": 3,
     "metadata": {},
     "output_type": "execute_result"
    }
   ],
   "source": [
    "# get benchmark information for qubits and couplers\n",
    "benchmark = ApiAdapter.get_qubits_and_couplers()\n",
    "print(benchmark[\"qubits\"])\n",
    "print(benchmark[\"couplers\"])\n",
    "\n",
    "# get the date of the last benchmark\n",
    "complete_benchmark = json.loads(ApiAdapter.get_benchmark().text)\n",
    "complete_benchmark[\"timeStamp\"]"
   ]
  },
  {
   "cell_type": "markdown",
   "metadata": {},
   "source": [
    "Please note that ApiAdapter is a development class, and should typically not be needed unless you have very specific applications"
   ]
  }
 ],
 "metadata": {
  "kernelspec": {
   "display_name": "Python 3",
   "language": "python",
   "name": "python3"
  },
  "language_info": {
   "codemirror_mode": {
    "name": "ipython",
    "version": 3
   },
   "file_extension": ".py",
   "mimetype": "text/x-python",
   "name": "python",
   "nbconvert_exporter": "python",
   "pygments_lexer": "ipython3",
   "version": "3.12.5"
  }
 },
 "nbformat": 4,
 "nbformat_minor": 2
}
