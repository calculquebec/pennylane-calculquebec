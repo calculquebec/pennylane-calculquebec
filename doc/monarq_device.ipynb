{
 "cells": [
  {
   "cell_type": "markdown",
   "metadata": {},
   "source": [
    "# Monarq Device\n",
    "\n",
    "This document is aimed to explain what you need to know in order to use the MonarqDevice.\n",
    "\n",
    "This device lets you communicate directly with MonarQ without using Snowflurry as an intermediate. This has the advantage of loosing the need to use Julia or other time consuming precompilings and calls. The MonarqDevice is also equipped with a compiler made by Calcul Quebec, which is optimized to work on MonarQ.\n"
   ]
  },
  {
   "cell_type": "markdown",
   "metadata": {
    "vscode": {
     "languageId": "plaintext"
    }
   },
   "source": [
    "## Default usage\n",
    "\n",
    "Here is a typical workflow for using the ```monarq.default``` device : "
   ]
  },
  {
   "cell_type": "markdown",
   "metadata": {},
   "source": [
    "0. First and foremost, you have to make sure to have python version ```3.12.x``` intalled"
   ]
  },
  {
   "cell_type": "markdown",
   "metadata": {},
   "source": [
    "1. install the plugin :"
   ]
  },
  {
   "cell_type": "code",
   "execution_count": null,
   "metadata": {},
   "outputs": [],
   "source": [
    "%pip install pennylane_snowflurry"
   ]
  },
  {
   "cell_type": "code",
   "execution_count": null,
   "metadata": {},
   "outputs": [],
   "source": [
    "# alternatively, install the plugin from the cloned github repo : \n",
    "\n",
    "%git clone https://github.com/calculquebec/pennylane-snowflurry.git\n",
    "%cd pennylane-snowflurry\n",
    "%pip install -e ."
   ]
  },
  {
   "cell_type": "markdown",
   "metadata": {},
   "source": [
    "2. import dependencies :"
   ]
  },
  {
   "cell_type": "code",
   "execution_count": 9,
   "metadata": {},
   "outputs": [],
   "source": [
    "import pennylane as qml\n",
    "from pennylane_snowflurry.API.api_client import MonarqClient\n",
    "from dotenv import dotenv_values"
   ]
  },
  {
   "cell_type": "markdown",
   "metadata": {},
   "source": [
    "3. create a device using a client"
   ]
  },
  {
   "cell_type": "code",
   "execution_count": 16,
   "metadata": {},
   "outputs": [],
   "source": [
    "# this line is optional if you don't use .env files to stock your credentials\n",
    "conf = dotenv_values(\".env\")\n",
    "\n",
    "# change the values here for your credentials\n",
    "my_client = MonarqClient(conf[\"HOST\"], conf[\"USER\"], conf[\"ACCESS_TOKEN\"], conf[\"PROJECT_NAME\"]) \n",
    "dev = qml.device(\"monarq.default\", client=my_client, wires=[0, 1, 2], shots=1000)"
   ]
  },
  {
   "cell_type": "markdown",
   "metadata": {},
   "source": [
    "4. create your circuit"
   ]
  },
  {
   "cell_type": "code",
   "execution_count": 11,
   "metadata": {},
   "outputs": [],
   "source": [
    "@qml.qnode(dev)\n",
    "def circuit():\n",
    "    qml.Hadamard(0)\n",
    "    qml.CNOT([0, 1])\n",
    "    qml.CNOT([1, 2])\n",
    "    \n",
    "    return qml.counts()"
   ]
  },
  {
   "cell_type": "markdown",
   "metadata": {},
   "source": [
    "5. run your circuit and use results as you see fit"
   ]
  },
  {
   "cell_type": "code",
   "execution_count": 12,
   "metadata": {},
   "outputs": [
    {
     "name": "stdout",
     "output_type": "stream",
     "text": [
      "{'000': 353, '001': 33, '010': 49, '011': 72, '100': 176, '101': 47, '110': 76, '111': 194}\n"
     ]
    }
   ],
   "source": [
    "results = circuit()\n",
    "print(results)"
   ]
  },
  {
   "cell_type": "markdown",
   "metadata": {},
   "source": [
    "## Client\n",
    "\n",
    "In order to run jobs on Monarq, you will need to provide information to the device :\n",
    "\n",
    "- host : the url to which monarq can be communicated with.\n",
    "- user : your identifier\n",
    "- access token : the access pass that identifies you as a rightful user\n",
    "- realm : usually \"calculqc\""
   ]
  },
  {
   "cell_type": "markdown",
   "metadata": {},
   "source": [
    "in order to provide those informations to the device, you will need to store them in a ```ApiClient```. This is done by :"
   ]
  },
  {
   "cell_type": "markdown",
   "metadata": {},
   "source": [
    "- importing the client class :"
   ]
  },
  {
   "cell_type": "code",
   "execution_count": 13,
   "metadata": {},
   "outputs": [],
   "source": [
    "from pennylane_snowflurry.API.api_client import MonarqClient"
   ]
  },
  {
   "cell_type": "markdown",
   "metadata": {},
   "source": [
    "- creating a client and suplying your informations to it :"
   ]
  },
  {
   "cell_type": "code",
   "execution_count": 14,
   "metadata": {},
   "outputs": [],
   "source": [
    "my_client = MonarqClient(\"host\", \"user\", \"access_token\", \"realm\")"
   ]
  },
  {
   "cell_type": "markdown",
   "metadata": {},
   "source": [
    "- passing the client to the device :"
   ]
  },
  {
   "cell_type": "code",
   "execution_count": 15,
   "metadata": {},
   "outputs": [],
   "source": [
    "dev = qml.device(\"monarq.default\", client=my_client)"
   ]
  },
  {
   "cell_type": "markdown",
   "metadata": {},
   "source": [
    "## Configuration\n",
    "\n",
    "The default behaviour of MonarqDevice's transpiler goes as such :\n",
    "\n",
    "1. Decompose 3+ qubits gates and non-standard gates to a subset that is easier to optimize (clifford-t gates)\n",
    "2. Map the circuit's wires to the machines qubits by using the circuit's and machine's connectivity graphs\n",
    "3. If any 2+ qubit gates are not connected in given mapping, connect them using swaps\n",
    "4. Optimize the circuit (commute gates, merge rotations, remove inverses and trivial gates)\n",
    "5. Decompose non-native gates to native ones\n",
    "\n",
    "The transpiler uses benchmarks of the machine's accuracy in the placement and routing part.\n",
    "\n",
    "You can change the behaviour of the transpiler by passing a MonarqConfig object to the device. Tread carefully while using this feature because it could lead to your circuit not being ran.\n",
    "\n",
    "Here's how to do it :\n"
   ]
  },
  {
   "cell_type": "markdown",
   "metadata": {},
   "source": [
    "1. import the config and classes that interest you:"
   ]
  },
  {
   "cell_type": "code",
   "execution_count": 17,
   "metadata": {},
   "outputs": [],
   "source": [
    "from pennylane_snowflurry.transpiler.transpiler_config import MonarqDefaultConfig, TranspilerConfig\n",
    "\n",
    "from pennylane_snowflurry.transpiler.steps.base_decomposition import CliffordTDecomposition\n",
    "from pennylane_snowflurry.transpiler.steps.placement import ASTAR\n",
    "from pennylane_snowflurry.transpiler.steps.routing import Swaps\n",
    "from pennylane_snowflurry.transpiler.steps.optimization import IterativeCommuteAndMerge\n",
    "from pennylane_snowflurry.transpiler.steps.native_decomposition import MonarqDecomposition"
   ]
  },
  {
   "cell_type": "markdown",
   "metadata": {},
   "source": [
    "For simplicity, we'll store the transpiling steps in variables : "
   ]
  },
  {
   "cell_type": "code",
   "execution_count": 18,
   "metadata": {},
   "outputs": [],
   "source": [
    "base_decomp = CliffordTDecomposition()\n",
    "placement = ASTAR()\n",
    "routing = Swaps()\n",
    "optimization = IterativeCommuteAndMerge()\n",
    "native_decomp = MonarqDecomposition()"
   ]
  },
  {
   "cell_type": "markdown",
   "metadata": {},
   "source": [
    "2. create a config object and set the behaviour you want"
   ]
  },
  {
   "cell_type": "code",
   "execution_count": 19,
   "metadata": {},
   "outputs": [],
   "source": [
    "# this is the default configuration (it is used by default in monarq.default)\n",
    "default_config = MonarqDefaultConfig()\n",
    "\n",
    "# This is an equivalent config, built up by hand using the TranspilerConfig base class\n",
    "default_config = TranspilerConfig(base_decomp, placement, routing, optimization, native_decomp)\n",
    "\n",
    "# Say you are confident that your circuit is well placed and routed, you can skip those steps by creating a custom config, and not using placement / routing steps\n",
    "custom_config = TranspilerConfig(base_decomp, optimization, native_decomp)"
   ]
  },
  {
   "cell_type": "markdown",
   "metadata": {},
   "source": [
    "3. pass the config object to the device, along with the client and other arguments"
   ]
  },
  {
   "cell_type": "code",
   "execution_count": 21,
   "metadata": {},
   "outputs": [],
   "source": [
    "my_client = MonarqClient(\"host\", \"user\", \"access_token\", \"realm\")\n",
    "\n",
    "dev = qml.device(\"monarq.default\", client=my_client, behaviour_config=custom_config)"
   ]
  },
  {
   "cell_type": "markdown",
   "metadata": {},
   "source": [
    "PS. You can set the placement and routing steps not to use benchmarking if you want to. \n",
    "\n",
    "To do so, just set ```use_benchmark``` to ```False``` in the MonarqDefaultConfig's constructor"
   ]
  },
  {
   "cell_type": "code",
   "execution_count": 22,
   "metadata": {},
   "outputs": [],
   "source": [
    "my_config = MonarqDefaultConfig(False)"
   ]
  },
  {
   "cell_type": "markdown",
   "metadata": {},
   "source": [
    "Alternatively, set ```use_benchmark``` to ```False``` in the placement / routing steps"
   ]
  },
  {
   "cell_type": "code",
   "execution_count": 23,
   "metadata": {},
   "outputs": [],
   "source": [
    "placement_no_benchmark = ASTAR(use_benchmark = False)\n",
    "routing_no_benchmark = Swaps(use_benchmark = False)\n",
    "\n",
    "config_no_benchmark = TranspilerConfig(base_decomp, placement_no_benchmark, routing_no_benchmark, optimization, native_decomp)"
   ]
  },
  {
   "cell_type": "markdown",
   "metadata": {},
   "source": [
    "## Custom transpiler steps\n",
    "\n",
    "You can also create custom transpiler steps. There are two types of steps : \n",
    "- **preprocessing** : which are done on the quantum circuit before the execution on the quantum computer\n",
    "- **postprocessing** which are done on the results after the execution on the quantum computer. \n",
    "\n",
    "Here's how to define custom steps : "
   ]
  },
  {
   "cell_type": "markdown",
   "metadata": {},
   "source": [
    "1. Import the base transpiler step that interests you (in our case, we are going to use preprocessing)"
   ]
  },
  {
   "cell_type": "code",
   "execution_count": null,
   "metadata": {},
   "outputs": [],
   "source": [
    "from pennylane_snowflurry.transpiler.steps.interfaces.pre_processing import PreProcStep"
   ]
  },
  {
   "cell_type": "markdown",
   "metadata": {},
   "source": [
    "2. create a class that inherits the base step, and implement the execute function as you see fit"
   ]
  },
  {
   "cell_type": "code",
   "execution_count": null,
   "metadata": {},
   "outputs": [],
   "source": [
    "class MyCustomStep(PreProcStep):\n",
    "    def execute(self, tape):\n",
    "        \"\"\"\n",
    "        prints every operation from the tape, without altering it\n",
    "        \"\"\"\n",
    "        for op in tape.operations:\n",
    "            print(op)\n",
    "        return tape"
   ]
  },
  {
   "cell_type": "markdown",
   "metadata": {},
   "source": [
    "3. You can then add this step to your config by creating a custom config object"
   ]
  },
  {
   "cell_type": "code",
   "execution_count": 26,
   "metadata": {},
   "outputs": [],
   "source": [
    "custom_step = MyCustomStep()\n",
    "\n",
    "debug_config = TranspilerConfig(base_decomp, custom_step, placement, routing, optimization, native_decomp)"
   ]
  }
 ],
 "metadata": {
  "kernelspec": {
   "display_name": "Python 3",
   "language": "python",
   "name": "python3"
  },
  "language_info": {
   "codemirror_mode": {
    "name": "ipython",
    "version": 3
   },
   "file_extension": ".py",
   "mimetype": "text/x-python",
   "name": "python",
   "nbconvert_exporter": "python",
   "pygments_lexer": "ipython3",
   "version": "3.12.5"
  }
 },
 "nbformat": 4,
 "nbformat_minor": 2
}
