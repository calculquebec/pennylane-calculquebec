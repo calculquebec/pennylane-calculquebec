{
 "cells": [
  {
   "cell_type": "markdown",
   "metadata": {},
   "source": [
    "## Steps"
   ]
  },
  {
   "cell_type": "markdown",
   "metadata": {},
   "source": [
    "All steps that are played by default are **preprocessing** steps, but you can also add **postprocessing** steps, that act on the results instead of the circuit.\n",
    "\n",
    "The steps will be filtered according to their type automatically."
   ]
  },
  {
   "cell_type": "code",
   "execution_count": null,
   "metadata": {},
   "outputs": [],
   "source": [
    "from pennylane_snowflurry.transpiler.config import MonarqDefaultConfig\n",
    "from pennylane_snowflurry.transpiler.steps import ReadoutErrorMitigation\n",
    "\n",
    "readout_error_mitigation = ReadoutErrorMitigation()\n",
    "\n",
    "my_config = MonarqDefaultConfig()\n",
    "my_config.steps.append(readout_error_mitigation)"
   ]
  },
  {
   "cell_type": "markdown",
   "metadata": {},
   "source": [
    "You can create new preprocessing / postprocessing steps by overriding the PreProcessing / PostProcessing classes."
   ]
  },
  {
   "cell_type": "code",
   "execution_count": null,
   "metadata": {},
   "outputs": [],
   "source": [
    "# abstract steps + empty config\n",
    "from pennylane_snowflurry.transpiler.interfaces import PreProcStep, PostProcStep\n",
    "from pennylane_snowflurry.transpiler.config import TranspilerConfig\n",
    "\n",
    "# default steps\n",
    "from pennylane_snowflurry.transpiler.steps import CliffordTDecomposition, ASTAR, Swaps, IterativeCommuteAndMerge, MonarqDecomposition"
   ]
  },
  {
   "cell_type": "code",
   "execution_count": null,
   "metadata": {},
   "outputs": [],
   "source": [
    "# toy preprocessing step for printing the circuit\n",
    "class PrintCircuit(PreProcStep):\n",
    "    def execute(self, tape):\n",
    "        print([op.name for op in tape.operations])\n",
    "        \n",
    "# toy postprocessing step for printing the results\n",
    "class PrintResults(PostProcStep):\n",
    "    def execute(self, tape, results):\n",
    "        print(results)"
   ]
  },
  {
   "cell_type": "code",
   "execution_count": null,
   "metadata": {},
   "outputs": [],
   "source": [
    "# this custom config will print the circuit, transpile, print the transpiled circuit \n",
    "# and then print the unmitigated results, followed by the mitigated results.\n",
    "my_config = TranspilerConfig(PrintCircuit(),\n",
    "                             CliffordTDecomposition(), \n",
    "                             ASTAR(),\n",
    "                             Swaps(),\n",
    "                             IterativeCommuteAndMerge(),\n",
    "                             MonarqDecomposition(), \n",
    "                             PrintCircuit(),\n",
    "                             PrintResults(),\n",
    "                             ReadoutErrorMitigation(), \n",
    "                             PrintResults())\n"
   ]
  }
 ],
 "metadata": {
  "language_info": {
   "name": "python"
  }
 },
 "nbformat": 4,
 "nbformat_minor": 2
}
