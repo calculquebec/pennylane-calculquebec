{
 "cells": [
  {
   "cell_type": "markdown",
   "metadata": {},
   "source": [
    "## Steps"
   ]
  },
  {
   "cell_type": "markdown",
   "metadata": {},
   "source": [
    "All steps that are played by default are **preprocessing** steps, but you can also add **postprocessing** steps, that act on the results instead of the circuit.\n",
    "\n",
    "The steps will be filtered according to their type automatically."
   ]
  },
  {
   "cell_type": "code",
   "execution_count": 4,
   "metadata": {},
   "outputs": [],
   "source": [
    "from pennylane_calculquebec.processing.config import MonarqDefaultConfig\n",
    "from pennylane_calculquebec.processing.steps import ReadoutErrorMitigation\n",
    "\n",
    "readout_error_mitigation = ReadoutErrorMitigation()\n",
    "\n",
    "my_config = MonarqDefaultConfig()\n",
    "my_config.steps.append(readout_error_mitigation)"
   ]
  },
  {
   "cell_type": "markdown",
   "metadata": {},
   "source": [
    "You can create new preprocessing / postprocessing steps by overriding the PreProcessing / PostProcessing classes."
   ]
  },
  {
   "cell_type": "code",
   "execution_count": 5,
   "metadata": {},
   "outputs": [],
   "source": [
    "# abstract steps + empty config\n",
    "from pennylane_calculquebec.processing.interfaces import PreProcStep, PostProcStep\n",
    "from pennylane_calculquebec.processing.config import ProcessingConfig\n",
    "\n",
    "# default steps\n",
    "from pennylane_calculquebec.processing.steps import CliffordTDecomposition, ASTAR, Swaps, IterativeCommuteAndMerge, MonarqDecomposition"
   ]
  },
  {
   "cell_type": "code",
   "execution_count": 35,
   "metadata": {},
   "outputs": [],
   "source": [
    "# toy preprocessing step for printing the circuit operations\n",
    "class PrintCircuit(PreProcStep):\n",
    "    def execute(self, tape):\n",
    "        print(*tape.operations)\n",
    "        return tape\n",
    "        \n",
    "# toy postprocessing step for printing the results\n",
    "class PrintResults(PostProcStep):\n",
    "    def execute(self, tape, results):\n",
    "        print(results)\n",
    "        return results"
   ]
  },
  {
   "cell_type": "code",
   "execution_count": 36,
   "metadata": {},
   "outputs": [],
   "source": [
    "# this custom config will print the circuit, transpile, print the transpiled circuit \n",
    "# and then print the unmitigated results, followed by the mitigated results.\n",
    "my_config = ProcessingConfig(PrintCircuit(),\n",
    "                             CliffordTDecomposition(), \n",
    "                             ASTAR(),\n",
    "                             Swaps(),\n",
    "                             IterativeCommuteAndMerge(),\n",
    "                             MonarqDecomposition(), \n",
    "                             PrintCircuit(),\n",
    "                             PrintResults(),\n",
    "                             ReadoutErrorMitigation(), \n",
    "                             PrintResults())\n"
   ]
  },
  {
   "cell_type": "markdown",
   "metadata": {},
   "source": [
    "### let's try our config with custom steps"
   ]
  },
  {
   "cell_type": "code",
   "execution_count": null,
   "metadata": {},
   "outputs": [
    {
     "name": "stdout",
     "output_type": "stream",
     "text": [
      "0: ──H─╭●────┤  Counts\n",
      "1: ────╰X─╭●─┤  Counts\n",
      "2: ───────╰X─┤  Counts\n",
      "H(0) CNOT(wires=[0, 1]) CNOT(wires=[1, 2])\n",
      "X90(wires=[1]) X90(wires=[4]) Z(4) CZ(wires=[1, 4]) X90(wires=[4]) X90(wires=[0]) Z(0) CZ(wires=[4, 0]) X90(wires=[0])\n",
      "{'000': 376, '001': 38, '010': 44, '011': 58, '100': 126, '101': 65, '110': 98, '111': 195}\n",
      "{'000': 418.0, '001': 16.0, '010': 12.0, '011': 61.0, '100': 87.0, '101': 20.0, '110': 71.0, '111': 315.0}\n"
     ]
    }
   ],
   "source": [
    "import pennylane as qml\n",
    "from pennylane_calculquebec.API.client import MonarqClient\n",
    "\n",
    "# Change the values in the parentheses for your credentials\n",
    "my_client = MonarqClient(\"your host\", \"your user\", \"your access token\", \"your project\")\n",
    "\n",
    "dev = qml.device(\"monarq.default\", client=my_client, processing_config = my_config, shots=1000)\n",
    "\n",
    "# a simple ghz circuit\n",
    "@qml.qnode(dev)\n",
    "def circuit():\n",
    "    qml.Hadamard(wires=0)\n",
    "    qml.CNOT(wires=[0, 1]) \n",
    "    qml.CNOT([1, 2])\n",
    "    return qml.counts()\n",
    "\n",
    "# lets print the circuit\n",
    "print(qml.draw(circuit)())\n",
    "\n",
    "results = circuit()\n",
    "\n",
    "# you don't have to print results, since they are printed as a post processing step!\n",
    "# print(results)"
   ]
  }
 ],
 "metadata": {
  "kernelspec": {
   "display_name": "Python 3",
   "language": "python",
   "name": "python3"
  },
  "language_info": {
   "codemirror_mode": {
    "name": "ipython",
    "version": 3
   },
   "file_extension": ".py",
   "mimetype": "text/x-python",
   "name": "python",
   "nbconvert_exporter": "python",
   "pygments_lexer": "ipython3",
   "version": "3.10.11"
  }
 },
 "nbformat": 4,
 "nbformat_minor": 2
}
