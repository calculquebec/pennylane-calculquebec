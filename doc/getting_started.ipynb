{
 "cells": [
  {
   "cell_type": "markdown",
   "metadata": {},
   "source": [
    "# Monarq Device\n",
    "\n",
    "This document is aimed to explain what you need to know in order to use the MonarqDevice.\n",
    "\n",
    "This device lets you communicate directly with MonarQ without using Snowflurry as an intermediate. This has the advantage of loosing the need to use Julia or other time consuming precompilings and calls. The MonarqDevice is also equipped with a compiler made by Calcul Quebec, which is optimized to work on MonarQ.\n"
   ]
  },
  {
   "cell_type": "markdown",
   "metadata": {
    "vscode": {
     "languageId": "plaintext"
    }
   },
   "source": [
    "## Default usage\n",
    "\n",
    "Here is a typical workflow for using the ```monarq.default``` device : "
   ]
  },
  {
   "cell_type": "markdown",
   "metadata": {},
   "source": [
    "0. First and foremost, you have to make sure to have python version ```3.12.x``` intalled"
   ]
  },
  {
   "cell_type": "markdown",
   "metadata": {},
   "source": [
    "1. install the plugin (refer to the README)"
   ]
  },
  {
   "cell_type": "markdown",
   "metadata": {},
   "source": [
    "2. import dependencies :"
   ]
  },
  {
   "cell_type": "code",
   "execution_count": 1,
   "metadata": {},
   "outputs": [
    {
     "name": "stdout",
     "output_type": "stream",
     "text": [
      "Detected IPython. Loading juliacall extension. See https://juliapy.github.io/PythonCall.jl/stable/compat/#IPython\n"
     ]
    }
   ],
   "source": [
    "import pennylane as qml\n",
    "from pennylane_snowflurry.API.client import MonarqClient"
   ]
  },
  {
   "cell_type": "markdown",
   "metadata": {},
   "source": [
    "3. create a device using a client (TODO : faire un url vers un autre fichier pour le client)"
   ]
  },
  {
   "cell_type": "code",
   "execution_count": null,
   "metadata": {},
   "outputs": [],
   "source": [
    "# change the values here for your credentials\n",
    "my_client = MonarqClient(\"your host\", \"your user\", \"your access token\", \"your project\") \n",
    "\n",
    "dev = qml.device(\"monarq.default\", client=my_client, wires=[0, 1, 2], shots=1000)"
   ]
  },
  {
   "cell_type": "markdown",
   "metadata": {},
   "source": [
    "4. create your circuit"
   ]
  },
  {
   "cell_type": "code",
   "execution_count": 6,
   "metadata": {},
   "outputs": [],
   "source": [
    "@qml.qnode(dev)\n",
    "def circuit():\n",
    "    qml.Hadamard(0)\n",
    "    qml.CNOT([0, 1])\n",
    "    qml.CNOT([1, 2])\n",
    "    \n",
    "    return qml.counts()"
   ]
  },
  {
   "cell_type": "markdown",
   "metadata": {},
   "source": [
    "5. run your circuit and use results as you see fit"
   ]
  },
  {
   "cell_type": "code",
   "execution_count": 7,
   "metadata": {},
   "outputs": [
    {
     "name": "stdout",
     "output_type": "stream",
     "text": [
      "{'000': 370, '001': 28, '010': 81, '011': 67, '100': 65, '101': 29, '110': 85, '111': 275}\n"
     ]
    }
   ],
   "source": [
    "results = circuit()\n",
    "print(results)"
   ]
  }
 ],
 "metadata": {
  "kernelspec": {
   "display_name": "Python 3",
   "language": "python",
   "name": "python3"
  },
  "language_info": {
   "codemirror_mode": {
    "name": "ipython",
    "version": 3
   },
   "file_extension": ".py",
   "mimetype": "text/x-python",
   "name": "python",
   "nbconvert_exporter": "python",
   "pygments_lexer": "ipython3",
   "version": "3.12.5"
  }
 },
 "nbformat": 4,
 "nbformat_minor": 2
}
