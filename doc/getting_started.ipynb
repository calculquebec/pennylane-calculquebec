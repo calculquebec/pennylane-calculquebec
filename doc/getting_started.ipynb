{
 "cells": [
  {
   "cell_type": "markdown",
   "metadata": {},
   "source": [
    "# Monarq Device\n",
    "\n",
    "This document is aimed to explain what you need to know in order to use the MonarqDevice.\n",
    "\n",
    "This device lets you communicate directly with MonarQ without using Snowflurry as an intermediate. This has the advantage of loosing the need to use Julia or other time consuming precompilings and calls. The MonarqDevice is also equipped with a compiler made by Calcul Quebec, which is optimized to work on MonarQ.\n"
   ]
  },
  {
   "cell_type": "markdown",
   "metadata": {
    "vscode": {
     "languageId": "plaintext"
    }
   },
   "source": [
    "## Default usage\n",
    "\n",
    "Here is a typical workflow for using the ```monarq.default``` device : "
   ]
  },
  {
   "cell_type": "markdown",
   "metadata": {},
   "source": [
    "0. First and foremost, you have to make sure to have python version ```3.12.x``` intalled"
   ]
  },
  {
   "cell_type": "markdown",
   "metadata": {},
   "source": [
    "1. install the plugin (refer to the README)"
   ]
  },
  {
   "cell_type": "markdown",
   "metadata": {},
   "source": [
    "2. import dependencies :"
   ]
  },
  {
   "cell_type": "code",
   "execution_count": 1,
   "metadata": {},
   "outputs": [
    {
     "name": "stdout",
     "output_type": "stream",
     "text": [
      "Detected IPython. Loading juliacall extension. See https://juliapy.github.io/PythonCall.jl/stable/compat/#IPython\n"
     ]
    },
    {
     "name": "stderr",
     "output_type": "stream",
     "text": [
      "c:\\Users\\bouch\\AppData\\Local\\Programs\\Python\\Python312\\Lib\\site-packages\\pennylane\\__init__.py:200: PennyLaneDeprecationWarning: Device will no longer be accessible top level. Please access the class as pennylane.devices.LegacyDevice\n",
      "  warn(\n"
     ]
    }
   ],
   "source": [
    "# this line imports the pennylane library. It contains everything necessary for quantum programming\n",
    "import pennylane as qml\n",
    "\n",
    "# this line imports the client class which is required for authenticating with MonarQ\n",
    "from pennylane_snowflurry.API.client import MonarqClient"
   ]
  },
  {
   "cell_type": "markdown",
   "metadata": {},
   "source": [
    "1. create a [client](using_client.ipynb) for your device"
   ]
  },
  {
   "cell_type": "code",
   "execution_count": null,
   "metadata": {},
   "outputs": [],
   "source": [
    "\n",
    "# This is how you create a client. Change the values in the parentheses for your credentials\n",
    "# project is optional. It will be set to default if you don't specify it\n",
    "my_client = MonarqClient(\"your host\", \"your user\", \"your access token\", \"your project\")"
   ]
  },
  {
   "cell_type": "markdown",
   "metadata": {},
   "source": [
    "2. create a device using your client"
   ]
  },
  {
   "cell_type": "code",
   "execution_count": 7,
   "metadata": {},
   "outputs": [],
   "source": [
    "# If you dont set any wires or shots, MonarQ will determine the wires based on your circuit, and will do one shot. \n",
    "dev = qml.device(\"monarq.default\", client=my_client)\n",
    "\n",
    "# You can set the wire amount explicitely\n",
    "dev = qml.device(\"monarq.default\", client=my_client, wires=3) # this will set wires = [0, 1, 2]. ie 3 wires\n",
    "\n",
    "# You can set any amount of shots up to 1000\n",
    "dev = qml.device(\"monarq.default\", client=my_client, shots=512)\n",
    "\n",
    "# You can also set which wires you want to act on explicitely\n",
    "dev = qml.device(\"monarq.default\", client=my_client, wires=[0, 1, 2], shots=1000)"
   ]
  },
  {
   "cell_type": "markdown",
   "metadata": {},
   "source": [
    "4. create your circuit"
   ]
  },
  {
   "cell_type": "code",
   "execution_count": 8,
   "metadata": {},
   "outputs": [
    {
     "name": "stdout",
     "output_type": "stream",
     "text": [
      "0: ──H─╭●────┤  Counts\n",
      "1: ────╰X─╭●─┤  Counts\n",
      "2: ───────╰X─┤  Counts\n"
     ]
    }
   ],
   "source": [
    "# this line indicates that the function underneath is a quantum function (qnode)\n",
    "@qml.qnode(dev)\n",
    "# this is the name of your quantum function. It will be used later for executing your circuit\n",
    "def circuit():\n",
    "    # this is a Hadamard gate. it creates superposition.\n",
    "    qml.Hadamard(wires=0)\n",
    "    # this is a CNOT gate. it connects qubits 0 and 1. \n",
    "    qml.CNOT(wires=[0, 1]) \n",
    "    # this is also a CNOT gate, but it acts on qubits 1 and 2\n",
    "    qml.CNOT([1, 2])\n",
    "    \n",
    "    # this will measure every wire from the circuit (3 wires in this case). \n",
    "    # You can also set which wires you want to measure using the wires argument\n",
    "    # return qml.counts(wires=[0, 1]) # will measure wires 0 and 1\n",
    "    return qml.counts()\n",
    "\n",
    "# this wil show you what your circuit looks like\n",
    "print(qml.draw(circuit)())"
   ]
  },
  {
   "cell_type": "markdown",
   "metadata": {},
   "source": [
    "5. run your circuit and use results as you see fit"
   ]
  },
  {
   "cell_type": "code",
   "execution_count": 9,
   "metadata": {},
   "outputs": [
    {
     "name": "stdout",
     "output_type": "stream",
     "text": [
      "{'000': 402, '001': 38, '010': 27, '011': 55, '100': 130, '101': 47, '110': 107, '111': 194}\n"
     ]
    }
   ],
   "source": [
    "# this line runs the circuit and returns the results in the \"results\" variable\n",
    "results = circuit()\n",
    "# this line shows the results in a dictionary. \n",
    "print(results)"
   ]
  },
  {
   "cell_type": "markdown",
   "metadata": {},
   "source": [
    "## more information \n",
    "\n",
    "- [clients](using_client.ipynb)\n",
    "- [processor configs](using_configurations.ipynb)\n",
    "- [the transpiler](using_transpiler.ipynb)\n",
    "- [custom processing steps](using_custom_steps.ipynb)\n",
    "- [custom gates](using_custom_gates.ipynb)"
   ]
  }
 ],
 "metadata": {
  "kernelspec": {
   "display_name": "Python 3",
   "language": "python",
   "name": "python3"
  },
  "language_info": {
   "codemirror_mode": {
    "name": "ipython",
    "version": 3
   },
   "file_extension": ".py",
   "mimetype": "text/x-python",
   "name": "python",
   "nbconvert_exporter": "python",
   "pygments_lexer": "ipython3",
   "version": "3.12.5"
  }
 },
 "nbformat": 4,
 "nbformat_minor": 2
}
