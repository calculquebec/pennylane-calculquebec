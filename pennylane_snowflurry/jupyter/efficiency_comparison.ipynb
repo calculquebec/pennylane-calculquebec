{
 "cells": [
  {
   "cell_type": "code",
   "execution_count": null,
   "metadata": {},
   "outputs": [
    {
     "name": "stdout",
     "output_type": "stream",
     "text": [
      "Detected IPython. Loading juliacall extension. See https://juliapy.github.io/PythonCall.jl/stable/compat/#IPython\n"
     ]
    },
    {
     "name": "stderr",
     "output_type": "stream",
     "text": [
      "c:\\Users\\bouch\\AppData\\Local\\Programs\\Python\\Python312\\Lib\\site-packages\\pennylane\\__init__.py:200: PennyLaneDeprecationWarning: Device will no longer be accessible top level. Please access the class as pennylane.devices.LegacyDevice\n",
      "  warn(\n"
     ]
    }
   ],
   "source": [
    "import matplotlib.pyplot as plt\n",
    "import numpy as np\n",
    "import pennylane as qml\n",
    "from pennylane_snowflurry.utility.plotting import graph\n",
    "from pennylane_snowflurry.utility.debug import SnowflurryUtility, arbitrary_circuit\n",
    "from pennylane_snowflurry.processing import PreProcessor\n",
    "from pennylane_snowflurry.processing.config import MonarqDefaultConfig\n",
    "from pennylane_snowflurry.processing.steps import VF2\n",
    "from pennylane_snowflurry.API.adapter import ApiAdapter\n",
    "from pennylane_snowflurry.API.client import MonarqClient\n",
    "from dotenv import dotenv_values"
   ]
  },
  {
   "cell_type": "code",
   "execution_count": 11,
   "metadata": {},
   "outputs": [],
   "source": [
    "env = dotenv_values(\".env\")\n",
    "\n",
    "dev = qml.device(\"default.qubit\", shots=1000)\n",
    "\n",
    "def circuit(size : int):\n",
    "    qml.Hadamard(0)\n",
    "    for n in range(0, size - 1):\n",
    "        qml.CNOT([n, n + 1])\n",
    "    \n",
    "    return qml.counts(wires=[i for i in range(size)])"
   ]
  },
  {
   "cell_type": "code",
   "execution_count": 4,
   "metadata": {},
   "outputs": [],
   "source": [
    "client = MonarqClient(env[\"HOST\"], env[\"USER\"], env[\"ACCESS_TOKEN\"])\n",
    "ApiAdapter.initialize(client)\n",
    "\n",
    "def transpile_snowflurry(tape):\n",
    "    snowflurryUtil = SnowflurryUtility(tape, \n",
    "                                       env[\"HOST\"], \n",
    "                                       env[\"USER\"], \n",
    "                                       env[\"ACCESS_TOKEN\"], \n",
    "                                       \"calculqc\")\n",
    "    snowflurryUtil.transpile()\n",
    "    return snowflurryUtil.to_pennylane()\n",
    "\n",
    "def transpile_calculqc(tape, config):\n",
    "    transpiler = PreProcessor.get_processor(config, [w for w in tape.wires])\n",
    "    return transpiler(tape)[0][0]\n"
   ]
  },
  {
   "cell_type": "code",
   "execution_count": 17,
   "metadata": {},
   "outputs": [
    {
     "name": "stdout",
     "output_type": "stream",
     "text": [
      "3 : 9 ops, wires=[0, 4, 8]\n",
      "4 : 13 ops, wires=[0, 4, 8, 12]\n"
     ]
    },
    {
     "name": "stderr",
     "output_type": "stream",
     "text": [
      "c:\\Users\\bouch\\AppData\\Local\\Programs\\Python\\Python312\\Lib\\site-packages\\pennylane\\gradients\\gradient_transform.py:265: UserWarning: Attempted to compute the gradient of a tape with no trainable parameters. If this is unintended, please mark trainable parameters in accordance with the chosen auto differentiation framework, or via the 'tape.trainable_params' property.\n",
      "  warnings.warn(_no_trainable_grad_warning)\n"
     ]
    },
    {
     "name": "stdout",
     "output_type": "stream",
     "text": [
      "5 : 17 ops, wires=[0, 4, 8, 12, 9]\n",
      "6 : 21 ops, wires=[0, 4, 8, 12, 9, 5]\n",
      "7 : 25 ops, wires=[0, 4, 8, 12, 9, 5, 1]\n",
      "8 : 29 ops, wires=[0, 4, 8, 12, 9, 5, 2, 6]\n",
      "9 : 33 ops, wires=[0, 4, 8, 12, 9, 5, 2, 6, 10]\n",
      "10 : 37 ops, wires=[0, 4, 8, 12, 9, 5, 2, 6, 10, 13]\n",
      "11 : 41 ops, wires=[0, 4, 8, 12, 9, 5, 2, 6, 10, 13, 17]\n",
      "12 : 45 ops, wires=[0, 4, 8, 12, 9, 5, 2, 6, 10, 13, 17, 20]\n",
      "13 : 49 ops, wires=[0, 4, 8, 12, 9, 5, 2, 6, 10, 13, 17, 20, 16]\n",
      "14 : 53 ops, wires=[0, 4, 8, 12, 9, 5, 2, 6, 10, 13, 17, 21, 18, 14]\n",
      "15 : 57 ops, wires=[0, 4, 8, 12, 9, 5, 2, 6, 10, 13, 17, 21, 18, 14, 11]\n",
      "16 : 61 ops, wires=[0, 4, 8, 12, 9, 5, 2, 6, 10, 13, 17, 21, 18, 14, 11, 7]\n",
      "17 : 65 ops, wires=[0, 4, 8, 12, 9, 5, 2, 6, 10, 13, 17, 21, 18, 14, 11, 7, 3]\n",
      "18 : 69 ops, wires=[0, 4, 8, 12, 9, 5, 2, 6, 10, 13, 17, 21, 18, 14, 11, 15, 19, 22]\n",
      "19 : 73 ops, wires=[0, 4, 8, 12, 9, 5, 2, 6, 10, 13, 17, 21, 18, 14, 19, 15, 11, 7, 3]\n",
      "20 : 77 ops, wires=[16, 12, 8, 4, 1, 5, 9, 13, 10, 6, 3, 7, 11, 14, 19, 22, 18, 21, 17, 20]\n",
      "21 : 81 ops, wires=[9, 12, 8, 4, 1, 5, 2, 6, 3, 7, 11, 15, 19, 14, 10, 13, 18, 21, 17, 20, 16]\n",
      "22 : 85 ops, wires=[8, 4, 1, 5, 2, 6, 3, 7, 11, 14, 10, 13, 9, 12, 16, 20, 17, 21, 18, 22, 19, 15]\n",
      "23 : 193 ops, wires=[7, 3, 6, 2, 5, 9, 13, 10, 14, 11, 15, 1, 4, 8, 12, 16, 20, 17, 21, 18, 22, 19, 23]\n"
     ]
    }
   ],
   "source": [
    "qty_from = 3\n",
    "qty_to = 24\n",
    "datas = {\n",
    "    #\"snowflurry\" : [], \n",
    "    \"calculqc\" : []\n",
    "}\n",
    "\n",
    "for i in range(qty_from, qty_to):\n",
    "    qnode = qml.QNode(lambda: circuit(i), dev)\n",
    "    qnode()\n",
    "    # sf_tape = transpile_snowflurry(qnode.tape)\n",
    "    \n",
    "    config = MonarqDefaultConfig(use_benchmark=False)\n",
    "    config.steps[2] = VF2(False)\n",
    "    cq_tape = transpile_calculqc(qnode.tape, config)\n",
    "    print(f\"{i} : {len(cq_tape.operations)} ops, wires={[w for w in cq_tape.wires]}\")\n",
    "    # sf_node = qml.QNode(lambda : arbitrary_circuit(sf_tape, qml.counts), dev)\n",
    "    cq_node = qml.QNode(lambda : arbitrary_circuit(cq_tape, qml.counts), dev)\n",
    "    \n",
    "    # sf_resources = qml.specs(sf_node)()[\"resources\"]\n",
    "    cq_resources = qml.specs(cq_node)()[\"resources\"]\n",
    "    \n",
    "    # datas[\"snowflurry\"].append(sf_resources.depth)\n",
    "    datas[\"calculqc\"].append(cq_resources.depth)"
   ]
  },
  {
   "cell_type": "code",
   "execution_count": 15,
   "metadata": {},
   "outputs": [
    {
     "data": {
      "image/png": "[encoded data removed]",
      "text/plain": [
       "<Figure size 640x480 with 1 Axes>"
      ]
     },
     "metadata": {},
     "output_type": "display_data"
    }
   ],
   "source": [
    "x_labels = np.arange(qty_from, qty_to)\n",
    "\n",
    "graph(plt.bar, datas, x_labels, \"Efficiency comparison for 3 to 24 qubit GHZ\", \"qubits\", \"depth\")"
   ]
  }
 ],
 "metadata": {
  "kernelspec": {
   "display_name": "Python 3",
   "language": "python",
   "name": "python3"
  },
  "language_info": {
   "codemirror_mode": {
    "name": "ipython",
    "version": 3
   },
   "file_extension": ".py",
   "mimetype": "text/x-python",
   "name": "python",
   "nbconvert_exporter": "python",
   "pygments_lexer": "ipython3",
   "version": "3.12.5"
  }
 },
 "nbformat": 4,
 "nbformat_minor": 2
}
