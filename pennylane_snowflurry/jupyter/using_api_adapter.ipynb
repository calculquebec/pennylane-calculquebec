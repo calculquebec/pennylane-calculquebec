{
 "cells": [
  {
   "cell_type": "markdown",
   "metadata": {},
   "source": [
    "Importer les classes que t'as besoin"
   ]
  },
  {
   "cell_type": "code",
   "execution_count": null,
   "metadata": {},
   "outputs": [],
   "source": [
    "from pennylane_snowflurry.API.api_adapter import ApiAdapter\n",
    "from pennylane_snowflurry.API.api_client import MonarqClient\n",
    "from dotenv import load_dotenv\n",
    "import os\n",
    "import json\n",
    "from datetime import datetime, timedelta\n"
   ]
  },
  {
   "cell_type": "markdown",
   "metadata": {},
   "source": [
    "Configurer l'adapteur à l'API pour qu'il sache qui tu es"
   ]
  },
  {
   "cell_type": "code",
   "execution_count": 4,
   "metadata": {},
   "outputs": [],
   "source": [
    "load_dotenv()\n",
    "HOST_ENV = os.getenv(\"HOST\")\n",
    "USER_ENV = os.getenv(\"USER\")\n",
    "ACCESS_TOKEN_ENV = os.getenv(\"ACCESS_TOKEN\")\n",
    "REALM_ENV = os.getenv(\"REALM\")\n",
    "client = MonarqClient(HOST_ENV, USER_ENV, ACCESS_TOKEN_ENV, \"\")\n",
    "ApiAdapter.initialize(client)"
   ]
  },
  {
   "cell_type": "markdown",
   "metadata": {},
   "source": [
    "call la fonction \"get_qubits_and_couplers\" qui te retourne les benchmarks pour les qubits et les coupleurs pour la journée"
   ]
  },
  {
   "cell_type": "code",
   "execution_count": 5,
   "metadata": {},
   "outputs": [],
   "source": [
    "benchmark = ApiAdapter.get_qubits_and_couplers()\n",
    "#print(benchmark[\"qubits\"])\n",
    "#print(benchmark[\"couplers\"])"
   ]
  },
  {
   "cell_type": "code",
   "execution_count": null,
   "metadata": {},
   "outputs": [],
   "source": [
    "complete_benchmark = json.loads(ApiAdapter.get_benchmark().text)\n",
    "time_stamp = complete_benchmark[\"timeStamp\"]\n",
    "time_stamp = datetime.strptime(time_stamp, '%Y-%m-%dT%H:%M:%S.%fZ')\n",
    "time_stamp = time_stamp - timedelta(hours=5)\n",
    "benchmark_time = time_stamp.strftime('%Y-%m-%d %H:%M')\n"
   ]
  }
 ],
 "metadata": {
  "kernelspec": {
   "display_name": "Python 3",
   "language": "python",
   "name": "python3"
  },
  "language_info": {
   "codemirror_mode": {
    "name": "ipython",
    "version": 3
   },
   "file_extension": ".py",
   "mimetype": "text/x-python",
   "name": "python",
   "nbconvert_exporter": "python",
   "pygments_lexer": "ipython3",
   "version": "3.12.5"
  }
 },
 "nbformat": 4,
 "nbformat_minor": 2
}
