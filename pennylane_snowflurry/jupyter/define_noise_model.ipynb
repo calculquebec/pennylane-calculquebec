{
 "cells": [
  {
   "cell_type": "code",
   "execution_count": 1,
   "metadata": {},
   "outputs": [
    {
     "name": "stdout",
     "output_type": "stream",
     "text": [
      "Detected IPython. Loading juliacall extension. See https://juliapy.github.io/PythonCall.jl/stable/compat/#IPython\n"
     ]
    },
    {
     "name": "stderr",
     "output_type": "stream",
     "text": [
      "c:\\Users\\bouch\\AppData\\Local\\Programs\\Python\\Python312\\Lib\\site-packages\\pennylane\\__init__.py:200: PennyLaneDeprecationWarning: Device will no longer be accessible top level. Please access the class as pennylane.devices.LegacyDevice\n",
      "  warn(\n"
     ]
    }
   ],
   "source": [
    "# imports\n",
    "import pennylane as qml\n",
    "import numpy as np\n",
    "from pennylane_snowflurry.API.api_client import MonarqClient\n",
    "import pennylane_snowflurry.utility.test_circuits as circuits\n",
    "import os\n",
    "from pennylane_snowflurry.transpiler.monarq_transpile import Transpiler\n",
    "from pennylane_snowflurry.transpiler.transpiler_config import MonarqDefaultConfig, TranspilerConfig\n",
    "from pennylane_snowflurry.utility.debug_utility import arbitrary_circuit\n",
    "from pennylane_snowflurry.monarq_device import MonarqDevice"
   ]
  },
  {
   "cell_type": "code",
   "execution_count": 2,
   "metadata": {},
   "outputs": [],
   "source": [
    "# 6-ghz circuit\n",
    "def ghz6():\n",
    "    qml.Hadamard(0)\n",
    "    qml.CNOT([0, 1])\n",
    "    qml.CNOT([0, 2])\n",
    "    qml.CNOT([0, 3])\n",
    "    qml.CNOT([0, 4])\n",
    "    qml.CNOT([0, 5])\n",
    "    return qml.counts(wires=[0, 1, 2, 3, 4, 5])"
   ]
  },
  {
   "cell_type": "code",
   "execution_count": null,
   "metadata": {},
   "outputs": [],
   "source": [
    "\n",
    "# get simulation and real result for 6-GHZ\n",
    "sim_qnode = qml.QNode(ghz6, qml.device(\"default.qubit\", shots=1000))\n",
    "sim_results = sim_qnode()\n",
    "sim_samples = []\n",
    "for key in sim_results:\n",
    "    count = sim_results[key]\n",
    "    for _ in range(count):\n",
    "        sim_samples.append(key)\n",
    "\n",
    "path = os.path.join(os.getcwd(), \".env\")\n",
    "\n",
    "client = MonarqClient(\"https://manager.anyonlabs.com\", \n",
    "                      \"stage\",\n",
    "                      \"FjjIKjmDMoAMzSO4v2Bu62a+8vD39zib\")\n",
    "monarq_dev = MonarqDevice(shots=1000, client=client, behaviour_config=TranspilerConfig()))\n",
    "transpiler = Transpiler.get_transpiler(TranspilerConfig())\n",
    "real_tape = transpiler(sim_qnode.tape)[0][0]\n",
    "\n",
    "real_qnode = qml.QNode(lambda: arbitrary_circuit(real_tape, measurement=qml.counts), monarq_dev)\n",
    "real_results = real_qnode()\n",
    "real_samples = []\n",
    "for key in real_results:\n",
    "    count = real_results[key]\n",
    "    for _ in range(count):\n",
    "        real_samples.append(key)"
   ]
  },
  {
   "cell_type": "code",
   "execution_count": 4,
   "metadata": {},
   "outputs": [
    {
     "name": "stdout",
     "output_type": "stream",
     "text": [
      "[4, 12, 8, 5, 1, 0]\n"
     ]
    }
   ],
   "source": [
    "# get wires \n",
    "wires = [w for w in real_qnode.tape.wires]\n",
    "\n",
    "print(wires)"
   ]
  },
  {
   "cell_type": "code",
   "execution_count": 5,
   "metadata": {},
   "outputs": [
    {
     "name": "stdout",
     "output_type": "stream",
     "text": [
      "{4: 0.773, 12: 0.687, 8: 0.665, 5: 0.668, 1: 0.63, 0: 0.661}\n"
     ]
    }
   ],
   "source": [
    "# get noise model for each wire\n",
    "noise_model : dict[int, float] = {w:0 for w in wires}\n",
    "for i, w in enumerate(wires):\n",
    "    for real in real_samples:\n",
    "        one_count = sum([1 for r in real if r == '1'])\n",
    "        if one_count > len(wires)/2 and real[i] == '1':\n",
    "            noise_model[w] += 1\n",
    "        elif one_count < len(wires)/2 and real[i] == '0':\n",
    "            noise_model[w] += 1\n",
    "    noise_model[w] /= 1000\n",
    "\n",
    "print(noise_model)"
   ]
  },
  {
   "cell_type": "code",
   "execution_count": 14,
   "metadata": {},
   "outputs": [],
   "source": [
    "# make another 6 wires circuit\n",
    "grover = lambda : circuits.bernstein_vazirani(22)\n",
    "grover_node = qml.QNode(grover, qml.device(\"default.qubit\", shots=1000))\n",
    "grover_node()\n",
    "grover_tape = grover_node.tape\n",
    "grover_tape = transpiler(grover_tape)[0][0]\n"
   ]
  },
  {
   "cell_type": "code",
   "execution_count": 17,
   "metadata": {},
   "outputs": [
    {
     "ename": "TypeError",
     "evalue": "iteration over a 0-d array",
     "output_type": "error",
     "traceback": [
      "\u001b[1;31m---------------------------------------------------------------------------\u001b[0m",
      "\u001b[1;31mTypeError\u001b[0m                                 Traceback (most recent call last)",
      "Cell \u001b[1;32mIn[17], line 7\u001b[0m\n\u001b[0;32m      5\u001b[0m \u001b[38;5;28;01mfor\u001b[39;00m key \u001b[38;5;129;01min\u001b[39;00m grover_results:\n\u001b[0;32m      6\u001b[0m     count \u001b[38;5;241m=\u001b[39m grover_results[key]\n\u001b[1;32m----> 7\u001b[0m \u001b[43m    \u001b[49m\u001b[38;5;28;43;01mfor\u001b[39;49;00m\u001b[43m \u001b[49m\u001b[43m_\u001b[49m\u001b[43m \u001b[49m\u001b[38;5;129;43;01min\u001b[39;49;00m\u001b[43m \u001b[49m\u001b[43mcount\u001b[49m\u001b[43m[\u001b[49m\u001b[43m(\u001b[49m\u001b[43m)\u001b[49m\u001b[43m]\u001b[49m\u001b[43m \u001b[49m\u001b[38;5;28;43;01mif\u001b[39;49;00m\u001b[43m \u001b[49m\u001b[38;5;28;43misinstance\u001b[39;49m\u001b[43m(\u001b[49m\u001b[43mcount\u001b[49m\u001b[43m,\u001b[49m\u001b[43m \u001b[49m\u001b[43mnp\u001b[49m\u001b[38;5;241;43m.\u001b[39;49m\u001b[43mndarray\u001b[49m\u001b[43m)\u001b[49m\u001b[43m \u001b[49m\u001b[38;5;28;43;01melse\u001b[39;49;00m\u001b[43m \u001b[49m\u001b[43mcount\u001b[49m\u001b[43m:\u001b[49m\n\u001b[0;32m      8\u001b[0m \u001b[43m        \u001b[49m\u001b[43mgrover_samples\u001b[49m\u001b[38;5;241;43m.\u001b[39;49m\u001b[43mappend\u001b[49m\u001b[43m(\u001b[49m\u001b[43mkey\u001b[49m\u001b[43m)\u001b[49m\n",
      "\u001b[1;31mTypeError\u001b[0m: iteration over a 0-d array"
     ]
    }
   ],
   "source": [
    "# get results for circuit\n",
    "grover_node = qml.QNode(lambda: arbitrary_circuit(grover_tape, measurement=qml.counts), monarq_dev)\n",
    "grover_results = grover_node()\n",
    "grover_samples = []\n",
    "for key in grover_results:\n",
    "    count = grover_results[key]\n",
    "    for _ in count[()] if isinstance(count, np.ndarray) else count:\n",
    "        grover_samples.append(key)"
   ]
  },
  {
   "cell_type": "code",
   "execution_count": null,
   "metadata": {},
   "outputs": [],
   "source": [
    "# bitflip result according to noise model\n"
   ]
  }
 ],
 "metadata": {
  "kernelspec": {
   "display_name": "Python 3",
   "language": "python",
   "name": "python3"
  },
  "language_info": {
   "codemirror_mode": {
    "name": "ipython",
    "version": 3
   },
   "file_extension": ".py",
   "mimetype": "text/x-python",
   "name": "python",
   "nbconvert_exporter": "python",
   "pygments_lexer": "ipython3",
   "version": "3.12.5"
  }
 },
 "nbformat": 4,
 "nbformat_minor": 2
}
