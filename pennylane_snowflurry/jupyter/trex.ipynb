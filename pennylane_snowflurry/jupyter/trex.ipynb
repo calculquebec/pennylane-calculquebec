{
 "cells": [
  {
   "cell_type": "code",
   "execution_count": 1,
   "metadata": {},
   "outputs": [
    {
     "name": "stdout",
     "output_type": "stream",
     "text": [
      "Detected IPython. Loading juliacall extension. See https://juliapy.github.io/PythonCall.jl/stable/compat/#IPython\n"
     ]
    },
    {
     "name": "stderr",
     "output_type": "stream",
     "text": [
      "c:\\Users\\bouch\\AppData\\Local\\Programs\\Python\\Python312\\Lib\\site-packages\\pennylane\\__init__.py:200: PennyLaneDeprecationWarning: Device will no longer be accessible top level. Please access the class as pennylane.devices.LegacyDevice\n",
      "  warn(\n"
     ]
    }
   ],
   "source": [
    "import pennylane as qml\n",
    "import os\n",
    "import pennylane_snowflurry.utility.test_circuits as test_circuits\n",
    "from pennylane_snowflurry.monarq_device import MonarqDevice\n",
    "from pennylane_snowflurry.transpiler.transpiler_config import TranspilerConfig, MonarqDefaultConfig\n",
    "from pennylane_snowflurry.transpiler.steps.base_decomposition import CliffordTDecomposition\n",
    "from pennylane_snowflurry.transpiler.steps.routing import Swaps\n",
    "from pennylane_snowflurry.transpiler.steps.optimization import IterativeCommuteAndMerge\n",
    "from pennylane_snowflurry.transpiler.steps.native_decomposition import MonarqDecomposition\n",
    "from pennylane_snowflurry.API.api_client import MonarqClient\n",
    "from pennylane_snowflurry.API.api_adapter import ApiAdapter\n",
    "from pennylane_snowflurry.utility.debug_utility import get_labels, arbitrary_circuit\n",
    "from pennylane.tape import QuantumTape\n",
    "from random import choice, random\n",
    "from pennylane_snowflurry.transpiler.monarq_transpile import Transpiler"
   ]
  },
  {
   "cell_type": "code",
   "execution_count": 2,
   "metadata": {},
   "outputs": [],
   "source": [
    "client = MonarqClient(\"https://manager.anyonlabs.com\", \n",
    "                      \"stage\",\n",
    "                      \"FjjIKjmDMoAMzSO4v2Bu62a+8vD39zib\")\n",
    "\n",
    "full_transpile = MonarqDefaultConfig(excluded_qubits=[9])\n",
    "no_transpile = TranspilerConfig()\n",
    "no_place = TranspilerConfig(CliffordTDecomposition(), Swaps(True, excluded_qubits=[9]), IterativeCommuteAndMerge(), MonarqDecomposition())\n",
    "no_place_no_route = TranspilerConfig(CliffordTDecomposition(), IterativeCommuteAndMerge(), MonarqDecomposition())"
   ]
  },
  {
   "cell_type": "code",
   "execution_count": 3,
   "metadata": {},
   "outputs": [],
   "source": [
    "# 6-ghz circuit\n",
    "def ghz6():\n",
    "    qml.Hadamard(0)\n",
    "    qml.CNOT([0, 1])\n",
    "    qml.CNOT([0, 2])\n",
    "    qml.CNOT([0, 3])\n",
    "    qml.CNOT([0, 4])\n",
    "    return qml.counts(wires=[0, 1, 2, 3, 4])"
   ]
  },
  {
   "cell_type": "code",
   "execution_count": 5,
   "metadata": {},
   "outputs": [
    {
     "name": "stdout",
     "output_type": "stream",
     "text": [
      "{'00000': 504, '11111': 496}\n",
      "{'00000': 239, '00001': 65, '00010': 61, '00011': 21, '00100': 62, '00101': 19, '00110': 14, '00111': 6, '01000': 52, '01001': 18, '01010': 20, '01011': 10, '01100': 23, '01101': 12, '01110': 11, '01111': 11, '10000': 19, '10001': 17, '10010': 11, '10011': 15, '10100': 16, '10101': 23, '10110': 11, '10111': 24, '11000': 18, '11001': 22, '11010': 22, '11011': 24, '11100': 23, '11101': 45, '11110': 20, '11111': 46}\n"
     ]
    }
   ],
   "source": [
    "# get simulation and real result for 6-GHZ\n",
    "sim_qnode = qml.QNode(ghz6, qml.device(\"default.qubit\", shots=1000))\n",
    "sim_results = sim_qnode()\n",
    "sim_samples = []\n",
    "for key in sim_results:\n",
    "    count = sim_results[key]\n",
    "    for _ in range(count):\n",
    "        sim_samples.append(key)\n",
    "\n",
    "print(sim_results)\n",
    "monarq_dev = MonarqDevice(shots=1000, client=client, behaviour_config=no_transpile)\n",
    "transpiler = Transpiler.get_transpiler(full_transpile)\n",
    "bs_tape = transpiler(sim_qnode.tape)[0][0]\n",
    "\n",
    "real_qnode = qml.QNode(lambda: arbitrary_circuit(bs_tape), monarq_dev)\n",
    "real_results = real_qnode()\n",
    "real_samples = []\n",
    "for key in real_results:\n",
    "    count = real_results[key]\n",
    "    for _ in range(count):\n",
    "        real_samples.append(key)\n",
    "print(real_results)"
   ]
  },
  {
   "cell_type": "code",
   "execution_count": null,
   "metadata": {},
   "outputs": [
    {
     "name": "stdout",
     "output_type": "stream",
     "text": [
      "[4, 5, 1, 8, 0]\n"
     ]
    }
   ],
   "source": [
    "# get wires \n",
    "wires = [w for w in real_qnode.tape.wires]\n",
    "\n",
    "print(wires)"
   ]
  },
  {
   "cell_type": "code",
   "execution_count": 46,
   "metadata": {},
   "outputs": [
    {
     "name": "stdout",
     "output_type": "stream",
     "text": [
      "{4: 0.851, 5: 0.768, 1: 0.749, 8: 0.771, 0: 0.759}\n"
     ]
    }
   ],
   "source": [
    "\n",
    "real_samples = []\n",
    "for key in real_results:\n",
    "    count = real_results[key]\n",
    "    for _ in range(count):\n",
    "        real_samples.append(key)\n",
    "\n",
    "# get noise model for each wire\n",
    "noise_model : dict[int, float] = {w:0 for w in wires}\n",
    "for i, w in enumerate(wires):\n",
    "    for real in real_samples:\n",
    "        one_count = sum([1 for r in real if r == '1'])\n",
    "        if one_count > len(wires)/2 and real[i] == '1':\n",
    "            noise_model[w] += 1\n",
    "        elif one_count < len(wires)/2 and real[i] == '0':\n",
    "            noise_model[w] += 1\n",
    "    noise_model[w] /= 1000\n",
    "\n",
    "print(noise_model)"
   ]
  },
  {
   "cell_type": "code",
   "execution_count": 47,
   "metadata": {},
   "outputs": [
    {
     "name": "stdout",
     "output_type": "stream",
     "text": [
      "{'11111': 134, '11001': 20, '11101': 42, '10111': 51, '10010': 11, '01011': 18, '11100': 15, '11011': 52, '11110': 54, '11010': 17, '01110': 14, '10101': 13, '00011': 14, '00100': 42, '01111': 28, '10100': 11, '10110': 18, '10011': 13, '00111': 14, '00110': 23, '01001': 18, '11000': 14, '00101': 14, '01101': 14, '00010': 45, '10001': 9, '01010': 14, '10000': 30, '01100': 22, '00000': 140, '01000': 32, '00001': 44}\n"
     ]
    }
   ],
   "source": [
    "# create TREXes\n",
    "\n",
    "ideal_dict = {\"11111\":500, \"00000\":500}\n",
    "trex_samples = []\n",
    "for key in ideal_dict:\n",
    "    count = ideal_dict[key]\n",
    "    for _ in range(count):\n",
    "        trex = \"\"\n",
    "        for i, w in enumerate(wires):\n",
    "            if random() > noise_model[w]:\n",
    "                trex += \"0\" if key[i] == \"1\" else \"1\"\n",
    "            else:\n",
    "                trex += key[i]\n",
    "        trex_samples.append(trex)\n",
    "\n",
    "trex_dict = {}\n",
    "for sample in trex_samples:\n",
    "    if sample not in trex_dict: trex_dict[sample] = 0\n",
    "    trex_dict[sample] += 1\n",
    "\n",
    "print(trex_dict)"
   ]
  },
  {
   "cell_type": "code",
   "execution_count": 48,
   "metadata": {},
   "outputs": [],
   "source": [
    "# define circuit\n",
    "\n",
    "\n",
    "def bernstein_vazirani(number : int, measurement = qml.counts):\n",
    "    \"\"\"bernstein vazirani for encoding given number\n",
    "    \"\"\"\n",
    "    value = []\n",
    "    while number > 0:\n",
    "        value.insert(0, (number & 1) != 0)\n",
    "        number = number >> 1\n",
    "\n",
    "    num_wires = len(value) + 1\n",
    "    [qml.Hadamard(wires[i]) for i in range(num_wires)]\n",
    "    qml.Z(num_wires-1)\n",
    "        \n",
    "    # Uf\n",
    "    [qml.CNOT([wires[i], wires[num_wires - 1]]) for i, should in enumerate(value) if should]\n",
    "        \n",
    "    [qml.Hadamard(wires[i]) for i in range(num_wires - 1)]\n",
    "    return measurement(wires=[wires[i] for i in range(num_wires - 1)])\n",
    "    "
   ]
  },
  {
   "cell_type": "code",
   "execution_count": 53,
   "metadata": {},
   "outputs": [
    {
     "ename": "IndexError",
     "evalue": "string index out of range",
     "output_type": "error",
     "traceback": [
      "\u001b[1;31m---------------------------------------------------------------------------\u001b[0m",
      "\u001b[1;31mIndexError\u001b[0m                                Traceback (most recent call last)",
      "Cell \u001b[1;32mIn[53], line 33\u001b[0m\n\u001b[0;32m     31\u001b[0m             trexed_result \u001b[38;5;241m+\u001b[39m\u001b[38;5;241m=\u001b[39m result[i]\n\u001b[0;32m     32\u001b[0m             \u001b[38;5;28;01mcontinue\u001b[39;00m\n\u001b[1;32m---> 33\u001b[0m         trexed_result \u001b[38;5;241m+\u001b[39m\u001b[38;5;241m=\u001b[39m \u001b[38;5;124m'\u001b[39m\u001b[38;5;124m1\u001b[39m\u001b[38;5;124m'\u001b[39m \u001b[38;5;28;01mif\u001b[39;00m \u001b[43mresult\u001b[49m\u001b[43m[\u001b[49m\u001b[43mi\u001b[49m\u001b[43m]\u001b[49m \u001b[38;5;241m==\u001b[39m \u001b[38;5;124m'\u001b[39m\u001b[38;5;124m0\u001b[39m\u001b[38;5;124m'\u001b[39m \u001b[38;5;28;01melse\u001b[39;00m \u001b[38;5;124m'\u001b[39m\u001b[38;5;124m0\u001b[39m\u001b[38;5;124m'\u001b[39m\n\u001b[0;32m     35\u001b[0m     trexed_samples\u001b[38;5;241m.\u001b[39mappend(trexed_result)\n\u001b[0;32m     37\u001b[0m \u001b[38;5;66;03m# count trexes\u001b[39;00m\n",
      "\u001b[1;31mIndexError\u001b[0m: string index out of range"
     ]
    }
   ],
   "source": [
    "# make another 6 wires circuit\n",
    "bs_func = lambda : bernstein_vazirani(11)\n",
    "bs_qnode= qml.QNode(bs_func, qml.device(\"default.qubit\", shots=1000))\n",
    "bs_qnode()\n",
    "bs_transpiler = Transpiler.get_transpiler(no_place)\n",
    "bs_tape : QuantumTape = bs_transpiler(bs_qnode.tape)[0][0]\n",
    "trexed_samples = []\n",
    "\n",
    "for key in trex_dict:\n",
    "    tape = type(bs_tape)(ops = bs_tape.operations, measurements=bs_tape.measurements, shots=trex_dict[key])\n",
    "    dev = MonarqDevice(shots=trex_dict[key], client=client, behaviour_config=no_transpile)\n",
    "    \n",
    "    # add pauli x to trexted positions\n",
    "    for i, w in enumerate(wires):\n",
    "        if key[i] == '0': continue\n",
    "        tape.operations.append(qml.PauliX(w))\n",
    "    \n",
    "    results = qml.execute([tape], device=dev)[0]\n",
    "    \n",
    "    # turn to samples\n",
    "    result_samples = []\n",
    "    for result in results:\n",
    "        for _ in range(results[result]):\n",
    "            result_samples.append(result)\n",
    "\n",
    "    # add logic not to trexed positions\n",
    "    for result in result_samples:\n",
    "        trexed_result = ''\n",
    "        for i, w in enumerate(wires):\n",
    "            if key[i] == '0': \n",
    "                trexed_result += result[i]\n",
    "                continue\n",
    "            trexed_result += '1' if result[i] == '0' else '0'\n",
    "            \n",
    "        trexed_samples.append(trexed_result)\n",
    "    \n",
    "    # count trexes\n",
    "    trexed_counts = {}\n",
    "    for key in trexed_samples:\n",
    "        if key not in trexed_counts:\n",
    "            trexed_counts[key] = 0\n",
    "        trexed_counts[key] += 1\n",
    "    \n",
    "print(trexed_counts)"
   ]
  }
 ],
 "metadata": {
  "kernelspec": {
   "display_name": "Python 3",
   "language": "python",
   "name": "python3"
  },
  "language_info": {
   "codemirror_mode": {
    "name": "ipython",
    "version": 3
   },
   "file_extension": ".py",
   "mimetype": "text/x-python",
   "name": "python",
   "nbconvert_exporter": "python",
   "pygments_lexer": "ipython3",
   "version": "3.12.5"
  }
 },
 "nbformat": 4,
 "nbformat_minor": 2
}
