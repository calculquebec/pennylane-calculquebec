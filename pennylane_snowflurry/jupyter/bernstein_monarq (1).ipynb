{
 "cells": [
  {
   "cell_type": "code",
   "execution_count": 1,
   "metadata": {},
   "outputs": [],
   "source": [
    "import pennylane as qml\n",
    "from pennylane import numpy as np\n",
    "from dotenv import load_dotenv\n",
    "import os\n",
    "import csv\n",
    "import pandas as pd\n",
    "import matplotlib.pyplot as plt\n",
    "from collections import defaultdict\n",
    "from datetime import datetime\n"
   ]
  },
  {
   "cell_type": "code",
   "execution_count": null,
   "metadata": {},
   "outputs": [
    {
     "name": "stdout",
     "output_type": "stream",
     "text": [
      "Detected IPython. Loading juliacall extension. See https://juliapy.github.io/PythonCall.jl/stable/compat/#IPython\n"
     ]
    },
    {
     "name": "stderr",
     "output_type": "stream",
     "text": [
      "c:\\Users\\bouch\\AppData\\Local\\Programs\\Python\\Python312\\Lib\\site-packages\\pennylane\\__init__.py:200: PennyLaneDeprecationWarning: Device will no longer be accessible top level. Please access the class as pennylane.devices.LegacyDevice\n",
      "  warn(\n"
     ]
    },
    {
     "ename": "AttributeError",
     "evalue": "'NoneType' object has no attribute 'status_code'",
     "output_type": "error",
     "traceback": [
      "\u001b[1;31m---------------------------------------------------------------------------\u001b[0m",
      "\u001b[1;31mAttributeError\u001b[0m                            Traceback (most recent call last)",
      "Cell \u001b[1;32mIn[2], line 52\u001b[0m\n\u001b[0;32m     47\u001b[0m     \u001b[38;5;28;01mreturn\u001b[39;00m qml\u001b[38;5;241m.\u001b[39mcounts(wires\u001b[38;5;241m=\u001b[39m\u001b[38;5;28mrange\u001b[39m(n_qubits))\n\u001b[0;32m     51\u001b[0m \u001b[38;5;66;03m# Exécuter le circuit avec la chaîne binaire s\u001b[39;00m\n\u001b[1;32m---> 52\u001b[0m result \u001b[38;5;241m=\u001b[39m \u001b[43mbernstein_vazirani\u001b[49m\u001b[43m(\u001b[49m\u001b[43ms\u001b[49m\u001b[43m)\u001b[49m\n",
      "File \u001b[1;32mc:\\Users\\bouch\\AppData\\Local\\Programs\\Python\\Python312\\Lib\\site-packages\\pennylane\\workflow\\qnode.py:987\u001b[0m, in \u001b[0;36mQNode.__call__\u001b[1;34m(self, *args, **kwargs)\u001b[0m\n\u001b[0;32m    985\u001b[0m \u001b[38;5;28;01mif\u001b[39;00m qml\u001b[38;5;241m.\u001b[39mcapture\u001b[38;5;241m.\u001b[39menabled():\n\u001b[0;32m    986\u001b[0m     \u001b[38;5;28;01mreturn\u001b[39;00m qml\u001b[38;5;241m.\u001b[39mcapture\u001b[38;5;241m.\u001b[39mqnode_call(\u001b[38;5;28mself\u001b[39m, \u001b[38;5;241m*\u001b[39margs, \u001b[38;5;241m*\u001b[39m\u001b[38;5;241m*\u001b[39mkwargs)\n\u001b[1;32m--> 987\u001b[0m \u001b[38;5;28;01mreturn\u001b[39;00m \u001b[38;5;28;43mself\u001b[39;49m\u001b[38;5;241;43m.\u001b[39;49m\u001b[43m_impl_call\u001b[49m\u001b[43m(\u001b[49m\u001b[38;5;241;43m*\u001b[39;49m\u001b[43margs\u001b[49m\u001b[43m,\u001b[49m\u001b[43m \u001b[49m\u001b[38;5;241;43m*\u001b[39;49m\u001b[38;5;241;43m*\u001b[39;49m\u001b[43mkwargs\u001b[49m\u001b[43m)\u001b[49m\n",
      "File \u001b[1;32mc:\\Users\\bouch\\AppData\\Local\\Programs\\Python\\Python312\\Lib\\site-packages\\pennylane\\workflow\\qnode.py:977\u001b[0m, in \u001b[0;36mQNode._impl_call\u001b[1;34m(self, *args, **kwargs)\u001b[0m\n\u001b[0;32m    974\u001b[0m     \u001b[38;5;28mself\u001b[39m\u001b[38;5;241m.\u001b[39m_interface \u001b[38;5;241m=\u001b[39m interface\n\u001b[0;32m    976\u001b[0m \u001b[38;5;28;01mtry\u001b[39;00m:\n\u001b[1;32m--> 977\u001b[0m     res \u001b[38;5;241m=\u001b[39m \u001b[38;5;28;43mself\u001b[39;49m\u001b[38;5;241;43m.\u001b[39;49m\u001b[43m_execution_component\u001b[49m\u001b[43m(\u001b[49m\u001b[43margs\u001b[49m\u001b[43m,\u001b[49m\u001b[43m \u001b[49m\u001b[43mkwargs\u001b[49m\u001b[43m)\u001b[49m\n\u001b[0;32m    978\u001b[0m \u001b[38;5;28;01mfinally\u001b[39;00m:\n\u001b[0;32m    979\u001b[0m     \u001b[38;5;28;01mif\u001b[39;00m old_interface \u001b[38;5;241m==\u001b[39m \u001b[38;5;124m\"\u001b[39m\u001b[38;5;124mauto\u001b[39m\u001b[38;5;124m\"\u001b[39m:\n",
      "File \u001b[1;32mc:\\Users\\bouch\\AppData\\Local\\Programs\\Python\\Python312\\Lib\\site-packages\\pennylane\\workflow\\qnode.py:935\u001b[0m, in \u001b[0;36mQNode._execution_component\u001b[1;34m(self, args, kwargs)\u001b[0m\n\u001b[0;32m    932\u001b[0m interface \u001b[38;5;241m=\u001b[39m \u001b[38;5;28;01mNone\u001b[39;00m \u001b[38;5;28;01mif\u001b[39;00m \u001b[38;5;28mself\u001b[39m\u001b[38;5;241m.\u001b[39minterface \u001b[38;5;241m==\u001b[39m \u001b[38;5;124m\"\u001b[39m\u001b[38;5;124mnumpy\u001b[39m\u001b[38;5;124m\"\u001b[39m \u001b[38;5;28;01melse\u001b[39;00m \u001b[38;5;28mself\u001b[39m\u001b[38;5;241m.\u001b[39minterface\n\u001b[0;32m    934\u001b[0m \u001b[38;5;66;03m# pylint: disable=unexpected-keyword-arg\u001b[39;00m\n\u001b[1;32m--> 935\u001b[0m res \u001b[38;5;241m=\u001b[39m \u001b[43mqml\u001b[49m\u001b[38;5;241;43m.\u001b[39;49m\u001b[43mexecute\u001b[49m\u001b[43m(\u001b[49m\n\u001b[0;32m    936\u001b[0m \u001b[43m    \u001b[49m\u001b[43m(\u001b[49m\u001b[38;5;28;43mself\u001b[39;49m\u001b[38;5;241;43m.\u001b[39;49m\u001b[43m_tape\u001b[49m\u001b[43m,\u001b[49m\u001b[43m)\u001b[49m\u001b[43m,\u001b[49m\n\u001b[0;32m    937\u001b[0m \u001b[43m    \u001b[49m\u001b[43mdevice\u001b[49m\u001b[38;5;241;43m=\u001b[39;49m\u001b[38;5;28;43mself\u001b[39;49m\u001b[38;5;241;43m.\u001b[39;49m\u001b[43mdevice\u001b[49m\u001b[43m,\u001b[49m\n\u001b[0;32m    938\u001b[0m \u001b[43m    \u001b[49m\u001b[43mgradient_fn\u001b[49m\u001b[38;5;241;43m=\u001b[39;49m\u001b[43mgradient_fn\u001b[49m\u001b[43m,\u001b[49m\n\u001b[0;32m    939\u001b[0m \u001b[43m    \u001b[49m\u001b[43minterface\u001b[49m\u001b[38;5;241;43m=\u001b[39;49m\u001b[43minterface\u001b[49m\u001b[43m,\u001b[49m\n\u001b[0;32m    940\u001b[0m \u001b[43m    \u001b[49m\u001b[43mtransform_program\u001b[49m\u001b[38;5;241;43m=\u001b[39;49m\u001b[43mfull_transform_program\u001b[49m\u001b[43m,\u001b[49m\n\u001b[0;32m    941\u001b[0m \u001b[43m    \u001b[49m\u001b[43minner_transform\u001b[49m\u001b[38;5;241;43m=\u001b[39;49m\u001b[43minner_transform_program\u001b[49m\u001b[43m,\u001b[49m\n\u001b[0;32m    942\u001b[0m \u001b[43m    \u001b[49m\u001b[43mconfig\u001b[49m\u001b[38;5;241;43m=\u001b[39;49m\u001b[43mconfig\u001b[49m\u001b[43m,\u001b[49m\n\u001b[0;32m    943\u001b[0m \u001b[43m    \u001b[49m\u001b[43mgradient_kwargs\u001b[49m\u001b[38;5;241;43m=\u001b[39;49m\u001b[43mgradient_kwargs\u001b[49m\u001b[43m,\u001b[49m\n\u001b[0;32m    944\u001b[0m \u001b[43m    \u001b[49m\u001b[38;5;241;43m*\u001b[39;49m\u001b[38;5;241;43m*\u001b[39;49m\u001b[43mexecute_kwargs\u001b[49m\u001b[43m,\u001b[49m\n\u001b[0;32m    945\u001b[0m \u001b[43m\u001b[49m\u001b[43m)\u001b[49m\n\u001b[0;32m    946\u001b[0m res \u001b[38;5;241m=\u001b[39m res[\u001b[38;5;241m0\u001b[39m]\n\u001b[0;32m    948\u001b[0m \u001b[38;5;66;03m# convert result to the interface in case the qfunc has no parameters\u001b[39;00m\n",
      "File \u001b[1;32mc:\\Users\\bouch\\AppData\\Local\\Programs\\Python\\Python312\\Lib\\site-packages\\pennylane\\workflow\\execution.py:523\u001b[0m, in \u001b[0;36mexecute\u001b[1;34m(tapes, device, gradient_fn, interface, transform_program, inner_transform, config, grad_on_execution, gradient_kwargs, cache, cachesize, max_diff, device_vjp, mcm_config)\u001b[0m\n\u001b[0;32m    521\u001b[0m \u001b[38;5;66;03m# Exiting early if we do not need to deal with an interface boundary\u001b[39;00m\n\u001b[0;32m    522\u001b[0m \u001b[38;5;28;01mif\u001b[39;00m no_interface_boundary_required:\n\u001b[1;32m--> 523\u001b[0m     results \u001b[38;5;241m=\u001b[39m \u001b[43minner_execute\u001b[49m\u001b[43m(\u001b[49m\u001b[43mtapes\u001b[49m\u001b[43m)\u001b[49m\n\u001b[0;32m    524\u001b[0m     \u001b[38;5;28;01mreturn\u001b[39;00m post_processing(results)\n\u001b[0;32m    526\u001b[0m \u001b[38;5;28;01mif\u001b[39;00m config\u001b[38;5;241m.\u001b[39muse_device_jacobian_product \u001b[38;5;129;01mand\u001b[39;00m interface \u001b[38;5;129;01min\u001b[39;00m jpc_interfaces:\n",
      "File \u001b[1;32mc:\\Users\\bouch\\AppData\\Local\\Programs\\Python\\Python312\\Lib\\site-packages\\pennylane\\workflow\\execution.py:199\u001b[0m, in \u001b[0;36m_make_inner_execute.<locals>.inner_execute\u001b[1;34m(tapes, **_)\u001b[0m\n\u001b[0;32m    196\u001b[0m \u001b[38;5;28;01mif\u001b[39;00m cache \u001b[38;5;129;01mis\u001b[39;00m \u001b[38;5;129;01mnot\u001b[39;00m \u001b[38;5;28;01mNone\u001b[39;00m:\n\u001b[0;32m    197\u001b[0m     transform_program\u001b[38;5;241m.\u001b[39madd_transform(_cache_transform, cache\u001b[38;5;241m=\u001b[39mcache)\n\u001b[1;32m--> 199\u001b[0m transformed_tapes, transform_post_processing \u001b[38;5;241m=\u001b[39m \u001b[43mtransform_program\u001b[49m\u001b[43m(\u001b[49m\u001b[43mtapes\u001b[49m\u001b[43m)\u001b[49m\n\u001b[0;32m    201\u001b[0m \u001b[38;5;28;01mif\u001b[39;00m transformed_tapes:\n\u001b[0;32m    202\u001b[0m     results \u001b[38;5;241m=\u001b[39m device\u001b[38;5;241m.\u001b[39mexecute(transformed_tapes, execution_config\u001b[38;5;241m=\u001b[39mexecution_config)\n",
      "File \u001b[1;32mc:\\Users\\bouch\\AppData\\Local\\Programs\\Python\\Python312\\Lib\\site-packages\\pennylane\\transforms\\core\\transform_program.py:515\u001b[0m, in \u001b[0;36mTransformProgram.__call__\u001b[1;34m(self, tapes)\u001b[0m\n\u001b[0;32m    513\u001b[0m \u001b[38;5;28;01mif\u001b[39;00m \u001b[38;5;28mself\u001b[39m\u001b[38;5;241m.\u001b[39m_argnums \u001b[38;5;129;01mis\u001b[39;00m \u001b[38;5;129;01mnot\u001b[39;00m \u001b[38;5;28;01mNone\u001b[39;00m \u001b[38;5;129;01mand\u001b[39;00m \u001b[38;5;28mself\u001b[39m\u001b[38;5;241m.\u001b[39m_argnums[i] \u001b[38;5;129;01mis\u001b[39;00m \u001b[38;5;129;01mnot\u001b[39;00m \u001b[38;5;28;01mNone\u001b[39;00m:\n\u001b[0;32m    514\u001b[0m     tape\u001b[38;5;241m.\u001b[39mtrainable_params \u001b[38;5;241m=\u001b[39m \u001b[38;5;28mself\u001b[39m\u001b[38;5;241m.\u001b[39m_argnums[i][j]\n\u001b[1;32m--> 515\u001b[0m new_tapes, fn \u001b[38;5;241m=\u001b[39m \u001b[43mtransform\u001b[49m\u001b[43m(\u001b[49m\u001b[43mtape\u001b[49m\u001b[43m,\u001b[49m\u001b[43m \u001b[49m\u001b[38;5;241;43m*\u001b[39;49m\u001b[43mtargs\u001b[49m\u001b[43m,\u001b[49m\u001b[43m \u001b[49m\u001b[38;5;241;43m*\u001b[39;49m\u001b[38;5;241;43m*\u001b[39;49m\u001b[43mtkwargs\u001b[49m\u001b[43m)\u001b[49m\n\u001b[0;32m    516\u001b[0m execution_tapes\u001b[38;5;241m.\u001b[39mextend(new_tapes)\n\u001b[0;32m    518\u001b[0m fns\u001b[38;5;241m.\u001b[39mappend(fn)\n",
      "File \u001b[1;32m~\\Desktop\\pennylane-snowflurry\\pennylane_snowflurry\\transpiler\\monarq_transpile.py:35\u001b[0m, in \u001b[0;36mTranspiler.get_transpiler.<locals>.transpile\u001b[1;34m(tape)\u001b[0m\n\u001b[0;32m     33\u001b[0m \u001b[38;5;28;01mwith\u001b[39;00m qml\u001b[38;5;241m.\u001b[39mQueuingManager\u001b[38;5;241m.\u001b[39mstop_recording():\n\u001b[0;32m     34\u001b[0m     \u001b[38;5;28;01mfor\u001b[39;00m step \u001b[38;5;129;01min\u001b[39;00m behaviour_config\u001b[38;5;241m.\u001b[39msteps:\n\u001b[1;32m---> 35\u001b[0m         optimized_tape \u001b[38;5;241m=\u001b[39m \u001b[43mstep\u001b[49m\u001b[38;5;241;43m.\u001b[39;49m\u001b[43mexecute\u001b[49m\u001b[43m(\u001b[49m\u001b[43moptimized_tape\u001b[49m\u001b[43m)\u001b[49m\n\u001b[0;32m     36\u001b[0m new_tape \u001b[38;5;241m=\u001b[39m \u001b[38;5;28mtype\u001b[39m(tape)(optimized_tape\u001b[38;5;241m.\u001b[39moperations, optimized_tape\u001b[38;5;241m.\u001b[39mmeasurements, shots\u001b[38;5;241m=\u001b[39moptimized_tape\u001b[38;5;241m.\u001b[39mshots)\n\u001b[0;32m     37\u001b[0m \u001b[38;5;28;01mreturn\u001b[39;00m [new_tape], \u001b[38;5;28;01mlambda\u001b[39;00m results : results[\u001b[38;5;241m0\u001b[39m]\n",
      "File \u001b[1;32m~\\Desktop\\pennylane-snowflurry\\pennylane_snowflurry\\transpiler\\steps\\placement.py:97\u001b[0m, in \u001b[0;36mASTAR.execute\u001b[1;34m(self, tape)\u001b[0m\n\u001b[0;32m     93\u001b[0m \u001b[38;5;250m\u001b[39m\u001b[38;5;124;03m\"\"\"\u001b[39;00m\n\u001b[0;32m     94\u001b[0m \u001b[38;5;124;03mplaces the circuit on the machine's connectivity using astar algorithm and comparing path lengths\u001b[39;00m\n\u001b[0;32m     95\u001b[0m \u001b[38;5;124;03m\"\"\"\u001b[39;00m\n\u001b[0;32m     96\u001b[0m circuit_topology \u001b[38;5;241m=\u001b[39m graph_util\u001b[38;5;241m.\u001b[39mcircuit_graph(tape)\n\u001b[1;32m---> 97\u001b[0m machine_topology \u001b[38;5;241m=\u001b[39m \u001b[43mgraph_util\u001b[49m\u001b[38;5;241;43m.\u001b[39;49m\u001b[43mmachine_graph\u001b[49m\u001b[43m(\u001b[49m\u001b[38;5;28;43mself\u001b[39;49m\u001b[38;5;241;43m.\u001b[39;49m\u001b[43muse_benchmark\u001b[49m\u001b[43m,\u001b[49m\u001b[43m \u001b[49m\u001b[38;5;28;43mself\u001b[39;49m\u001b[38;5;241;43m.\u001b[39;49m\u001b[43mq1_acceptance\u001b[49m\u001b[43m,\u001b[49m\u001b[43m \u001b[49m\u001b[38;5;28;43mself\u001b[39;49m\u001b[38;5;241;43m.\u001b[39;49m\u001b[43mq2_acceptance\u001b[49m\u001b[43m,\u001b[49m\u001b[43m \u001b[49m\u001b[38;5;28;43mself\u001b[39;49m\u001b[38;5;241;43m.\u001b[39;49m\u001b[43mexcluded_qubits\u001b[49m\u001b[43m,\u001b[49m\u001b[43m \u001b[49m\u001b[38;5;28;43mself\u001b[39;49m\u001b[38;5;241;43m.\u001b[39;49m\u001b[43mexcluded_couplers\u001b[49m\u001b[43m)\u001b[49m\n\u001b[0;32m     99\u001b[0m \u001b[38;5;28;01mif\u001b[39;00m \u001b[38;5;28mlen\u001b[39m(graph_util\u001b[38;5;241m.\u001b[39mfind_biggest_group(circuit_topology)) \u001b[38;5;241m>\u001b[39m \u001b[38;5;28mlen\u001b[39m(graph_util\u001b[38;5;241m.\u001b[39mfind_biggest_group(machine_topology)):\n\u001b[0;32m    100\u001b[0m     \u001b[38;5;28;01mraise\u001b[39;00m \u001b[38;5;167;01mException\u001b[39;00m(\u001b[38;5;124mf\u001b[39m\u001b[38;5;124m\"\u001b[39m\u001b[38;5;124mThere are \u001b[39m\u001b[38;5;132;01m{\u001b[39;00mmachine_topology\u001b[38;5;241m.\u001b[39mnumber_of_nodes\u001b[38;5;132;01m}\u001b[39;00m\u001b[38;5;124m qubits on the machine but your circuit has \u001b[39m\u001b[38;5;132;01m{\u001b[39;00mcircuit_topology\u001b[38;5;241m.\u001b[39mnumber_of_nodes\u001b[38;5;132;01m}\u001b[39;00m\u001b[38;5;124m.\u001b[39m\u001b[38;5;124m\"\u001b[39m)\n",
      "File \u001b[1;32m~\\Desktop\\pennylane-snowflurry\\pennylane_snowflurry\\utility\\graph_utility.py:37\u001b[0m, in \u001b[0;36mmachine_graph\u001b[1;34m(use_benchmark, q1Acceptance, q2Acceptance, excluded_qubits, excluded_couplers)\u001b[0m\n\u001b[0;32m     35\u001b[0m \u001b[38;5;28;01mdef\u001b[39;00m \u001b[38;5;21mmachine_graph\u001b[39m(use_benchmark, q1Acceptance, q2Acceptance, excluded_qubits \u001b[38;5;241m=\u001b[39m [], excluded_couplers \u001b[38;5;241m=\u001b[39m []):\n\u001b[1;32m---> 37\u001b[0m     broken_qubits_and_couplers \u001b[38;5;241m=\u001b[39m \u001b[43mbuild_benchmark\u001b[49m\u001b[43m(\u001b[49m\u001b[43mq1Acceptance\u001b[49m\u001b[43m,\u001b[49m\u001b[43m \u001b[49m\u001b[43mq2Acceptance\u001b[49m\u001b[43m)\u001b[49m \u001b[38;5;28;01mif\u001b[39;00m use_benchmark \u001b[38;5;28;01melse\u001b[39;00m \u001b[38;5;28;01mNone\u001b[39;00m\n\u001b[0;32m     38\u001b[0m     broken_nodes \u001b[38;5;241m=\u001b[39m [q \u001b[38;5;28;01mfor\u001b[39;00m q \u001b[38;5;129;01min\u001b[39;00m broken_qubits_and_couplers[ApiUtility\u001b[38;5;241m.\u001b[39mkeys\u001b[38;5;241m.\u001b[39mqubits]] \u001b[38;5;28;01mif\u001b[39;00m use_benchmark \u001b[38;5;28;01melse\u001b[39;00m []\n\u001b[0;32m     39\u001b[0m     broken_nodes \u001b[38;5;241m+\u001b[39m\u001b[38;5;241m=\u001b[39m [q \u001b[38;5;28;01mfor\u001b[39;00m q \u001b[38;5;129;01min\u001b[39;00m excluded_qubits \u001b[38;5;28;01mif\u001b[39;00m q \u001b[38;5;129;01mnot\u001b[39;00m \u001b[38;5;129;01min\u001b[39;00m broken_nodes]\n",
      "File \u001b[1;32m~\\Desktop\\pennylane-snowflurry\\pennylane_snowflurry\\monarq_data.py:68\u001b[0m, in \u001b[0;36mbuild_benchmark\u001b[1;34m(q1Acceptance, q2Acceptance)\u001b[0m\n\u001b[0;32m     65\u001b[0m val \u001b[38;5;241m=\u001b[39m (q1Acceptance, q2Acceptance)\n\u001b[0;32m     67\u001b[0m \u001b[38;5;66;03m# call to api to get qubit and couplers benchmark\u001b[39;00m\n\u001b[1;32m---> 68\u001b[0m qubits_and_couplers \u001b[38;5;241m=\u001b[39m \u001b[43mApiAdapter\u001b[49m\u001b[38;5;241;43m.\u001b[39;49m\u001b[43mget_qubits_and_couplers\u001b[49m\u001b[43m(\u001b[49m\u001b[43m)\u001b[49m\n\u001b[0;32m     70\u001b[0m broken_qubits_and_couplers \u001b[38;5;241m=\u001b[39m { ApiUtility\u001b[38;5;241m.\u001b[39mkeys\u001b[38;5;241m.\u001b[39mqubits : [], ApiUtility\u001b[38;5;241m.\u001b[39mkeys\u001b[38;5;241m.\u001b[39mcouplers : [] }\n\u001b[0;32m     72\u001b[0m \u001b[38;5;28;01mfor\u001b[39;00m coupler_id \u001b[38;5;129;01min\u001b[39;00m qubits_and_couplers[ApiUtility\u001b[38;5;241m.\u001b[39mkeys\u001b[38;5;241m.\u001b[39mcouplers]:\n",
      "File \u001b[1;32m~\\Desktop\\pennylane-snowflurry\\pennylane_snowflurry\\API\\api_adapter.py:42\u001b[0m, in \u001b[0;36mApiAdapter.get_qubits_and_couplers\u001b[1;34m()\u001b[0m\n\u001b[0;32m     39\u001b[0m \u001b[38;5;129m@staticmethod\u001b[39m\n\u001b[0;32m     40\u001b[0m \u001b[38;5;28;01mdef\u001b[39;00m \u001b[38;5;21mget_qubits_and_couplers\u001b[39m() \u001b[38;5;241m-\u001b[39m\u001b[38;5;241m>\u001b[39m \u001b[38;5;28mdict\u001b[39m[\u001b[38;5;28mstr\u001b[39m, \u001b[38;5;28many\u001b[39m] \u001b[38;5;241m|\u001b[39m \u001b[38;5;28;01mNone\u001b[39;00m:\n\u001b[0;32m     41\u001b[0m     res \u001b[38;5;241m=\u001b[39m ApiAdapter\u001b[38;5;241m.\u001b[39minstance()\u001b[38;5;241m.\u001b[39mget_benchmark()\n\u001b[1;32m---> 42\u001b[0m     \u001b[38;5;28;01mif\u001b[39;00m \u001b[43mres\u001b[49m\u001b[38;5;241;43m.\u001b[39;49m\u001b[43mstatus_code\u001b[49m \u001b[38;5;241m!=\u001b[39m \u001b[38;5;241m200\u001b[39m:\n\u001b[0;32m     43\u001b[0m         \u001b[38;5;28;01mreturn\u001b[39;00m \u001b[38;5;28;01mNone\u001b[39;00m\n\u001b[0;32m     44\u001b[0m     \u001b[38;5;28;01mreturn\u001b[39;00m json\u001b[38;5;241m.\u001b[39mloads(res\u001b[38;5;241m.\u001b[39mtext)[ApiUtility\u001b[38;5;241m.\u001b[39mkeys\u001b[38;5;241m.\u001b[39mresultsPerDevice]\n",
      "\u001b[1;31mAttributeError\u001b[0m: 'NoneType' object has no attribute 'status_code'"
     ]
    },
    {
     "ename": "",
     "evalue": "",
     "output_type": "error",
     "traceback": [
      "\u001b[1;31mThe Kernel crashed while executing code in the current cell or a previous cell. \n",
      "\u001b[1;31mPlease review the code in the cell(s) to identify a possible cause of the failure. \n",
      "\u001b[1;31mClick <a href='https://aka.ms/vscodeJupyterKernelCrash'>here</a> for more info. \n",
      "\u001b[1;31mView Jupyter <a href='command:jupyter.viewOutput'>log</a> for further details."
     ]
    }
   ],
   "source": [
    "# Load environment variables\n",
    "load_dotenv()\n",
    "HOST_ENV = os.getenv(\"HOST\")\n",
    "USER_ENV = os.getenv(\"USER\")\n",
    "ACCESS_TOKEN_ENV = os.getenv(\"ACCESS_TOKEN\")\n",
    "REALM_ENV = os.getenv(\"REALM\")\n",
    "\n",
    "s = '101'\n",
    "n_qubits = len(s)\n",
    "\n",
    "num_shots = 1000\n",
    "\n",
    "exit()\n",
    "# Real device for measured result\n",
    "dev_sf = qml.device(\n",
    "    \"monarq.default\",\n",
    "    wires=n_qubits+1,\n",
    "    shots=num_shots,\n",
    "    host=HOST_ENV,\n",
    "    user=USER_ENV,\n",
    "    access_token=ACCESS_TOKEN_ENV,\n",
    "    project_name=\"\",\n",
    "    #realm=REALM_ENV,\n",
    ")\n",
    "\n",
    "\n",
    "\n",
    "@qml.qnode(dev_sf)\n",
    "def bernstein_vazirani(s):\n",
    "    # Étapes 1-2: Initialisation et superposition\n",
    "    for i in range(n_qubits):\n",
    "        qml.Hadamard(wires=i)\n",
    "\n",
    "    qml.PauliX(wires=n_qubits)\n",
    "    qml.Hadamard(wires=n_qubits)\n",
    "\n",
    "    # Étape 3 : Application de l'oracle pour la chaîne binaire s\n",
    "    for i in range(n_qubits):\n",
    "        if s[i] == '1':\n",
    "            qml.CNOT(wires=[i, n_qubits])\n",
    "\n",
    "    # Étape 4 : Transformation Hadamard\n",
    "    for i in range(n_qubits):\n",
    "        qml.Hadamard(wires=i)\n",
    "\n",
    "    # Étape 5 : Mesure des qubits d'entrée\n",
    "    return qml.counts(wires=range(n_qubits))\n",
    "\n",
    "\n",
    "\n",
    "# Exécuter le circuit avec la chaîne binaire s\n",
    "result = bernstein_vazirani(s)\n",
    "\n",
    "\n"
   ]
  },
  {
   "cell_type": "code",
   "execution_count": null,
   "metadata": {},
   "outputs": [],
   "source": [
    "print(result)"
   ]
  },
  {
   "cell_type": "code",
   "execution_count": null,
   "metadata": {},
   "outputs": [],
   "source": [
    "labels = list(result.keys())\n",
    "values = list(result.values())\n",
    "\n",
    "with open('bernstein_monarq.csv', 'w', newline='') as file:\n",
    "    writer = csv.writer(file)\n",
    "    writer.writerow(['Label', 'Value'])  # Header\n",
    "    writer.writerows(zip(labels, values))\n",
    "\n",
    "\n",
    "\n",
    "\n",
    "plt.figure(figsize=(10, 5))\n",
    "plt.bar(labels, values)\n",
    "plt.xlabel('Bit String Result')\n",
    "plt.ylabel('Counts')\n",
    "plt.title('title')\n",
    "plt.xticks(rotation=45)\n",
    "plt.grid(axis='y')\n",
    "plt.tight_layout()\n",
    "plt.show()"
   ]
  },
  {
   "cell_type": "markdown",
   "metadata": {},
   "source": [
    "# pas bon pour le moment "
   ]
  },
  {
   "cell_type": "code",
   "execution_count": 7,
   "metadata": {},
   "outputs": [
    {
     "name": "stdout",
     "output_type": "stream",
     "text": [
      "{'000': 53, '001': 58, '010': 39, '011': 128, '100': 43, '101': 146, '110': 90, '111': 443}\n"
     ]
    }
   ],
   "source": [
    "# Load environment variables\n",
    "load_dotenv()\n",
    "HOST_ENV = os.getenv(\"HOST\")\n",
    "USER_ENV = os.getenv(\"USER\")\n",
    "ACCESS_TOKEN_ENV = os.getenv(\"ACCESS_TOKEN\")\n",
    "REALM_ENV = os.getenv(\"REALM\")\n",
    "\n",
    "s = '110'\n",
    "n_qubits = len(s)\n",
    "\n",
    "num_shots = 1000\n",
    "\n",
    "myqubits = [1,0,4,8]\n",
    "\n",
    "# Real device for measured result\n",
    "dev_sf_2 = qml.device(\n",
    "    \"monarq.default\",\n",
    "    #wires=n_qubits+1,\n",
    "    shots=num_shots,\n",
    "    host=HOST_ENV,\n",
    "    user=USER_ENV,\n",
    "    access_token=ACCESS_TOKEN_ENV,\n",
    "    project_name=\"\",\n",
    "    #realm=REALM_ENV,\n",
    ")\n",
    "\n",
    "\n",
    "\n",
    "@qml.qnode(dev_sf_2)\n",
    "def bernstein_vazirani(s):\n",
    "    # Étapes 1-2: Initialisation et superposition\n",
    "    for i in myqubits[:3]:\n",
    "        qml.Hadamard(wires=i)\n",
    "\n",
    "    qml.PauliX(wires=myqubits[n_qubits])\n",
    "    qml.Hadamard(wires=myqubits[n_qubits])\n",
    "\n",
    "    # Étape 3 : Application de l'oracle pour la chaîne binaire s\n",
    "    for i, w in enumerate(myqubits[:3]): #équivalent à prendre les 3 premiers qubits\n",
    "        if s[i] == '1':\n",
    "            qml.CNOT(wires=[w ,myqubits[n_qubits]])\n",
    "\n",
    "    # Étape 4 : Transformation Hadamard\n",
    "    for i in myqubits:\n",
    "        qml.Hadamard(wires=i)\n",
    "\n",
    "    # Étape 5 : Mesure des qubits d'entrée\n",
    "    return qml.counts(wires=myqubits[:3])\n",
    "\n",
    "\n",
    "\n",
    "# Exécuter le circuit avec la chaîne binaire s\n",
    "result = bernstein_vazirani(s)\n",
    "\n",
    "print(result)"
   ]
  },
  {
   "cell_type": "code",
   "execution_count": null,
   "metadata": {},
   "outputs": [],
   "source": [
    "labels = list(result.keys())\n",
    "values = list(result.values())\n",
    "\n",
    "plt.figure(figsize=(10, 5))\n",
    "plt.bar(labels, values)\n",
    "plt.xlabel('Bit String Result')\n",
    "plt.ylabel('Counts')\n",
    "plt.title('title')\n",
    "plt.xticks(rotation=45)\n",
    "plt.grid(axis='y')\n",
    "plt.tight_layout()\n",
    "plt.show()"
   ]
  }
 ],
 "metadata": {
  "kernelspec": {
   "display_name": "Python 3",
   "language": "python",
   "name": "python3"
  },
  "language_info": {
   "codemirror_mode": {
    "name": "ipython",
    "version": 3
   },
   "file_extension": ".py",
   "mimetype": "text/x-python",
   "name": "python",
   "nbconvert_exporter": "python",
   "pygments_lexer": "ipython3",
   "version": "3.12.5"
  }
 },
 "nbformat": 4,
 "nbformat_minor": 2
}
