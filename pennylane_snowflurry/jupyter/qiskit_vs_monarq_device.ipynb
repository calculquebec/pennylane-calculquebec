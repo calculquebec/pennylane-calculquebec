{
 "cells": [
  {
   "cell_type": "code",
   "execution_count": 2,
   "metadata": {},
   "outputs": [],
   "source": [
    "import numpy as np\n",
    "import rustworkx as rx\n",
    " \n",
    "from qiskit.providers import BackendV2, Options\n",
    "from qiskit.transpiler import Target, InstructionProperties\n",
    "from qiskit.circuit.library import XGate, YGate, ZGate, RXGate, RYGate, RZGate, CZGate, PhaseGate, TGate, TdgGate, SXGate, SXdgGate, SGate, SdgGate\n",
    "from qiskit.circuit import Measure, Delay, Parameter, Reset\n",
    "from qiskit import QuantumCircuit, transpile\n",
    "from qiskit.visualization import plot_gate_map\n",
    "import qiskit.qasm2 as qasm2\n",
    "from functools import partial\n",
    "import pennylane as qml\n",
    "from pennylane.tape import QuantumTape\n",
    "from pennylane_snowflurry.transpiler.monarq_transpile import Transpiler\n",
    "from pennylane_snowflurry.transpiler.transpiler_config import MonarqDefaultConfig\n",
    "from pennylane_snowflurry.utility.debug_utility import arbitrary_circuit, to_qasm\n",
    "from pennylane_snowflurry.transpiler.steps.placement import VF2\n",
    "\n",
    "\n",
    "from pennylane_snowflurry.monarq_data import connectivity"
   ]
  },
  {
   "cell_type": "code",
   "execution_count": 3,
   "metadata": {},
   "outputs": [],
   "source": [
    "\n",
    "class FakeMonarQ(BackendV2):\n",
    "    \"\"\"Fake multi chip backend.\"\"\"\n",
    " \n",
    "    def __init__(self):\n",
    "        \n",
    "        super().__init__(name=\"Fake MonarQ\")\n",
    "        # Create a heavy-hex graph using the rustworkx library, then instantiate a new target\n",
    "        self._graph = rx.PyGraph()\n",
    "        num_qubits = 24\n",
    "        self._target = Target(\n",
    "            \"Fake MonarQ\", num_qubits=num_qubits\n",
    "        )\n",
    " \n",
    "        # Generate instruction properties for single qubit gates and a measurement, delay,\n",
    "        #  and reset operation to every qubit in the backend.\n",
    "        rng = np.random.default_rng(seed=12345678942)\n",
    "        x_props = {}\n",
    "        z_props = {}\n",
    "        measure_props = {}\n",
    "        delay_props = {}\n",
    "        \n",
    "        # Add 1q gates. Globally use virtual rz, x, sx, and measure\n",
    "        for i in range(num_qubits):\n",
    "            qarg = (i,)\n",
    "            z_props[qarg] = InstructionProperties(error=0.0, duration=0.0)\n",
    "            x_props[qarg] = InstructionProperties(\n",
    "                error=rng.uniform(1e-6, 1e-4),\n",
    "                duration=rng.uniform(1e-8, 9e-7),\n",
    "            )\n",
    "            measure_props[qarg] = InstructionProperties(\n",
    "                error=rng.uniform(1e-3, 1e-1),\n",
    "                duration=rng.uniform(1e-8, 9e-7),\n",
    "            )\n",
    "            delay_props[qarg] = None\n",
    "            \n",
    "        self._target.add_instruction(SGate(), z_props)\n",
    "        self._target.add_instruction(SXGate(), x_props)\n",
    "        self._target.add_instruction(SdgGate(), z_props)\n",
    "        self._target.add_instruction(SXdgGate(), x_props)\n",
    "        self._target.add_instruction(XGate(), x_props)\n",
    "        self._target.add_instruction(YGate(), x_props)\n",
    "        self._target.add_instruction(ZGate(), z_props)\n",
    "        self._target.add_instruction(TGate(), z_props)\n",
    "        self._target.add_instruction(TdgGate(), z_props)\n",
    "        self._target.add_instruction(PhaseGate(Parameter(\"theta\")), z_props)\n",
    "        \n",
    "        self._target.add_instruction(Measure(), measure_props)\n",
    "        self._target.add_instruction(Reset(), measure_props)\n",
    " \n",
    "        self._target.add_instruction(Delay(Parameter(\"t\")), delay_props)\n",
    "        # Add chip local 2q gate which is CZ\n",
    "        cz_props = {}\n",
    "        for v in [[0, 1], [0, 2], [0, 3], [1, 2], [1, 3], [2, 3]]:# connectivity[\"couplers\"].values():\n",
    "            edge = (v[0], v[1])\n",
    "            cz_props[edge] = InstructionProperties(\n",
    "                    error=rng.uniform(7e-4, 5e-3),\n",
    "                    duration=rng.uniform(1e-8, 9e-7))\n",
    "                                \n",
    "        self._target.add_instruction(CZGate(), cz_props)\n",
    " \n",
    "    @property\n",
    "    def target(self):\n",
    "        return self._target\n",
    " \n",
    "    @property\n",
    "    def max_circuits(self):\n",
    "        return None\n",
    " \n",
    "    @property\n",
    "    def graph(self):\n",
    "        return self._graph\n",
    " \n",
    "    @classmethod\n",
    "    def _default_options(cls):\n",
    "        return Options(shots=1024)\n",
    " \n",
    "    def run(self, circuit, **kwargs):\n",
    "        raise NotImplementedError(\n",
    "            \"This backend does not contain a run method\"\n",
    "        )"
   ]
  },
  {
   "cell_type": "code",
   "execution_count": 4,
   "metadata": {},
   "outputs": [
    {
     "name": "stdout",
     "output_type": "stream",
     "text": [
      "Post-Transpilation: \n",
      "OrderedDict({'sx': 28, 'p': 17, 'cz': 14, 's': 2})\n"
     ]
    }
   ],
   "source": [
    "from qiskit.transpiler.preset_passmanagers import generate_preset_pass_manager\n",
    "\n",
    "backend = FakeMonarQ()\n",
    "\n",
    "ghz = QuantumCircuit(4)\n",
    "ghz.mcx([0, 1, 2], 3)\n",
    "op_counts = ghz.count_ops()\n",
    "pm = generate_preset_pass_manager(optimization_level=3, backend=backend)\n",
    "transpiled_ghz = pm.run(ghz)\n",
    "op_counts = transpiled_ghz.count_ops()\n",
    "\n",
    "print(\"Post-Transpilation: \")\n",
    "print(op_counts)\n",
    "\n",
    "# print(qasm2.dumps(transpiled_ghz))\n",
    "\n"
   ]
  },
  {
   "cell_type": "code",
   "execution_count": 6,
   "metadata": {},
   "outputs": [
    {
     "name": "stdout",
     "output_type": "stream",
     "text": [
      "defaultdict(<class 'int'>, {'Z90': 40, 'X90': 63, 'PhaseShift': 24, 'PauliZ': 36, 'CZ': 24})\n"
     ]
    }
   ],
   "source": [
    "default_dev = qml.device(\"default.qubit\")\n",
    "\n",
    "tape = QuantumTape(ops=[qml.MultiControlledX([0, 1, 2], 3)], measurements=[qml.probs(wires=[0, 1, 2, 3])])\n",
    "\n",
    "config = MonarqDefaultConfig(False)\n",
    "config.steps.pop(1)\n",
    "config.steps.pop(1)\n",
    "tape = Transpiler.get_transpiler(config)(tape)[0][0]\n",
    "\n",
    "node = qml.QNode(lambda : arbitrary_circuit(tape, qml.probs), default_dev)\n",
    "node()\n",
    "# print(to_qasm(tape))\n",
    "specs = qml.specs(node)()\n",
    "print(specs[\"resources\"].gate_types)\n",
    "\n"
   ]
  }
 ],
 "metadata": {
  "kernelspec": {
   "display_name": "Python 3",
   "language": "python",
   "name": "python3"
  },
  "language_info": {
   "codemirror_mode": {
    "name": "ipython",
    "version": 3
   },
   "file_extension": ".py",
   "mimetype": "text/x-python",
   "name": "python",
   "nbconvert_exporter": "python",
   "pygments_lexer": "ipython3",
   "version": "3.12.5"
  }
 },
 "nbformat": 4,
 "nbformat_minor": 2
}
