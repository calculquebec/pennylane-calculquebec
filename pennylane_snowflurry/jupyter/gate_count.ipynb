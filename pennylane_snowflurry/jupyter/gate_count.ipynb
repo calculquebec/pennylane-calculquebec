{
 "cells": [
  {
   "cell_type": "code",
   "execution_count": 25,
   "metadata": {},
   "outputs": [],
   "source": [
    "import pennylane as qml\n",
    "from pennylane.tape import QuantumTape\n",
    "from pennylane.operation import Operation\n",
    "from pennylane.measurements import MeasurementProcess\n",
    "from pennylane.transforms import create_expand_fn"
   ]
  },
  {
   "cell_type": "code",
   "execution_count": 26,
   "metadata": {},
   "outputs": [],
   "source": [
    "# les portes de base de notre expansion \n",
    "# je triche ici en rajoutant RZ, RX, RY \n",
    "# mais c'est surement ok vu que ce qui nous intéresse au final c'est les CNOT\n",
    "base_gates = [\"T\", \"Adjoint(T)\", \n",
    "              \"S\", \"Adjoint(S)\", \n",
    "              \"SX\", \"Adjoint(SX)\", \n",
    "              \"PauliX\", \"PauliY\", \"PauliZ\", \n",
    "              \"Hadamard\", \"CNOT\", \n",
    "              \"RZ\", \"RX\", \"RY\"]\n",
    "\n",
    "def decompose(tape : QuantumTape) -> QuantumTape:\n",
    "    def stop_at(op : Operation):\n",
    "        return op.name in base_gates\n",
    "\n",
    "    # pennylane create_expand_fn does the job for us \n",
    "    custom_expand_fn = create_expand_fn(depth=9, stop_at=stop_at)\n",
    "    tape = custom_expand_fn(tape)\n",
    "    return tape"
   ]
  },
  {
   "cell_type": "code",
   "execution_count": 27,
   "metadata": {},
   "outputs": [],
   "source": [
    "# définir un device\n",
    "dev = qml.device(\"default.qubit\")\n"
   ]
  },
  {
   "cell_type": "code",
   "execution_count": 28,
   "metadata": {},
   "outputs": [],
   "source": [
    "# le noeud à expandre\n",
    "@qml.qnode(dev)\n",
    "def circuit():\n",
    "    qml.MultiControlledX([0, 1, 2], [3])\n",
    "    return qml.probs()"
   ]
  },
  {
   "cell_type": "code",
   "execution_count": 29,
   "metadata": {},
   "outputs": [],
   "source": [
    "# une fonction utilitaire qui crée un noeud à partir d'un tape\n",
    "# ya surement un meilleur moyen de faire ça, mais c'est ce que j'ai\n",
    "@qml.qnode(dev)\n",
    "def arbitrary_circuit(tape : QuantumTape, measurement = qml.counts):\n",
    "    \"\"\"\n",
    "    create a quantum function out of a tape and a default measurement to use (overrides the measurements in the tape)\n",
    "    \"\"\"\n",
    "    for op in tape.operations:\n",
    "        if len(op.parameters) > 0:\n",
    "            qml.apply(op)\n",
    "        else:\n",
    "            qml.apply(op)\n",
    "    \n",
    "    def get_wires(mp : MeasurementProcess):\n",
    "        return [w for w in mp.wires] if mp is not None and mp.wires is not None and len(mp.wires) > 0 else tape.wires\n",
    "\n",
    "    # retourner une liste de mesures si on a plusieurs mesures, sinon retourner une seule mesure\n",
    "    return [measurement(wires=get_wires(meas)) for meas in tape.measurements] if len(tape.measurements) > 1 \\\n",
    "        else measurement(wires=get_wires(tape.measurements[0] if len(tape.measurements) > 0 else None))"
   ]
  },
  {
   "cell_type": "code",
   "execution_count": 30,
   "metadata": {},
   "outputs": [
    {
     "name": "stderr",
     "output_type": "stream",
     "text": [
      "c:\\Users\\bouch\\AppData\\Local\\Programs\\Python\\Python312\\Lib\\site-packages\\pennylane\\ops\\op_math\\controlled_ops.py:1103: UserWarning: The control_wires keyword for MultiControlledX is deprecated, and will be removed soon. Use wires = (*control_wires, target_wire) instead.\n",
      "  warnings.warn(\n"
     ]
    }
   ],
   "source": [
    "# exécuter le circuit, récupérer le tape, décomposer le tape\n",
    "circuit()\n",
    "tape = circuit.tape\n",
    "tape = decompose(tape)"
   ]
  },
  {
   "cell_type": "code",
   "execution_count": 31,
   "metadata": {},
   "outputs": [
    {
     "name": "stdout",
     "output_type": "stream",
     "text": [
      "RZ : 20\n",
      "RY : 10\n",
      "CNOT : 24\n",
      "Hadamard : 4\n",
      "Adjoint(T) : 6\n",
      "T : 8\n"
     ]
    }
   ],
   "source": [
    "# créer un circuit à partir du tape décomposé et récupérer les specs\n",
    "specs = qml.specs(arbitrary_circuit)(tape)\n",
    "resources = specs[\"resources\"]\n",
    "# voilà le gate count\n",
    "print(\"\\n\".join([f\"{k} : {v}\" for k,v in resources.gate_types.items()]))"
   ]
  }
 ],
 "metadata": {
  "kernelspec": {
   "display_name": "Python 3",
   "language": "python",
   "name": "python3"
  },
  "language_info": {
   "codemirror_mode": {
    "name": "ipython",
    "version": 3
   },
   "file_extension": ".py",
   "mimetype": "text/x-python",
   "name": "python",
   "nbconvert_exporter": "python",
   "pygments_lexer": "ipython3",
   "version": "3.12.5"
  }
 },
 "nbformat": 4,
 "nbformat_minor": 2
}
