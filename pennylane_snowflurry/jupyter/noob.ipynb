{
 "cells": [
  {
   "cell_type": "code",
   "execution_count": 1,
   "metadata": {},
   "outputs": [
    {
     "name": "stdout",
     "output_type": "stream",
     "text": [
      "Detected IPython. Loading juliacall extension. See https://juliapy.github.io/PythonCall.jl/stable/compat/#IPython\n"
     ]
    }
   ],
   "source": [
    "import pennylane as qml\n",
    "from pennylane import numpy as np\n",
    "from dotenv import load_dotenv\n",
    "import os\n",
    "import csv\n",
    "import pandas as pd\n",
    "import matplotlib.pyplot as plt\n",
    "from collections import defaultdict\n",
    "from datetime import datetime\n",
    "\n",
    "\n",
    "from pennylane_snowflurry.API.client import MonarqClient\n",
    "from pennylane_snowflurry.processing.steps import ReadoutErrorMitigation\n",
    "\n",
    "from pennylane_snowflurry.processing.config import MonarqDefaultConfig, MonarqDefaultConfigNoBenchmark, NoPlaceNoRouteConfig, EmptyConfig\n"
   ]
  },
  {
   "cell_type": "code",
   "execution_count": 13,
   "metadata": {},
   "outputs": [],
   "source": [
    "load_dotenv()\n",
    "HOST_ENV = os.getenv(\"HOST\")\n",
    "USER_ENV = os.getenv(\"USER\")\n",
    "ACCESS_TOKEN_ENV = os.getenv(\"ACCESS_TOKEN\")\n",
    "REALM_ENV = os.getenv(\"REALM\")\n",
    "\n",
    "num_wires = [1] # for MonarQ\n",
    "num_shots = 1000\n",
    "\n",
    "\n",
    "my_client = MonarqClient(HOST_ENV , USER_ENV, ACCESS_TOKEN_ENV)\n",
    "\n",
    "transpiler_config = NoPlaceNoRouteConfig()\n",
    "\n",
    "transpiler_config.steps.append(ReadoutErrorMitigation())  # avec ou sans mitigation du readout\n",
    "\n",
    "dev = qml.device(\n",
    "    \"monarq.default\",\n",
    "    client=my_client,\n",
    "    wires=num_wires,\n",
    "    shots=num_shots,\n",
    "    processing_config = transpiler_config)\n",
    "# dev = qml.device(\"default.qubit\", wires = num_wires, shots = num_shots)\n"
   ]
  },
  {
   "cell_type": "code",
   "execution_count": 14,
   "metadata": {},
   "outputs": [],
   "source": [
    "devsim = qml.device('default.qubit', wires =1, shots = num_shots)\n",
    "@qml.qnode(dev, diff_method=\"parameter-shift\")\n",
    "\n",
    "def circuit(params):\n",
    "    qml.RX(params[0], wires=1)\n",
    "    return qml.counts(all_outcomes = True)\n",
    " #return qml.expval(qml.PauliZ(0)) # Equivalent to the operator mean value calculation presented in section 3, the mean value of operator <Z> = cos(theta)\n",
    "\n",
    "\n",
    "def compute_expval(counts):\n",
    "    val = list(counts.values())\n",
    "    p0= val[0]/num_shots\n",
    "    p1= val[1]/num_shots\n",
    "    return p0 - p1\n"
   ]
  },
  {
   "cell_type": "code",
   "execution_count": null,
   "metadata": {},
   "outputs": [
    {
     "name": "stdout",
     "output_type": "stream",
     "text": [
      "Optimized params: [5.0175]\n",
      "Optimized params: [4.86207854]\n"
     ]
    }
   ],
   "source": [
    "def cost(params): \n",
    "    counts = circuit(params)\n",
    "    return compute_expval(counts)\n",
    "\n",
    "opt= qml.SPSAOptimizer(maxiter= 10000, c=0.02 ) \n",
    "params = np.array([5])\n",
    "steps = 100\n",
    "\n",
    "saved_params = []\n",
    "saved_costs = []\n",
    "\n",
    "\n",
    "for i in range(steps):\n",
    "    params = opt.step(cost, params)\n",
    "    current_cost = cost(params)\n",
    "    saved_params.append(params.copy())  \n",
    "    saved_costs.append(current_cost)\n",
    "  \n",
    "    print(f'Optimized params: {params}') # cos(pi) = -1 !\n",
    "\n"
   ]
  },
  {
   "cell_type": "code",
   "execution_count": 8,
   "metadata": {},
   "outputs": [
    {
     "name": "stdout",
     "output_type": "stream",
     "text": [
      "Step 1: Params = [3.495], Cost = -0.9420\n",
      "Step 2: Params = [3.47088288], Cost = -0.9380\n",
      "Step 3: Params = [3.44298267], Cost = -0.9580\n",
      "Step 4: Params = [3.42001824], Cost = -0.9740\n",
      "Step 5: Params = [3.36426798], Cost = -0.9660\n",
      "Step 6: Params = [3.37322888], Cost = -0.9800\n",
      "Step 7: Params = [3.33381258], Cost = -0.9820\n",
      "Step 8: Params = [3.30002767], Cost = -0.9860\n",
      "Step 9: Params = [3.28760264], Cost = -0.9900\n",
      "Step 10: Params = [3.29074026], Cost = -0.9760\n",
      "Step 11: Params = [3.29390634], Cost = -0.9820\n",
      "Step 12: Params = [3.28432996], Cost = -0.9940\n",
      "Step 13: Params = [3.25216872], Cost = -0.9980\n",
      "Step 14: Params = [3.23921528], Cost = -0.9940\n",
      "Step 15: Params = [3.22943806], Cost = -0.9980\n",
      "Step 16: Params = [3.21960274], Cost = -0.9980\n",
      "Step 17: Params = [3.20971286], Cost = -0.9920\n",
      "Step 18: Params = [3.20971286], Cost = -0.9980\n",
      "Step 19: Params = [3.19639316], Cost = -0.9980\n",
      "Step 20: Params = [3.19304791], Cost = -0.9980\n",
      "Step 21: Params = [3.19304791], Cost = -1.0000\n",
      "Step 22: Params = [3.19304791], Cost = -1.0000\n",
      "Step 23: Params = [3.18627429], Cost = -1.0000\n",
      "Step 24: Params = [3.18627429], Cost = -1.0000\n",
      "Step 25: Params = [3.18627429], Cost = -1.0000\n",
      "Step 26: Params = [3.17600539], Cost = -1.0000\n",
      "Step 27: Params = [3.17257136], Cost = -0.9980\n",
      "Step 28: Params = [3.17257136], Cost = -1.0000\n",
      "Step 29: Params = [3.17257136], Cost = -1.0000\n",
      "Step 30: Params = [3.17603604], Cost = -1.0000\n",
      "Step 31: Params = [3.16561362], Cost = -0.9980\n",
      "Step 32: Params = [3.16561362], Cost = -1.0000\n",
      "Step 33: Params = [3.15862948], Cost = -1.0000\n",
      "Step 34: Params = [3.15862948], Cost = -1.0000\n",
      "Step 35: Params = [3.15862948], Cost = -1.0000\n",
      "Step 36: Params = [3.15862948], Cost = -1.0000\n",
      "Step 37: Params = [3.15158059], Cost = -1.0000\n",
      "Step 38: Params = [3.14804869], Cost = -1.0000\n",
      "Step 39: Params = [3.14804869], Cost = -1.0000\n",
      "Step 40: Params = [3.14804869], Cost = -1.0000\n",
      "Step 41: Params = [3.14804869], Cost = -1.0000\n",
      "Step 42: Params = [3.14804869], Cost = -1.0000\n",
      "Step 43: Params = [3.14804869], Cost = -1.0000\n",
      "Step 44: Params = [3.14447652], Cost = -1.0000\n",
      "Step 45: Params = [3.14447652], Cost = -1.0000\n",
      "Step 46: Params = [3.14447652], Cost = -1.0000\n",
      "Step 47: Params = [3.14447652], Cost = -1.0000\n",
      "Step 48: Params = [3.14447652], Cost = -1.0000\n",
      "Step 49: Params = [3.14447652], Cost = -1.0000\n",
      "Step 50: Params = [3.14447652], Cost = -1.0000\n",
      "Step 51: Params = [3.14447652], Cost = -1.0000\n",
      "Step 52: Params = [3.14447652], Cost = -1.0000\n",
      "Step 53: Params = [3.14447652], Cost = -1.0000\n",
      "Step 54: Params = [3.14447652], Cost = -1.0000\n",
      "Step 55: Params = [3.14447652], Cost = -1.0000\n",
      "Step 56: Params = [3.14447652], Cost = -1.0000\n",
      "Step 57: Params = [3.14447652], Cost = -1.0000\n",
      "Step 58: Params = [3.14447652], Cost = -1.0000\n",
      "Step 59: Params = [3.14447652], Cost = -1.0000\n",
      "Step 60: Params = [3.14447652], Cost = -1.0000\n",
      "Step 61: Params = [3.14447652], Cost = -1.0000\n",
      "Step 62: Params = [3.14447652], Cost = -1.0000\n",
      "Step 63: Params = [3.14447652], Cost = -1.0000\n",
      "Step 64: Params = [3.14447652], Cost = -1.0000\n",
      "Step 65: Params = [3.14447652], Cost = -1.0000\n",
      "Step 66: Params = [3.14447652], Cost = -1.0000\n",
      "Step 67: Params = [3.14447652], Cost = -1.0000\n",
      "Step 68: Params = [3.14447652], Cost = -1.0000\n",
      "Step 69: Params = [3.14447652], Cost = -1.0000\n",
      "Step 70: Params = [3.14447652], Cost = -1.0000\n",
      "Step 71: Params = [3.14447652], Cost = -1.0000\n",
      "Step 72: Params = [3.14817152], Cost = -1.0000\n",
      "Step 73: Params = [3.14817152], Cost = -1.0000\n",
      "Step 74: Params = [3.14817152], Cost = -1.0000\n",
      "Step 75: Params = [3.14817152], Cost = -1.0000\n",
      "Step 76: Params = [3.14817152], Cost = -1.0000\n",
      "Step 77: Params = [3.14817152], Cost = -1.0000\n",
      "Step 78: Params = [3.14817152], Cost = -1.0000\n",
      "Step 79: Params = [3.14817152], Cost = -1.0000\n",
      "Step 80: Params = [3.14817152], Cost = -1.0000\n",
      "Step 81: Params = [3.14817152], Cost = -1.0000\n",
      "Step 82: Params = [3.14817152], Cost = -1.0000\n",
      "Step 83: Params = [3.14817152], Cost = -1.0000\n",
      "Step 84: Params = [3.14817152], Cost = -1.0000\n",
      "Step 85: Params = [3.14817152], Cost = -1.0000\n",
      "Step 86: Params = [3.14443888], Cost = -1.0000\n",
      "Step 87: Params = [3.14443888], Cost = -1.0000\n",
      "Step 88: Params = [3.14443888], Cost = -1.0000\n",
      "Step 89: Params = [3.14443888], Cost = -1.0000\n",
      "Step 90: Params = [3.14443888], Cost = -1.0000\n",
      "Step 91: Params = [3.14443888], Cost = -1.0000\n",
      "Step 92: Params = [3.14443888], Cost = -1.0000\n",
      "Step 93: Params = [3.14443888], Cost = -1.0000\n",
      "Step 94: Params = [3.14443888], Cost = -1.0000\n",
      "Step 95: Params = [3.14443888], Cost = -1.0000\n",
      "Step 96: Params = [3.14443888], Cost = -1.0000\n",
      "Step 97: Params = [3.14443888], Cost = -1.0000\n",
      "Step 98: Params = [3.14443888], Cost = -1.0000\n",
      "Step 99: Params = [3.14443888], Cost = -1.0000\n",
      "Step 100: Params = [3.14443888], Cost = -1.0000\n"
     ]
    }
   ],
   "source": [
    "for i, (param, cost_val) in enumerate(zip(saved_params, saved_costs)):\n",
    "    print(f\"Step {i + 1}: Params = {param}, Cost = {cost_val:.4f}\")"
   ]
  },
  {
   "cell_type": "code",
   "execution_count": null,
   "metadata": {},
   "outputs": [],
   "source": [
    "plt.figure(figsize=(10, 6))\n",
    "\n",
    "optimized_params = [p[0] for p in saved_params]\n",
    "plt.plot(range(1, steps + 1), optimized_params, marker=\"o\", linestyle=\"-\", label=\"Optimized Parameter\")\n",
    "plt.axhline(np.pi, color=\"red\", linestyle=\"--\", label=\" π\")\n",
    "\n",
    "plt.xlabel(\"Step\")\n",
    "plt.ylabel(\"Parameter Value\")\n",
    "plt.legend()\n",
    "plt.grid()\n",
    "plt.show()"
   ]
  },
  {
   "cell_type": "code",
   "execution_count": null,
   "metadata": {},
   "outputs": [],
   "source": [
    "import json\n",
    "\n",
    "# Save to JSON file\n",
    "results = [{\"step\": i + 1, \"params\": param.tolist(), \"cost\": cost_val} \n",
    "           for i, (param, cost_val) in enumerate(zip(saved_params, saved_costs))]\n",
    "\n",
    "with open(\"optimization_results.json\", \"w\") as f:\n",
    "    json.dump(results, f, indent=4)"
   ]
  }
 ],
 "metadata": {
  "kernelspec": {
   "display_name": "Python 3",
   "language": "python",
   "name": "python3"
  },
  "language_info": {
   "codemirror_mode": {
    "name": "ipython",
    "version": 3
   },
   "file_extension": ".py",
   "mimetype": "text/x-python",
   "name": "python",
   "nbconvert_exporter": "python",
   "pygments_lexer": "ipython3",
   "version": "3.12.5"
  }
 },
 "nbformat": 4,
 "nbformat_minor": 2
}
