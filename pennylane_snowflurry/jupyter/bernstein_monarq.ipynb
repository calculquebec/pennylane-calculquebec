{
 "cells": [
  {
   "cell_type": "code",
   "execution_count": 2,
   "metadata": {},
   "outputs": [],
   "source": [
    "import pennylane as qml\n",
    "from pennylane import numpy as np\n",
    "from dotenv import load_dotenv\n",
    "import os\n",
    "# import csv\n",
    "# import pandas as pd\n",
    "import matplotlib.pyplot as plt\n",
    "from collections import defaultdict\n",
    "from datetime import datetime\n"
   ]
  },
  {
   "cell_type": "code",
   "execution_count": 11,
   "metadata": {},
   "outputs": [
    {
     "name": "stdout",
     "output_type": "stream",
     "text": [
      "Wires([0, 1, 2, 3])\n"
     ]
    }
   ],
   "source": [
    "# Load environment variables\n",
    "load_dotenv()\n",
    "HOST_ENV = os.getenv(\"HOST\")\n",
    "USER_ENV = os.getenv(\"USER\")\n",
    "ACCESS_TOKEN_ENV = os.getenv(\"ACCESS_TOKEN\")\n",
    "REALM_ENV = os.getenv(\"REALM\")\n",
    "\n",
    "s = '110'\n",
    "n_qubits = len(s)\n",
    "\n",
    "num_shots = 1000\n",
    "\n",
    "\n",
    "# Real device for measured result\n",
    "dev_sf = qml.device(\n",
    "    \"monarq.default\",\n",
    "    wires=n_qubits+1,\n",
    "    shots=num_shots,\n",
    "    host=HOST_ENV,\n",
    "    user=USER_ENV,\n",
    "    access_token=ACCESS_TOKEN_ENV,\n",
    "    project_name=\"\",\n",
    "    #realm=REALM_ENV,\n",
    ")\n",
    "\n",
    "\n",
    "\n",
    "@qml.qnode(dev_sf)\n",
    "def bernstein_vazirani(s):\n",
    "    # Étapes 1-2: Initialisation et superposition\n",
    "    for i in range(n_qubits):\n",
    "        qml.Hadamard(wires=i)\n",
    "\n",
    "    qml.PauliX(wires=n_qubits)\n",
    "    qml.Hadamard(wires=n_qubits)\n",
    "\n",
    "    # Étape 3 : Application de l'oracle pour la chaîne binaire s\n",
    "    for i in range(n_qubits):\n",
    "        if s[i] == '1':\n",
    "            qml.CNOT(wires=[i, n_qubits])\n",
    "\n",
    "    # Étape 4 : Transformation Hadamard\n",
    "    for i in range(n_qubits):\n",
    "        qml.Hadamard(wires=i)\n",
    "\n",
    "    # Étape 5 : Mesure des qubits d'entrée\n",
    "    return qml.counts(wires=range(n_qubits))\n",
    "\n",
    "\n",
    "\n",
    "# Exécuter le circuit avec la chaîne binaire s\n",
    "result = bernstein_vazirani(s)\n",
    "print(bernstein_vazirani.tape.wires)\n",
    "\n"
   ]
  },
  {
   "cell_type": "code",
   "execution_count": 14,
   "metadata": {},
   "outputs": [
    {
     "ename": "KeyboardInterrupt",
     "evalue": "",
     "output_type": "error",
     "traceback": [
      "\u001b[1;31m---------------------------------------------------------------------------\u001b[0m",
      "\u001b[1;31mKeyboardInterrupt\u001b[0m                         Traceback (most recent call last)",
      "Cell \u001b[1;32mIn[14], line 60\u001b[0m\n\u001b[0;32m     55\u001b[0m     \u001b[38;5;28;01mreturn\u001b[39;00m qml\u001b[38;5;241m.\u001b[39mcounts(wires\u001b[38;5;241m=\u001b[39mmy_qubits[:\u001b[38;5;241m3\u001b[39m])\n\u001b[0;32m     59\u001b[0m \u001b[38;5;66;03m# Exécuter le circuit avec la chaîne binaire s\u001b[39;00m\n\u001b[1;32m---> 60\u001b[0m result \u001b[38;5;241m=\u001b[39m \u001b[43mbernstein_vazirani\u001b[49m\u001b[43m(\u001b[49m\u001b[43ms\u001b[49m\u001b[43m)\u001b[49m\n\u001b[0;32m     61\u001b[0m \u001b[38;5;28mprint\u001b[39m(bernstein_vazirani\u001b[38;5;241m.\u001b[39mtape\u001b[38;5;241m.\u001b[39mwires)\n",
      "File \u001b[1;32mc:\\Users\\bouch\\AppData\\Local\\Programs\\Python\\Python312\\Lib\\site-packages\\pennylane\\workflow\\qnode.py:987\u001b[0m, in \u001b[0;36mQNode.__call__\u001b[1;34m(self, *args, **kwargs)\u001b[0m\n\u001b[0;32m    985\u001b[0m \u001b[38;5;28;01mif\u001b[39;00m qml\u001b[38;5;241m.\u001b[39mcapture\u001b[38;5;241m.\u001b[39menabled():\n\u001b[0;32m    986\u001b[0m     \u001b[38;5;28;01mreturn\u001b[39;00m qml\u001b[38;5;241m.\u001b[39mcapture\u001b[38;5;241m.\u001b[39mqnode_call(\u001b[38;5;28mself\u001b[39m, \u001b[38;5;241m*\u001b[39margs, \u001b[38;5;241m*\u001b[39m\u001b[38;5;241m*\u001b[39mkwargs)\n\u001b[1;32m--> 987\u001b[0m \u001b[38;5;28;01mreturn\u001b[39;00m \u001b[38;5;28;43mself\u001b[39;49m\u001b[38;5;241;43m.\u001b[39;49m\u001b[43m_impl_call\u001b[49m\u001b[43m(\u001b[49m\u001b[38;5;241;43m*\u001b[39;49m\u001b[43margs\u001b[49m\u001b[43m,\u001b[49m\u001b[43m \u001b[49m\u001b[38;5;241;43m*\u001b[39;49m\u001b[38;5;241;43m*\u001b[39;49m\u001b[43mkwargs\u001b[49m\u001b[43m)\u001b[49m\n",
      "File \u001b[1;32mc:\\Users\\bouch\\AppData\\Local\\Programs\\Python\\Python312\\Lib\\site-packages\\pennylane\\workflow\\qnode.py:977\u001b[0m, in \u001b[0;36mQNode._impl_call\u001b[1;34m(self, *args, **kwargs)\u001b[0m\n\u001b[0;32m    974\u001b[0m     \u001b[38;5;28mself\u001b[39m\u001b[38;5;241m.\u001b[39m_interface \u001b[38;5;241m=\u001b[39m interface\n\u001b[0;32m    976\u001b[0m \u001b[38;5;28;01mtry\u001b[39;00m:\n\u001b[1;32m--> 977\u001b[0m     res \u001b[38;5;241m=\u001b[39m \u001b[38;5;28;43mself\u001b[39;49m\u001b[38;5;241;43m.\u001b[39;49m\u001b[43m_execution_component\u001b[49m\u001b[43m(\u001b[49m\u001b[43margs\u001b[49m\u001b[43m,\u001b[49m\u001b[43m \u001b[49m\u001b[43mkwargs\u001b[49m\u001b[43m)\u001b[49m\n\u001b[0;32m    978\u001b[0m \u001b[38;5;28;01mfinally\u001b[39;00m:\n\u001b[0;32m    979\u001b[0m     \u001b[38;5;28;01mif\u001b[39;00m old_interface \u001b[38;5;241m==\u001b[39m \u001b[38;5;124m\"\u001b[39m\u001b[38;5;124mauto\u001b[39m\u001b[38;5;124m\"\u001b[39m:\n",
      "File \u001b[1;32mc:\\Users\\bouch\\AppData\\Local\\Programs\\Python\\Python312\\Lib\\site-packages\\pennylane\\workflow\\qnode.py:935\u001b[0m, in \u001b[0;36mQNode._execution_component\u001b[1;34m(self, args, kwargs)\u001b[0m\n\u001b[0;32m    932\u001b[0m interface \u001b[38;5;241m=\u001b[39m \u001b[38;5;28;01mNone\u001b[39;00m \u001b[38;5;28;01mif\u001b[39;00m \u001b[38;5;28mself\u001b[39m\u001b[38;5;241m.\u001b[39minterface \u001b[38;5;241m==\u001b[39m \u001b[38;5;124m\"\u001b[39m\u001b[38;5;124mnumpy\u001b[39m\u001b[38;5;124m\"\u001b[39m \u001b[38;5;28;01melse\u001b[39;00m \u001b[38;5;28mself\u001b[39m\u001b[38;5;241m.\u001b[39minterface\n\u001b[0;32m    934\u001b[0m \u001b[38;5;66;03m# pylint: disable=unexpected-keyword-arg\u001b[39;00m\n\u001b[1;32m--> 935\u001b[0m res \u001b[38;5;241m=\u001b[39m \u001b[43mqml\u001b[49m\u001b[38;5;241;43m.\u001b[39;49m\u001b[43mexecute\u001b[49m\u001b[43m(\u001b[49m\n\u001b[0;32m    936\u001b[0m \u001b[43m    \u001b[49m\u001b[43m(\u001b[49m\u001b[38;5;28;43mself\u001b[39;49m\u001b[38;5;241;43m.\u001b[39;49m\u001b[43m_tape\u001b[49m\u001b[43m,\u001b[49m\u001b[43m)\u001b[49m\u001b[43m,\u001b[49m\n\u001b[0;32m    937\u001b[0m \u001b[43m    \u001b[49m\u001b[43mdevice\u001b[49m\u001b[38;5;241;43m=\u001b[39;49m\u001b[38;5;28;43mself\u001b[39;49m\u001b[38;5;241;43m.\u001b[39;49m\u001b[43mdevice\u001b[49m\u001b[43m,\u001b[49m\n\u001b[0;32m    938\u001b[0m \u001b[43m    \u001b[49m\u001b[43mgradient_fn\u001b[49m\u001b[38;5;241;43m=\u001b[39;49m\u001b[43mgradient_fn\u001b[49m\u001b[43m,\u001b[49m\n\u001b[0;32m    939\u001b[0m \u001b[43m    \u001b[49m\u001b[43minterface\u001b[49m\u001b[38;5;241;43m=\u001b[39;49m\u001b[43minterface\u001b[49m\u001b[43m,\u001b[49m\n\u001b[0;32m    940\u001b[0m \u001b[43m    \u001b[49m\u001b[43mtransform_program\u001b[49m\u001b[38;5;241;43m=\u001b[39;49m\u001b[43mfull_transform_program\u001b[49m\u001b[43m,\u001b[49m\n\u001b[0;32m    941\u001b[0m \u001b[43m    \u001b[49m\u001b[43minner_transform\u001b[49m\u001b[38;5;241;43m=\u001b[39;49m\u001b[43minner_transform_program\u001b[49m\u001b[43m,\u001b[49m\n\u001b[0;32m    942\u001b[0m \u001b[43m    \u001b[49m\u001b[43mconfig\u001b[49m\u001b[38;5;241;43m=\u001b[39;49m\u001b[43mconfig\u001b[49m\u001b[43m,\u001b[49m\n\u001b[0;32m    943\u001b[0m \u001b[43m    \u001b[49m\u001b[43mgradient_kwargs\u001b[49m\u001b[38;5;241;43m=\u001b[39;49m\u001b[43mgradient_kwargs\u001b[49m\u001b[43m,\u001b[49m\n\u001b[0;32m    944\u001b[0m \u001b[43m    \u001b[49m\u001b[38;5;241;43m*\u001b[39;49m\u001b[38;5;241;43m*\u001b[39;49m\u001b[43mexecute_kwargs\u001b[49m\u001b[43m,\u001b[49m\n\u001b[0;32m    945\u001b[0m \u001b[43m\u001b[49m\u001b[43m)\u001b[49m\n\u001b[0;32m    946\u001b[0m res \u001b[38;5;241m=\u001b[39m res[\u001b[38;5;241m0\u001b[39m]\n\u001b[0;32m    948\u001b[0m \u001b[38;5;66;03m# convert result to the interface in case the qfunc has no parameters\u001b[39;00m\n",
      "File \u001b[1;32mc:\\Users\\bouch\\AppData\\Local\\Programs\\Python\\Python312\\Lib\\site-packages\\pennylane\\workflow\\execution.py:523\u001b[0m, in \u001b[0;36mexecute\u001b[1;34m(tapes, device, gradient_fn, interface, transform_program, inner_transform, config, grad_on_execution, gradient_kwargs, cache, cachesize, max_diff, device_vjp, mcm_config)\u001b[0m\n\u001b[0;32m    521\u001b[0m \u001b[38;5;66;03m# Exiting early if we do not need to deal with an interface boundary\u001b[39;00m\n\u001b[0;32m    522\u001b[0m \u001b[38;5;28;01mif\u001b[39;00m no_interface_boundary_required:\n\u001b[1;32m--> 523\u001b[0m     results \u001b[38;5;241m=\u001b[39m \u001b[43minner_execute\u001b[49m\u001b[43m(\u001b[49m\u001b[43mtapes\u001b[49m\u001b[43m)\u001b[49m\n\u001b[0;32m    524\u001b[0m     \u001b[38;5;28;01mreturn\u001b[39;00m post_processing(results)\n\u001b[0;32m    526\u001b[0m \u001b[38;5;28;01mif\u001b[39;00m config\u001b[38;5;241m.\u001b[39muse_device_jacobian_product \u001b[38;5;129;01mand\u001b[39;00m interface \u001b[38;5;129;01min\u001b[39;00m jpc_interfaces:\n",
      "File \u001b[1;32mc:\\Users\\bouch\\AppData\\Local\\Programs\\Python\\Python312\\Lib\\site-packages\\pennylane\\workflow\\execution.py:202\u001b[0m, in \u001b[0;36m_make_inner_execute.<locals>.inner_execute\u001b[1;34m(tapes, **_)\u001b[0m\n\u001b[0;32m    199\u001b[0m transformed_tapes, transform_post_processing \u001b[38;5;241m=\u001b[39m transform_program(tapes)\n\u001b[0;32m    201\u001b[0m \u001b[38;5;28;01mif\u001b[39;00m transformed_tapes:\n\u001b[1;32m--> 202\u001b[0m     results \u001b[38;5;241m=\u001b[39m \u001b[43mdevice\u001b[49m\u001b[38;5;241;43m.\u001b[39;49m\u001b[43mexecute\u001b[49m\u001b[43m(\u001b[49m\u001b[43mtransformed_tapes\u001b[49m\u001b[43m,\u001b[49m\u001b[43m \u001b[49m\u001b[43mexecution_config\u001b[49m\u001b[38;5;241;43m=\u001b[39;49m\u001b[43mexecution_config\u001b[49m\u001b[43m)\u001b[49m\n\u001b[0;32m    203\u001b[0m \u001b[38;5;28;01melse\u001b[39;00m:\n\u001b[0;32m    204\u001b[0m     results \u001b[38;5;241m=\u001b[39m ()\n",
      "File \u001b[1;32m~\\Desktop\\pennylane-snowflurry\\pennylane_snowflurry\\monarq_device.py:124\u001b[0m, in \u001b[0;36mMonarqDevice.execute\u001b[1;34m(self, circuits, execution_config)\u001b[0m\n\u001b[0;32m    120\u001b[0m \u001b[38;5;28;01melse\u001b[39;00m:\n\u001b[0;32m    121\u001b[0m     \u001b[38;5;66;03m# Fallback or default behavior if execution_config is not an instance of ExecutionConfig\u001b[39;00m\n\u001b[0;32m    122\u001b[0m     interface \u001b[38;5;241m=\u001b[39m \u001b[38;5;28;01mNone\u001b[39;00m\n\u001b[1;32m--> 124\u001b[0m results \u001b[38;5;241m=\u001b[39m [\u001b[38;5;28;43mself\u001b[39;49m\u001b[38;5;241;43m.\u001b[39;49m\u001b[43m_measure\u001b[49m\u001b[43m(\u001b[49m\u001b[43mtape\u001b[49m\u001b[43m)\u001b[49m \u001b[38;5;28;01mfor\u001b[39;00m tape \u001b[38;5;129;01min\u001b[39;00m circuits]\n\u001b[0;32m    125\u001b[0m \u001b[38;5;28;01mreturn\u001b[39;00m results \u001b[38;5;28;01mif\u001b[39;00m \u001b[38;5;129;01mnot\u001b[39;00m is_single_circuit \u001b[38;5;28;01melse\u001b[39;00m results[\u001b[38;5;241m0\u001b[39m]\n",
      "File \u001b[1;32m~\\Desktop\\pennylane-snowflurry\\pennylane_snowflurry\\monarq_device.py:133\u001b[0m, in \u001b[0;36mMonarqDevice._measure\u001b[1;34m(self, tape)\u001b[0m\n\u001b[0;32m    131\u001b[0m meas \u001b[38;5;241m=\u001b[39m tape\u001b[38;5;241m.\u001b[39mmeasurements[\u001b[38;5;241m0\u001b[39m]\n\u001b[0;32m    132\u001b[0m \u001b[38;5;28;01mif\u001b[39;00m \u001b[38;5;28misinstance\u001b[39m(meas, measurements\u001b[38;5;241m.\u001b[39mCountsMP):\n\u001b[1;32m--> 133\u001b[0m     \u001b[38;5;28;01mreturn\u001b[39;00m \u001b[43mMonarqCounts\u001b[49m\u001b[43m(\u001b[49m\u001b[43m)\u001b[49m\u001b[38;5;241;43m.\u001b[39;49m\u001b[43mmeasure\u001b[49m\u001b[43m(\u001b[49m\u001b[43mtape\u001b[49m\u001b[43m)\u001b[49m\n\u001b[0;32m    134\u001b[0m \u001b[38;5;28;01melif\u001b[39;00m \u001b[38;5;28misinstance\u001b[39m(meas, measurements\u001b[38;5;241m.\u001b[39mSampleMP):\n\u001b[0;32m    135\u001b[0m     \u001b[38;5;28;01mreturn\u001b[39;00m MonarqSample()\u001b[38;5;241m.\u001b[39mmeasure(tape)\n",
      "File \u001b[1;32m~\\Desktop\\pennylane-snowflurry\\pennylane_snowflurry\\measurements\\monarq_device\\counts.py:6\u001b[0m, in \u001b[0;36mCounts.measure\u001b[1;34m(self, tape)\u001b[0m\n\u001b[0;32m      5\u001b[0m \u001b[38;5;28;01mdef\u001b[39;00m \u001b[38;5;21mmeasure\u001b[39m(\u001b[38;5;28mself\u001b[39m, tape : QuantumTape) \u001b[38;5;241m-\u001b[39m\u001b[38;5;241m>\u001b[39m \u001b[38;5;28mdict\u001b[39m:\n\u001b[1;32m----> 6\u001b[0m     \u001b[38;5;28;01mreturn\u001b[39;00m \u001b[43mJob\u001b[49m\u001b[43m(\u001b[49m\u001b[43mtape\u001b[49m\u001b[43m)\u001b[49m\u001b[38;5;241;43m.\u001b[39;49m\u001b[43mrun\u001b[49m\u001b[43m(\u001b[49m\u001b[43m)\u001b[49m\n",
      "File \u001b[1;32m~\\Desktop\\pennylane-snowflurry\\pennylane_snowflurry\\API\\api_job.py:41\u001b[0m, in \u001b[0;36mJob.run\u001b[1;34m(self, max_tries)\u001b[0m\n\u001b[0;32m     39\u001b[0m job_id \u001b[38;5;241m=\u001b[39m json\u001b[38;5;241m.\u001b[39mloads(response\u001b[38;5;241m.\u001b[39mtext)[\u001b[38;5;124m\"\u001b[39m\u001b[38;5;124mjob\u001b[39m\u001b[38;5;124m\"\u001b[39m][\u001b[38;5;124m\"\u001b[39m\u001b[38;5;124mid\u001b[39m\u001b[38;5;124m\"\u001b[39m]\n\u001b[0;32m     40\u001b[0m \u001b[38;5;28;01mfor\u001b[39;00m i \u001b[38;5;129;01min\u001b[39;00m \u001b[38;5;28mrange\u001b[39m(max_tries):\n\u001b[1;32m---> 41\u001b[0m     \u001b[43mtime\u001b[49m\u001b[38;5;241;43m.\u001b[39;49m\u001b[43msleep\u001b[49m\u001b[43m(\u001b[49m\u001b[38;5;241;43m0.2\u001b[39;49m\u001b[43m)\u001b[49m\n\u001b[0;32m     42\u001b[0m     response \u001b[38;5;241m=\u001b[39m ApiAdapter\u001b[38;5;241m.\u001b[39mjob_by_id(job_id)\n\u001b[0;32m     44\u001b[0m     \u001b[38;5;28;01mif\u001b[39;00m response\u001b[38;5;241m.\u001b[39mstatus_code \u001b[38;5;241m!=\u001b[39m \u001b[38;5;241m200\u001b[39m: \n",
      "\u001b[1;31mKeyboardInterrupt\u001b[0m: "
     ]
    },
    {
     "name": "stderr",
     "output_type": "stream",
     "text": [
      "[IPKernelApp] ERROR | Exception in control handler:\n",
      "Traceback (most recent call last):\n",
      "  File \"C:\\Users\\bouch\\AppData\\Roaming\\Python\\Python312\\site-packages\\ipykernel\\kernelbase.py\", line 362, in process_control\n",
      "    await result\n",
      "  File \"C:\\Users\\bouch\\AppData\\Roaming\\Python\\Python312\\site-packages\\ipykernel\\kernelbase.py\", line 1039, in debug_request\n",
      "    reply_content = await reply_content\n",
      "                    ^^^^^^^^^^^^^^^^^^^\n",
      "  File \"C:\\Users\\bouch\\AppData\\Roaming\\Python\\Python312\\site-packages\\ipykernel\\ipkernel.py\", line 533, in do_debug_request\n",
      "    return await self.debugger.process_request(msg)\n",
      "           ^^^^^^^^^^^^^^^^^^^^^^^^^^^^^^^^^^^^^^^^\n",
      "  File \"C:\\Users\\bouch\\AppData\\Roaming\\Python\\Python312\\site-packages\\ipykernel\\debugger.py\", line 735, in process_request\n",
      "    reply = await handler(message)\n",
      "            ^^^^^^^^^^^^^^^^^^^^^^\n",
      "  File \"C:\\Users\\bouch\\AppData\\Roaming\\Python\\Python312\\site-packages\\ipykernel\\debugger.py\", line 561, in variables\n",
      "    var for var in reply[\"body\"][\"variables\"] if self.accept_variable(var[\"name\"])\n",
      "                   ~~~~~^^^^^^^^\n",
      "KeyError: 'body'\n",
      "[IPKernelApp] ERROR | Exception in control handler:\n",
      "Traceback (most recent call last):\n",
      "  File \"C:\\Users\\bouch\\AppData\\Roaming\\Python\\Python312\\site-packages\\ipykernel\\kernelbase.py\", line 362, in process_control\n",
      "    await result\n",
      "  File \"C:\\Users\\bouch\\AppData\\Roaming\\Python\\Python312\\site-packages\\ipykernel\\kernelbase.py\", line 1039, in debug_request\n",
      "    reply_content = await reply_content\n",
      "                    ^^^^^^^^^^^^^^^^^^^\n",
      "  File \"C:\\Users\\bouch\\AppData\\Roaming\\Python\\Python312\\site-packages\\ipykernel\\ipkernel.py\", line 533, in do_debug_request\n",
      "    return await self.debugger.process_request(msg)\n",
      "           ^^^^^^^^^^^^^^^^^^^^^^^^^^^^^^^^^^^^^^^^\n",
      "  File \"C:\\Users\\bouch\\AppData\\Roaming\\Python\\Python312\\site-packages\\ipykernel\\debugger.py\", line 735, in process_request\n",
      "    reply = await handler(message)\n",
      "            ^^^^^^^^^^^^^^^^^^^^^^\n",
      "  File \"C:\\Users\\bouch\\AppData\\Roaming\\Python\\Python312\\site-packages\\ipykernel\\debugger.py\", line 561, in variables\n",
      "    var for var in reply[\"body\"][\"variables\"] if self.accept_variable(var[\"name\"])\n",
      "                   ~~~~~^^^^^^^^\n",
      "KeyError: 'body'\n"
     ]
    }
   ],
   "source": [
    "from pennylane_snowflurry.transpiler.transpiler_config import TranspilerConfig, MonarqDefaultConfig\n",
    "from pennylane_snowflurry.transpiler.steps.base_decomposition import CliffordTDecomposition\n",
    "from pennylane_snowflurry.transpiler.steps.routing import Swaps\n",
    "from pennylane_snowflurry.transpiler.steps.optimization import IterativeCommuteAndMerge\n",
    "from pennylane_snowflurry.transpiler.steps.native_decomposition import MonarqDecomposition\n",
    "\n",
    "# Load environment variables\n",
    "load_dotenv()\n",
    "HOST_ENV = os.getenv(\"HOST\")\n",
    "USER_ENV = os.getenv(\"USER\")\n",
    "ACCESS_TOKEN_ENV = os.getenv(\"ACCESS_TOKEN\")\n",
    "REALM_ENV = os.getenv(\"REALM\")\n",
    "\n",
    "s = '110'\n",
    "n_qubits = len(s)\n",
    "\n",
    "num_shots = 1000\n",
    "\n",
    "config = MonarqDefaultConfig()\n",
    "\n",
    "# Real device for measured result\n",
    "dev_sf = qml.device(\n",
    "    \"monarq.default\",\n",
    "    wires=n_qubits+1,\n",
    "    shots=num_shots,\n",
    "    host=HOST_ENV,\n",
    "    user=USER_ENV,\n",
    "    access_token=ACCESS_TOKEN_ENV,\n",
    "    project_name=\"\",\n",
    "    behaviour_config=config\n",
    "    #realm=REALM_ENV,\n",
    ")\n",
    "\n",
    "my_qubits = [4,0,1,8]\n",
    "\n",
    "@qml.qnode(dev_sf)\n",
    "def bernstein_vazirani(s):\n",
    "    # Étapes 1-2: Initialisation et superposition\n",
    "    for i in my_qubits[:3]:\n",
    "        qml.Hadamard(wires=i)\n",
    "\n",
    "    qml.PauliX(wires=my_qubits[n_qubits - 1])\n",
    "    qml.Hadamard(wires=my_qubits[n_qubits - 1])\n",
    "\n",
    "    # Étape 3 : Application de l'oracle pour la chaîne binaire s\n",
    "    for i, w in enumerate(my_qubits[:3]):\n",
    "        if s[i] == '1':\n",
    "            qml.CNOT(wires=[w, my_qubits[n_qubits - 1]])\n",
    "\n",
    "    # Étape 4 : Transformation Hadamard\n",
    "    for i in my_qubits:\n",
    "        qml.Hadamard(wires=i)\n",
    "\n",
    "    # Étape 5 : Mesure des qubits d'entrée\n",
    "    return qml.counts(wires=my_qubits[:3])\n",
    "\n",
    "\n",
    "\n",
    "# Exécuter le circuit avec la chaîne binaire s\n",
    "result = bernstein_vazirani(s)\n",
    "print(bernstein_vazirani.tape.wires)\n",
    "\n",
    "\n"
   ]
  },
  {
   "cell_type": "code",
   "execution_count": 13,
   "metadata": {},
   "outputs": [
    {
     "name": "stdout",
     "output_type": "stream",
     "text": [
      "{'000': 91, '001': 64, '010': 168, '011': 64, '100': 152, '101': 69, '110': 307, '111': 85}\n"
     ]
    }
   ],
   "source": [
    "print(result)"
   ]
  },
  {
   "cell_type": "code",
   "execution_count": 9,
   "metadata": {},
   "outputs": [
    {
     "data": {
      "image/png": "[encoded data removed]",
      "text/plain": [
       "<Figure size 1000x500 with 1 Axes>"
      ]
     },
     "metadata": {},
     "output_type": "display_data"
    }
   ],
   "source": [
    "labels = list(result.keys())\n",
    "values = list(result.values())\n",
    "\n",
    "plt.figure(figsize=(10, 5))\n",
    "plt.bar(labels, values)\n",
    "plt.xlabel('Bit String Result')\n",
    "plt.ylabel('Counts')\n",
    "plt.title('title')\n",
    "plt.xticks(rotation=45)\n",
    "plt.grid(axis='y')\n",
    "plt.tight_layout()\n",
    "plt.show()"
   ]
  }
 ],
 "metadata": {
  "kernelspec": {
   "display_name": "Python 3",
   "language": "python",
   "name": "python3"
  },
  "language_info": {
   "codemirror_mode": {
    "name": "ipython",
    "version": 3
   },
   "file_extension": ".py",
   "mimetype": "text/x-python",
   "name": "python",
   "nbconvert_exporter": "python",
   "pygments_lexer": "ipython3",
   "version": "3.12.5"
  }
 },
 "nbformat": 4,
 "nbformat_minor": 2
}
